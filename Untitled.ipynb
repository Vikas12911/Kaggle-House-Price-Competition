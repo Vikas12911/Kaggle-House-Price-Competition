{
 "cells": [
  {
   "cell_type": "code",
   "execution_count": 130,
   "metadata": {},
   "outputs": [],
   "source": [
    "import pandas as pd\n",
    "import numpy as np\n",
    "import xgboost\n",
    "from sklearn.svm import SVR\n",
    "from lightgbm import LGBMRegressor\n",
    "from mlxtend.regressor import StackingRegressor\n",
    "from sklearn.model_selection import GridSearchCV,RandomizedSearchCV\n",
    "from sklearn.preprocessing import StandardScaler\n",
    "from sklearn.metrics import mean_squared_error,make_scorer,mean_absolute_error\n",
    "import pickle"
   ]
  },
  {
   "cell_type": "code",
   "execution_count": 105,
   "metadata": {},
   "outputs": [
    {
     "data": {
      "text/html": [
       "<div>\n",
       "<style scoped>\n",
       "    .dataframe tbody tr th:only-of-type {\n",
       "        vertical-align: middle;\n",
       "    }\n",
       "\n",
       "    .dataframe tbody tr th {\n",
       "        vertical-align: top;\n",
       "    }\n",
       "\n",
       "    .dataframe thead th {\n",
       "        text-align: right;\n",
       "    }\n",
       "</style>\n",
       "<table border=\"1\" class=\"dataframe\">\n",
       "  <thead>\n",
       "    <tr style=\"text-align: right;\">\n",
       "      <th></th>\n",
       "      <th>Id</th>\n",
       "      <th>MSSubClass</th>\n",
       "      <th>MSZoning</th>\n",
       "      <th>LotFrontage</th>\n",
       "      <th>LotArea</th>\n",
       "      <th>Street</th>\n",
       "      <th>Alley</th>\n",
       "      <th>LotShape</th>\n",
       "      <th>LandContour</th>\n",
       "      <th>Utilities</th>\n",
       "      <th>LotConfig</th>\n",
       "      <th>LandSlope</th>\n",
       "      <th>Neighborhood</th>\n",
       "      <th>Condition1</th>\n",
       "      <th>Condition2</th>\n",
       "      <th>BldgType</th>\n",
       "      <th>HouseStyle</th>\n",
       "      <th>OverallQual</th>\n",
       "      <th>OverallCond</th>\n",
       "      <th>YearBuilt</th>\n",
       "      <th>YearRemodAdd</th>\n",
       "      <th>RoofStyle</th>\n",
       "      <th>RoofMatl</th>\n",
       "      <th>Exterior1st</th>\n",
       "      <th>Exterior2nd</th>\n",
       "      <th>MasVnrType</th>\n",
       "      <th>MasVnrArea</th>\n",
       "      <th>ExterQual</th>\n",
       "      <th>ExterCond</th>\n",
       "      <th>Foundation</th>\n",
       "      <th>BsmtQual</th>\n",
       "      <th>BsmtCond</th>\n",
       "      <th>BsmtExposure</th>\n",
       "      <th>BsmtFinType1</th>\n",
       "      <th>BsmtFinSF1</th>\n",
       "      <th>BsmtFinType2</th>\n",
       "      <th>BsmtFinSF2</th>\n",
       "      <th>BsmtUnfSF</th>\n",
       "      <th>TotalBsmtSF</th>\n",
       "      <th>Heating</th>\n",
       "      <th>HeatingQC</th>\n",
       "      <th>CentralAir</th>\n",
       "      <th>Electrical</th>\n",
       "      <th>1stFlrSF</th>\n",
       "      <th>2ndFlrSF</th>\n",
       "      <th>LowQualFinSF</th>\n",
       "      <th>GrLivArea</th>\n",
       "      <th>BsmtFullBath</th>\n",
       "      <th>BsmtHalfBath</th>\n",
       "      <th>FullBath</th>\n",
       "      <th>HalfBath</th>\n",
       "      <th>BedroomAbvGr</th>\n",
       "      <th>KitchenAbvGr</th>\n",
       "      <th>KitchenQual</th>\n",
       "      <th>TotRmsAbvGrd</th>\n",
       "      <th>Functional</th>\n",
       "      <th>Fireplaces</th>\n",
       "      <th>FireplaceQu</th>\n",
       "      <th>GarageType</th>\n",
       "      <th>GarageYrBlt</th>\n",
       "      <th>GarageFinish</th>\n",
       "      <th>GarageCars</th>\n",
       "      <th>GarageArea</th>\n",
       "      <th>GarageQual</th>\n",
       "      <th>GarageCond</th>\n",
       "      <th>PavedDrive</th>\n",
       "      <th>WoodDeckSF</th>\n",
       "      <th>OpenPorchSF</th>\n",
       "      <th>EnclosedPorch</th>\n",
       "      <th>3SsnPorch</th>\n",
       "      <th>ScreenPorch</th>\n",
       "      <th>PoolArea</th>\n",
       "      <th>PoolQC</th>\n",
       "      <th>Fence</th>\n",
       "      <th>MiscFeature</th>\n",
       "      <th>MiscVal</th>\n",
       "      <th>MoSold</th>\n",
       "      <th>YrSold</th>\n",
       "      <th>SaleType</th>\n",
       "      <th>SaleCondition</th>\n",
       "      <th>SalePrice</th>\n",
       "    </tr>\n",
       "  </thead>\n",
       "  <tbody>\n",
       "    <tr>\n",
       "      <th>1455</th>\n",
       "      <td>1456</td>\n",
       "      <td>60</td>\n",
       "      <td>RL</td>\n",
       "      <td>62.0</td>\n",
       "      <td>7917</td>\n",
       "      <td>Pave</td>\n",
       "      <td>NaN</td>\n",
       "      <td>Reg</td>\n",
       "      <td>Lvl</td>\n",
       "      <td>AllPub</td>\n",
       "      <td>Inside</td>\n",
       "      <td>Gtl</td>\n",
       "      <td>Gilbert</td>\n",
       "      <td>Norm</td>\n",
       "      <td>Norm</td>\n",
       "      <td>1Fam</td>\n",
       "      <td>2Story</td>\n",
       "      <td>6</td>\n",
       "      <td>5</td>\n",
       "      <td>1999</td>\n",
       "      <td>2000</td>\n",
       "      <td>Gable</td>\n",
       "      <td>CompShg</td>\n",
       "      <td>VinylSd</td>\n",
       "      <td>VinylSd</td>\n",
       "      <td>None</td>\n",
       "      <td>0.0</td>\n",
       "      <td>TA</td>\n",
       "      <td>TA</td>\n",
       "      <td>PConc</td>\n",
       "      <td>Gd</td>\n",
       "      <td>TA</td>\n",
       "      <td>No</td>\n",
       "      <td>Unf</td>\n",
       "      <td>0</td>\n",
       "      <td>Unf</td>\n",
       "      <td>0</td>\n",
       "      <td>953</td>\n",
       "      <td>953</td>\n",
       "      <td>GasA</td>\n",
       "      <td>Ex</td>\n",
       "      <td>Y</td>\n",
       "      <td>SBrkr</td>\n",
       "      <td>953</td>\n",
       "      <td>694</td>\n",
       "      <td>0</td>\n",
       "      <td>1647</td>\n",
       "      <td>0</td>\n",
       "      <td>0</td>\n",
       "      <td>2</td>\n",
       "      <td>1</td>\n",
       "      <td>3</td>\n",
       "      <td>1</td>\n",
       "      <td>TA</td>\n",
       "      <td>7</td>\n",
       "      <td>Typ</td>\n",
       "      <td>1</td>\n",
       "      <td>TA</td>\n",
       "      <td>Attchd</td>\n",
       "      <td>1999.0</td>\n",
       "      <td>RFn</td>\n",
       "      <td>2</td>\n",
       "      <td>460</td>\n",
       "      <td>TA</td>\n",
       "      <td>TA</td>\n",
       "      <td>Y</td>\n",
       "      <td>0</td>\n",
       "      <td>40</td>\n",
       "      <td>0</td>\n",
       "      <td>0</td>\n",
       "      <td>0</td>\n",
       "      <td>0</td>\n",
       "      <td>NaN</td>\n",
       "      <td>NaN</td>\n",
       "      <td>NaN</td>\n",
       "      <td>0</td>\n",
       "      <td>8</td>\n",
       "      <td>2007</td>\n",
       "      <td>WD</td>\n",
       "      <td>Normal</td>\n",
       "      <td>175000</td>\n",
       "    </tr>\n",
       "    <tr>\n",
       "      <th>1456</th>\n",
       "      <td>1457</td>\n",
       "      <td>20</td>\n",
       "      <td>RL</td>\n",
       "      <td>85.0</td>\n",
       "      <td>13175</td>\n",
       "      <td>Pave</td>\n",
       "      <td>NaN</td>\n",
       "      <td>Reg</td>\n",
       "      <td>Lvl</td>\n",
       "      <td>AllPub</td>\n",
       "      <td>Inside</td>\n",
       "      <td>Gtl</td>\n",
       "      <td>NWAmes</td>\n",
       "      <td>Norm</td>\n",
       "      <td>Norm</td>\n",
       "      <td>1Fam</td>\n",
       "      <td>1Story</td>\n",
       "      <td>6</td>\n",
       "      <td>6</td>\n",
       "      <td>1978</td>\n",
       "      <td>1988</td>\n",
       "      <td>Gable</td>\n",
       "      <td>CompShg</td>\n",
       "      <td>Plywood</td>\n",
       "      <td>Plywood</td>\n",
       "      <td>Stone</td>\n",
       "      <td>119.0</td>\n",
       "      <td>TA</td>\n",
       "      <td>TA</td>\n",
       "      <td>CBlock</td>\n",
       "      <td>Gd</td>\n",
       "      <td>TA</td>\n",
       "      <td>No</td>\n",
       "      <td>ALQ</td>\n",
       "      <td>790</td>\n",
       "      <td>Rec</td>\n",
       "      <td>163</td>\n",
       "      <td>589</td>\n",
       "      <td>1542</td>\n",
       "      <td>GasA</td>\n",
       "      <td>TA</td>\n",
       "      <td>Y</td>\n",
       "      <td>SBrkr</td>\n",
       "      <td>2073</td>\n",
       "      <td>0</td>\n",
       "      <td>0</td>\n",
       "      <td>2073</td>\n",
       "      <td>1</td>\n",
       "      <td>0</td>\n",
       "      <td>2</td>\n",
       "      <td>0</td>\n",
       "      <td>3</td>\n",
       "      <td>1</td>\n",
       "      <td>TA</td>\n",
       "      <td>7</td>\n",
       "      <td>Min1</td>\n",
       "      <td>2</td>\n",
       "      <td>TA</td>\n",
       "      <td>Attchd</td>\n",
       "      <td>1978.0</td>\n",
       "      <td>Unf</td>\n",
       "      <td>2</td>\n",
       "      <td>500</td>\n",
       "      <td>TA</td>\n",
       "      <td>TA</td>\n",
       "      <td>Y</td>\n",
       "      <td>349</td>\n",
       "      <td>0</td>\n",
       "      <td>0</td>\n",
       "      <td>0</td>\n",
       "      <td>0</td>\n",
       "      <td>0</td>\n",
       "      <td>NaN</td>\n",
       "      <td>MnPrv</td>\n",
       "      <td>NaN</td>\n",
       "      <td>0</td>\n",
       "      <td>2</td>\n",
       "      <td>2010</td>\n",
       "      <td>WD</td>\n",
       "      <td>Normal</td>\n",
       "      <td>210000</td>\n",
       "    </tr>\n",
       "    <tr>\n",
       "      <th>1457</th>\n",
       "      <td>1458</td>\n",
       "      <td>70</td>\n",
       "      <td>RL</td>\n",
       "      <td>66.0</td>\n",
       "      <td>9042</td>\n",
       "      <td>Pave</td>\n",
       "      <td>NaN</td>\n",
       "      <td>Reg</td>\n",
       "      <td>Lvl</td>\n",
       "      <td>AllPub</td>\n",
       "      <td>Inside</td>\n",
       "      <td>Gtl</td>\n",
       "      <td>Crawfor</td>\n",
       "      <td>Norm</td>\n",
       "      <td>Norm</td>\n",
       "      <td>1Fam</td>\n",
       "      <td>2Story</td>\n",
       "      <td>7</td>\n",
       "      <td>9</td>\n",
       "      <td>1941</td>\n",
       "      <td>2006</td>\n",
       "      <td>Gable</td>\n",
       "      <td>CompShg</td>\n",
       "      <td>CemntBd</td>\n",
       "      <td>CmentBd</td>\n",
       "      <td>None</td>\n",
       "      <td>0.0</td>\n",
       "      <td>Ex</td>\n",
       "      <td>Gd</td>\n",
       "      <td>Stone</td>\n",
       "      <td>TA</td>\n",
       "      <td>Gd</td>\n",
       "      <td>No</td>\n",
       "      <td>GLQ</td>\n",
       "      <td>275</td>\n",
       "      <td>Unf</td>\n",
       "      <td>0</td>\n",
       "      <td>877</td>\n",
       "      <td>1152</td>\n",
       "      <td>GasA</td>\n",
       "      <td>Ex</td>\n",
       "      <td>Y</td>\n",
       "      <td>SBrkr</td>\n",
       "      <td>1188</td>\n",
       "      <td>1152</td>\n",
       "      <td>0</td>\n",
       "      <td>2340</td>\n",
       "      <td>0</td>\n",
       "      <td>0</td>\n",
       "      <td>2</td>\n",
       "      <td>0</td>\n",
       "      <td>4</td>\n",
       "      <td>1</td>\n",
       "      <td>Gd</td>\n",
       "      <td>9</td>\n",
       "      <td>Typ</td>\n",
       "      <td>2</td>\n",
       "      <td>Gd</td>\n",
       "      <td>Attchd</td>\n",
       "      <td>1941.0</td>\n",
       "      <td>RFn</td>\n",
       "      <td>1</td>\n",
       "      <td>252</td>\n",
       "      <td>TA</td>\n",
       "      <td>TA</td>\n",
       "      <td>Y</td>\n",
       "      <td>0</td>\n",
       "      <td>60</td>\n",
       "      <td>0</td>\n",
       "      <td>0</td>\n",
       "      <td>0</td>\n",
       "      <td>0</td>\n",
       "      <td>NaN</td>\n",
       "      <td>GdPrv</td>\n",
       "      <td>Shed</td>\n",
       "      <td>2500</td>\n",
       "      <td>5</td>\n",
       "      <td>2010</td>\n",
       "      <td>WD</td>\n",
       "      <td>Normal</td>\n",
       "      <td>266500</td>\n",
       "    </tr>\n",
       "    <tr>\n",
       "      <th>1458</th>\n",
       "      <td>1459</td>\n",
       "      <td>20</td>\n",
       "      <td>RL</td>\n",
       "      <td>68.0</td>\n",
       "      <td>9717</td>\n",
       "      <td>Pave</td>\n",
       "      <td>NaN</td>\n",
       "      <td>Reg</td>\n",
       "      <td>Lvl</td>\n",
       "      <td>AllPub</td>\n",
       "      <td>Inside</td>\n",
       "      <td>Gtl</td>\n",
       "      <td>NAmes</td>\n",
       "      <td>Norm</td>\n",
       "      <td>Norm</td>\n",
       "      <td>1Fam</td>\n",
       "      <td>1Story</td>\n",
       "      <td>5</td>\n",
       "      <td>6</td>\n",
       "      <td>1950</td>\n",
       "      <td>1996</td>\n",
       "      <td>Hip</td>\n",
       "      <td>CompShg</td>\n",
       "      <td>MetalSd</td>\n",
       "      <td>MetalSd</td>\n",
       "      <td>None</td>\n",
       "      <td>0.0</td>\n",
       "      <td>TA</td>\n",
       "      <td>TA</td>\n",
       "      <td>CBlock</td>\n",
       "      <td>TA</td>\n",
       "      <td>TA</td>\n",
       "      <td>Mn</td>\n",
       "      <td>GLQ</td>\n",
       "      <td>49</td>\n",
       "      <td>Rec</td>\n",
       "      <td>1029</td>\n",
       "      <td>0</td>\n",
       "      <td>1078</td>\n",
       "      <td>GasA</td>\n",
       "      <td>Gd</td>\n",
       "      <td>Y</td>\n",
       "      <td>FuseA</td>\n",
       "      <td>1078</td>\n",
       "      <td>0</td>\n",
       "      <td>0</td>\n",
       "      <td>1078</td>\n",
       "      <td>1</td>\n",
       "      <td>0</td>\n",
       "      <td>1</td>\n",
       "      <td>0</td>\n",
       "      <td>2</td>\n",
       "      <td>1</td>\n",
       "      <td>Gd</td>\n",
       "      <td>5</td>\n",
       "      <td>Typ</td>\n",
       "      <td>0</td>\n",
       "      <td>NaN</td>\n",
       "      <td>Attchd</td>\n",
       "      <td>1950.0</td>\n",
       "      <td>Unf</td>\n",
       "      <td>1</td>\n",
       "      <td>240</td>\n",
       "      <td>TA</td>\n",
       "      <td>TA</td>\n",
       "      <td>Y</td>\n",
       "      <td>366</td>\n",
       "      <td>0</td>\n",
       "      <td>112</td>\n",
       "      <td>0</td>\n",
       "      <td>0</td>\n",
       "      <td>0</td>\n",
       "      <td>NaN</td>\n",
       "      <td>NaN</td>\n",
       "      <td>NaN</td>\n",
       "      <td>0</td>\n",
       "      <td>4</td>\n",
       "      <td>2010</td>\n",
       "      <td>WD</td>\n",
       "      <td>Normal</td>\n",
       "      <td>142125</td>\n",
       "    </tr>\n",
       "    <tr>\n",
       "      <th>1459</th>\n",
       "      <td>1460</td>\n",
       "      <td>20</td>\n",
       "      <td>RL</td>\n",
       "      <td>75.0</td>\n",
       "      <td>9937</td>\n",
       "      <td>Pave</td>\n",
       "      <td>NaN</td>\n",
       "      <td>Reg</td>\n",
       "      <td>Lvl</td>\n",
       "      <td>AllPub</td>\n",
       "      <td>Inside</td>\n",
       "      <td>Gtl</td>\n",
       "      <td>Edwards</td>\n",
       "      <td>Norm</td>\n",
       "      <td>Norm</td>\n",
       "      <td>1Fam</td>\n",
       "      <td>1Story</td>\n",
       "      <td>5</td>\n",
       "      <td>6</td>\n",
       "      <td>1965</td>\n",
       "      <td>1965</td>\n",
       "      <td>Gable</td>\n",
       "      <td>CompShg</td>\n",
       "      <td>HdBoard</td>\n",
       "      <td>HdBoard</td>\n",
       "      <td>None</td>\n",
       "      <td>0.0</td>\n",
       "      <td>Gd</td>\n",
       "      <td>TA</td>\n",
       "      <td>CBlock</td>\n",
       "      <td>TA</td>\n",
       "      <td>TA</td>\n",
       "      <td>No</td>\n",
       "      <td>BLQ</td>\n",
       "      <td>830</td>\n",
       "      <td>LwQ</td>\n",
       "      <td>290</td>\n",
       "      <td>136</td>\n",
       "      <td>1256</td>\n",
       "      <td>GasA</td>\n",
       "      <td>Gd</td>\n",
       "      <td>Y</td>\n",
       "      <td>SBrkr</td>\n",
       "      <td>1256</td>\n",
       "      <td>0</td>\n",
       "      <td>0</td>\n",
       "      <td>1256</td>\n",
       "      <td>1</td>\n",
       "      <td>0</td>\n",
       "      <td>1</td>\n",
       "      <td>1</td>\n",
       "      <td>3</td>\n",
       "      <td>1</td>\n",
       "      <td>TA</td>\n",
       "      <td>6</td>\n",
       "      <td>Typ</td>\n",
       "      <td>0</td>\n",
       "      <td>NaN</td>\n",
       "      <td>Attchd</td>\n",
       "      <td>1965.0</td>\n",
       "      <td>Fin</td>\n",
       "      <td>1</td>\n",
       "      <td>276</td>\n",
       "      <td>TA</td>\n",
       "      <td>TA</td>\n",
       "      <td>Y</td>\n",
       "      <td>736</td>\n",
       "      <td>68</td>\n",
       "      <td>0</td>\n",
       "      <td>0</td>\n",
       "      <td>0</td>\n",
       "      <td>0</td>\n",
       "      <td>NaN</td>\n",
       "      <td>NaN</td>\n",
       "      <td>NaN</td>\n",
       "      <td>0</td>\n",
       "      <td>6</td>\n",
       "      <td>2008</td>\n",
       "      <td>WD</td>\n",
       "      <td>Normal</td>\n",
       "      <td>147500</td>\n",
       "    </tr>\n",
       "  </tbody>\n",
       "</table>\n",
       "</div>"
      ],
      "text/plain": [
       "        Id  MSSubClass MSZoning  LotFrontage  LotArea Street Alley LotShape  \\\n",
       "1455  1456          60       RL         62.0     7917   Pave   NaN      Reg   \n",
       "1456  1457          20       RL         85.0    13175   Pave   NaN      Reg   \n",
       "1457  1458          70       RL         66.0     9042   Pave   NaN      Reg   \n",
       "1458  1459          20       RL         68.0     9717   Pave   NaN      Reg   \n",
       "1459  1460          20       RL         75.0     9937   Pave   NaN      Reg   \n",
       "\n",
       "     LandContour Utilities LotConfig LandSlope Neighborhood Condition1  \\\n",
       "1455         Lvl    AllPub    Inside       Gtl      Gilbert       Norm   \n",
       "1456         Lvl    AllPub    Inside       Gtl       NWAmes       Norm   \n",
       "1457         Lvl    AllPub    Inside       Gtl      Crawfor       Norm   \n",
       "1458         Lvl    AllPub    Inside       Gtl        NAmes       Norm   \n",
       "1459         Lvl    AllPub    Inside       Gtl      Edwards       Norm   \n",
       "\n",
       "     Condition2 BldgType HouseStyle  OverallQual  OverallCond  YearBuilt  \\\n",
       "1455       Norm     1Fam     2Story            6            5       1999   \n",
       "1456       Norm     1Fam     1Story            6            6       1978   \n",
       "1457       Norm     1Fam     2Story            7            9       1941   \n",
       "1458       Norm     1Fam     1Story            5            6       1950   \n",
       "1459       Norm     1Fam     1Story            5            6       1965   \n",
       "\n",
       "      YearRemodAdd RoofStyle RoofMatl Exterior1st Exterior2nd MasVnrType  \\\n",
       "1455          2000     Gable  CompShg     VinylSd     VinylSd       None   \n",
       "1456          1988     Gable  CompShg     Plywood     Plywood      Stone   \n",
       "1457          2006     Gable  CompShg     CemntBd     CmentBd       None   \n",
       "1458          1996       Hip  CompShg     MetalSd     MetalSd       None   \n",
       "1459          1965     Gable  CompShg     HdBoard     HdBoard       None   \n",
       "\n",
       "      MasVnrArea ExterQual ExterCond Foundation BsmtQual BsmtCond  \\\n",
       "1455         0.0        TA        TA      PConc       Gd       TA   \n",
       "1456       119.0        TA        TA     CBlock       Gd       TA   \n",
       "1457         0.0        Ex        Gd      Stone       TA       Gd   \n",
       "1458         0.0        TA        TA     CBlock       TA       TA   \n",
       "1459         0.0        Gd        TA     CBlock       TA       TA   \n",
       "\n",
       "     BsmtExposure BsmtFinType1  BsmtFinSF1 BsmtFinType2  BsmtFinSF2  \\\n",
       "1455           No          Unf           0          Unf           0   \n",
       "1456           No          ALQ         790          Rec         163   \n",
       "1457           No          GLQ         275          Unf           0   \n",
       "1458           Mn          GLQ          49          Rec        1029   \n",
       "1459           No          BLQ         830          LwQ         290   \n",
       "\n",
       "      BsmtUnfSF  TotalBsmtSF Heating HeatingQC CentralAir Electrical  \\\n",
       "1455        953          953    GasA        Ex          Y      SBrkr   \n",
       "1456        589         1542    GasA        TA          Y      SBrkr   \n",
       "1457        877         1152    GasA        Ex          Y      SBrkr   \n",
       "1458          0         1078    GasA        Gd          Y      FuseA   \n",
       "1459        136         1256    GasA        Gd          Y      SBrkr   \n",
       "\n",
       "      1stFlrSF  2ndFlrSF  LowQualFinSF  GrLivArea  BsmtFullBath  BsmtHalfBath  \\\n",
       "1455       953       694             0       1647             0             0   \n",
       "1456      2073         0             0       2073             1             0   \n",
       "1457      1188      1152             0       2340             0             0   \n",
       "1458      1078         0             0       1078             1             0   \n",
       "1459      1256         0             0       1256             1             0   \n",
       "\n",
       "      FullBath  HalfBath  BedroomAbvGr  KitchenAbvGr KitchenQual  \\\n",
       "1455         2         1             3             1          TA   \n",
       "1456         2         0             3             1          TA   \n",
       "1457         2         0             4             1          Gd   \n",
       "1458         1         0             2             1          Gd   \n",
       "1459         1         1             3             1          TA   \n",
       "\n",
       "      TotRmsAbvGrd Functional  Fireplaces FireplaceQu GarageType  GarageYrBlt  \\\n",
       "1455             7        Typ           1          TA     Attchd       1999.0   \n",
       "1456             7       Min1           2          TA     Attchd       1978.0   \n",
       "1457             9        Typ           2          Gd     Attchd       1941.0   \n",
       "1458             5        Typ           0         NaN     Attchd       1950.0   \n",
       "1459             6        Typ           0         NaN     Attchd       1965.0   \n",
       "\n",
       "     GarageFinish  GarageCars  GarageArea GarageQual GarageCond PavedDrive  \\\n",
       "1455          RFn           2         460         TA         TA          Y   \n",
       "1456          Unf           2         500         TA         TA          Y   \n",
       "1457          RFn           1         252         TA         TA          Y   \n",
       "1458          Unf           1         240         TA         TA          Y   \n",
       "1459          Fin           1         276         TA         TA          Y   \n",
       "\n",
       "      WoodDeckSF  OpenPorchSF  EnclosedPorch  3SsnPorch  ScreenPorch  \\\n",
       "1455           0           40              0          0            0   \n",
       "1456         349            0              0          0            0   \n",
       "1457           0           60              0          0            0   \n",
       "1458         366            0            112          0            0   \n",
       "1459         736           68              0          0            0   \n",
       "\n",
       "      PoolArea PoolQC  Fence MiscFeature  MiscVal  MoSold  YrSold SaleType  \\\n",
       "1455         0    NaN    NaN         NaN        0       8    2007       WD   \n",
       "1456         0    NaN  MnPrv         NaN        0       2    2010       WD   \n",
       "1457         0    NaN  GdPrv        Shed     2500       5    2010       WD   \n",
       "1458         0    NaN    NaN         NaN        0       4    2010       WD   \n",
       "1459         0    NaN    NaN         NaN        0       6    2008       WD   \n",
       "\n",
       "     SaleCondition  SalePrice  \n",
       "1455        Normal     175000  \n",
       "1456        Normal     210000  \n",
       "1457        Normal     266500  \n",
       "1458        Normal     142125  \n",
       "1459        Normal     147500  "
      ]
     },
     "execution_count": 105,
     "metadata": {},
     "output_type": "execute_result"
    }
   ],
   "source": [
    "train=pd.read_csv(\"train.csv\")\n",
    "test=pd.read_csv(\"test.csv\")\n",
    "pd.set_option(\"display.max.columns\",None)\n",
    "pd.set_option(\"display.precision\",2)\n",
    "train.tail()"
   ]
  },
  {
   "cell_type": "code",
   "execution_count": 106,
   "metadata": {},
   "outputs": [
    {
     "data": {
      "text/html": [
       "<div>\n",
       "<style scoped>\n",
       "    .dataframe tbody tr th:only-of-type {\n",
       "        vertical-align: middle;\n",
       "    }\n",
       "\n",
       "    .dataframe tbody tr th {\n",
       "        vertical-align: top;\n",
       "    }\n",
       "\n",
       "    .dataframe thead th {\n",
       "        text-align: right;\n",
       "    }\n",
       "</style>\n",
       "<table border=\"1\" class=\"dataframe\">\n",
       "  <thead>\n",
       "    <tr style=\"text-align: right;\">\n",
       "      <th></th>\n",
       "      <th>Id</th>\n",
       "      <th>MSSubClass</th>\n",
       "      <th>MSZoning</th>\n",
       "      <th>LotFrontage</th>\n",
       "      <th>LotArea</th>\n",
       "      <th>Street</th>\n",
       "      <th>Alley</th>\n",
       "      <th>LotShape</th>\n",
       "      <th>LandContour</th>\n",
       "      <th>Utilities</th>\n",
       "      <th>LotConfig</th>\n",
       "      <th>LandSlope</th>\n",
       "      <th>Neighborhood</th>\n",
       "      <th>Condition1</th>\n",
       "      <th>Condition2</th>\n",
       "      <th>BldgType</th>\n",
       "      <th>HouseStyle</th>\n",
       "      <th>OverallQual</th>\n",
       "      <th>OverallCond</th>\n",
       "      <th>YearBuilt</th>\n",
       "      <th>YearRemodAdd</th>\n",
       "      <th>RoofStyle</th>\n",
       "      <th>RoofMatl</th>\n",
       "      <th>Exterior1st</th>\n",
       "      <th>Exterior2nd</th>\n",
       "      <th>MasVnrType</th>\n",
       "      <th>MasVnrArea</th>\n",
       "      <th>ExterQual</th>\n",
       "      <th>ExterCond</th>\n",
       "      <th>Foundation</th>\n",
       "      <th>BsmtQual</th>\n",
       "      <th>BsmtCond</th>\n",
       "      <th>BsmtExposure</th>\n",
       "      <th>BsmtFinType1</th>\n",
       "      <th>BsmtFinSF1</th>\n",
       "      <th>BsmtFinType2</th>\n",
       "      <th>BsmtFinSF2</th>\n",
       "      <th>BsmtUnfSF</th>\n",
       "      <th>TotalBsmtSF</th>\n",
       "      <th>Heating</th>\n",
       "      <th>HeatingQC</th>\n",
       "      <th>CentralAir</th>\n",
       "      <th>Electrical</th>\n",
       "      <th>1stFlrSF</th>\n",
       "      <th>2ndFlrSF</th>\n",
       "      <th>LowQualFinSF</th>\n",
       "      <th>GrLivArea</th>\n",
       "      <th>BsmtFullBath</th>\n",
       "      <th>BsmtHalfBath</th>\n",
       "      <th>FullBath</th>\n",
       "      <th>HalfBath</th>\n",
       "      <th>BedroomAbvGr</th>\n",
       "      <th>KitchenAbvGr</th>\n",
       "      <th>KitchenQual</th>\n",
       "      <th>TotRmsAbvGrd</th>\n",
       "      <th>Functional</th>\n",
       "      <th>Fireplaces</th>\n",
       "      <th>FireplaceQu</th>\n",
       "      <th>GarageType</th>\n",
       "      <th>GarageYrBlt</th>\n",
       "      <th>GarageFinish</th>\n",
       "      <th>GarageCars</th>\n",
       "      <th>GarageArea</th>\n",
       "      <th>GarageQual</th>\n",
       "      <th>GarageCond</th>\n",
       "      <th>PavedDrive</th>\n",
       "      <th>WoodDeckSF</th>\n",
       "      <th>OpenPorchSF</th>\n",
       "      <th>EnclosedPorch</th>\n",
       "      <th>3SsnPorch</th>\n",
       "      <th>ScreenPorch</th>\n",
       "      <th>PoolArea</th>\n",
       "      <th>PoolQC</th>\n",
       "      <th>Fence</th>\n",
       "      <th>MiscFeature</th>\n",
       "      <th>MiscVal</th>\n",
       "      <th>MoSold</th>\n",
       "      <th>YrSold</th>\n",
       "      <th>SaleType</th>\n",
       "      <th>SaleCondition</th>\n",
       "    </tr>\n",
       "  </thead>\n",
       "  <tbody>\n",
       "    <tr>\n",
       "      <th>1455</th>\n",
       "      <td>1456</td>\n",
       "      <td>60</td>\n",
       "      <td>RL</td>\n",
       "      <td>62.0</td>\n",
       "      <td>7917</td>\n",
       "      <td>Pave</td>\n",
       "      <td>NaN</td>\n",
       "      <td>Reg</td>\n",
       "      <td>Lvl</td>\n",
       "      <td>AllPub</td>\n",
       "      <td>Inside</td>\n",
       "      <td>Gtl</td>\n",
       "      <td>Gilbert</td>\n",
       "      <td>Norm</td>\n",
       "      <td>Norm</td>\n",
       "      <td>1Fam</td>\n",
       "      <td>2Story</td>\n",
       "      <td>6</td>\n",
       "      <td>5</td>\n",
       "      <td>1999</td>\n",
       "      <td>2000</td>\n",
       "      <td>Gable</td>\n",
       "      <td>CompShg</td>\n",
       "      <td>VinylSd</td>\n",
       "      <td>VinylSd</td>\n",
       "      <td>None</td>\n",
       "      <td>0.0</td>\n",
       "      <td>TA</td>\n",
       "      <td>TA</td>\n",
       "      <td>PConc</td>\n",
       "      <td>Gd</td>\n",
       "      <td>TA</td>\n",
       "      <td>No</td>\n",
       "      <td>Unf</td>\n",
       "      <td>0</td>\n",
       "      <td>Unf</td>\n",
       "      <td>0</td>\n",
       "      <td>953</td>\n",
       "      <td>953</td>\n",
       "      <td>GasA</td>\n",
       "      <td>Ex</td>\n",
       "      <td>Y</td>\n",
       "      <td>SBrkr</td>\n",
       "      <td>953</td>\n",
       "      <td>694</td>\n",
       "      <td>0</td>\n",
       "      <td>1647</td>\n",
       "      <td>0</td>\n",
       "      <td>0</td>\n",
       "      <td>2</td>\n",
       "      <td>1</td>\n",
       "      <td>3</td>\n",
       "      <td>1</td>\n",
       "      <td>TA</td>\n",
       "      <td>7</td>\n",
       "      <td>Typ</td>\n",
       "      <td>1</td>\n",
       "      <td>TA</td>\n",
       "      <td>Attchd</td>\n",
       "      <td>1999.0</td>\n",
       "      <td>RFn</td>\n",
       "      <td>2</td>\n",
       "      <td>460</td>\n",
       "      <td>TA</td>\n",
       "      <td>TA</td>\n",
       "      <td>Y</td>\n",
       "      <td>0</td>\n",
       "      <td>40</td>\n",
       "      <td>0</td>\n",
       "      <td>0</td>\n",
       "      <td>0</td>\n",
       "      <td>0</td>\n",
       "      <td>NaN</td>\n",
       "      <td>NaN</td>\n",
       "      <td>NaN</td>\n",
       "      <td>0</td>\n",
       "      <td>8</td>\n",
       "      <td>2007</td>\n",
       "      <td>WD</td>\n",
       "      <td>Normal</td>\n",
       "    </tr>\n",
       "    <tr>\n",
       "      <th>1456</th>\n",
       "      <td>1457</td>\n",
       "      <td>20</td>\n",
       "      <td>RL</td>\n",
       "      <td>85.0</td>\n",
       "      <td>13175</td>\n",
       "      <td>Pave</td>\n",
       "      <td>NaN</td>\n",
       "      <td>Reg</td>\n",
       "      <td>Lvl</td>\n",
       "      <td>AllPub</td>\n",
       "      <td>Inside</td>\n",
       "      <td>Gtl</td>\n",
       "      <td>NWAmes</td>\n",
       "      <td>Norm</td>\n",
       "      <td>Norm</td>\n",
       "      <td>1Fam</td>\n",
       "      <td>1Story</td>\n",
       "      <td>6</td>\n",
       "      <td>6</td>\n",
       "      <td>1978</td>\n",
       "      <td>1988</td>\n",
       "      <td>Gable</td>\n",
       "      <td>CompShg</td>\n",
       "      <td>Plywood</td>\n",
       "      <td>Plywood</td>\n",
       "      <td>Stone</td>\n",
       "      <td>119.0</td>\n",
       "      <td>TA</td>\n",
       "      <td>TA</td>\n",
       "      <td>CBlock</td>\n",
       "      <td>Gd</td>\n",
       "      <td>TA</td>\n",
       "      <td>No</td>\n",
       "      <td>ALQ</td>\n",
       "      <td>790</td>\n",
       "      <td>Rec</td>\n",
       "      <td>163</td>\n",
       "      <td>589</td>\n",
       "      <td>1542</td>\n",
       "      <td>GasA</td>\n",
       "      <td>TA</td>\n",
       "      <td>Y</td>\n",
       "      <td>SBrkr</td>\n",
       "      <td>2073</td>\n",
       "      <td>0</td>\n",
       "      <td>0</td>\n",
       "      <td>2073</td>\n",
       "      <td>1</td>\n",
       "      <td>0</td>\n",
       "      <td>2</td>\n",
       "      <td>0</td>\n",
       "      <td>3</td>\n",
       "      <td>1</td>\n",
       "      <td>TA</td>\n",
       "      <td>7</td>\n",
       "      <td>Min1</td>\n",
       "      <td>2</td>\n",
       "      <td>TA</td>\n",
       "      <td>Attchd</td>\n",
       "      <td>1978.0</td>\n",
       "      <td>Unf</td>\n",
       "      <td>2</td>\n",
       "      <td>500</td>\n",
       "      <td>TA</td>\n",
       "      <td>TA</td>\n",
       "      <td>Y</td>\n",
       "      <td>349</td>\n",
       "      <td>0</td>\n",
       "      <td>0</td>\n",
       "      <td>0</td>\n",
       "      <td>0</td>\n",
       "      <td>0</td>\n",
       "      <td>NaN</td>\n",
       "      <td>MnPrv</td>\n",
       "      <td>NaN</td>\n",
       "      <td>0</td>\n",
       "      <td>2</td>\n",
       "      <td>2010</td>\n",
       "      <td>WD</td>\n",
       "      <td>Normal</td>\n",
       "    </tr>\n",
       "    <tr>\n",
       "      <th>1457</th>\n",
       "      <td>1458</td>\n",
       "      <td>70</td>\n",
       "      <td>RL</td>\n",
       "      <td>66.0</td>\n",
       "      <td>9042</td>\n",
       "      <td>Pave</td>\n",
       "      <td>NaN</td>\n",
       "      <td>Reg</td>\n",
       "      <td>Lvl</td>\n",
       "      <td>AllPub</td>\n",
       "      <td>Inside</td>\n",
       "      <td>Gtl</td>\n",
       "      <td>Crawfor</td>\n",
       "      <td>Norm</td>\n",
       "      <td>Norm</td>\n",
       "      <td>1Fam</td>\n",
       "      <td>2Story</td>\n",
       "      <td>7</td>\n",
       "      <td>9</td>\n",
       "      <td>1941</td>\n",
       "      <td>2006</td>\n",
       "      <td>Gable</td>\n",
       "      <td>CompShg</td>\n",
       "      <td>CemntBd</td>\n",
       "      <td>CmentBd</td>\n",
       "      <td>None</td>\n",
       "      <td>0.0</td>\n",
       "      <td>Ex</td>\n",
       "      <td>Gd</td>\n",
       "      <td>Stone</td>\n",
       "      <td>TA</td>\n",
       "      <td>Gd</td>\n",
       "      <td>No</td>\n",
       "      <td>GLQ</td>\n",
       "      <td>275</td>\n",
       "      <td>Unf</td>\n",
       "      <td>0</td>\n",
       "      <td>877</td>\n",
       "      <td>1152</td>\n",
       "      <td>GasA</td>\n",
       "      <td>Ex</td>\n",
       "      <td>Y</td>\n",
       "      <td>SBrkr</td>\n",
       "      <td>1188</td>\n",
       "      <td>1152</td>\n",
       "      <td>0</td>\n",
       "      <td>2340</td>\n",
       "      <td>0</td>\n",
       "      <td>0</td>\n",
       "      <td>2</td>\n",
       "      <td>0</td>\n",
       "      <td>4</td>\n",
       "      <td>1</td>\n",
       "      <td>Gd</td>\n",
       "      <td>9</td>\n",
       "      <td>Typ</td>\n",
       "      <td>2</td>\n",
       "      <td>Gd</td>\n",
       "      <td>Attchd</td>\n",
       "      <td>1941.0</td>\n",
       "      <td>RFn</td>\n",
       "      <td>1</td>\n",
       "      <td>252</td>\n",
       "      <td>TA</td>\n",
       "      <td>TA</td>\n",
       "      <td>Y</td>\n",
       "      <td>0</td>\n",
       "      <td>60</td>\n",
       "      <td>0</td>\n",
       "      <td>0</td>\n",
       "      <td>0</td>\n",
       "      <td>0</td>\n",
       "      <td>NaN</td>\n",
       "      <td>GdPrv</td>\n",
       "      <td>Shed</td>\n",
       "      <td>2500</td>\n",
       "      <td>5</td>\n",
       "      <td>2010</td>\n",
       "      <td>WD</td>\n",
       "      <td>Normal</td>\n",
       "    </tr>\n",
       "    <tr>\n",
       "      <th>1458</th>\n",
       "      <td>1459</td>\n",
       "      <td>20</td>\n",
       "      <td>RL</td>\n",
       "      <td>68.0</td>\n",
       "      <td>9717</td>\n",
       "      <td>Pave</td>\n",
       "      <td>NaN</td>\n",
       "      <td>Reg</td>\n",
       "      <td>Lvl</td>\n",
       "      <td>AllPub</td>\n",
       "      <td>Inside</td>\n",
       "      <td>Gtl</td>\n",
       "      <td>NAmes</td>\n",
       "      <td>Norm</td>\n",
       "      <td>Norm</td>\n",
       "      <td>1Fam</td>\n",
       "      <td>1Story</td>\n",
       "      <td>5</td>\n",
       "      <td>6</td>\n",
       "      <td>1950</td>\n",
       "      <td>1996</td>\n",
       "      <td>Hip</td>\n",
       "      <td>CompShg</td>\n",
       "      <td>MetalSd</td>\n",
       "      <td>MetalSd</td>\n",
       "      <td>None</td>\n",
       "      <td>0.0</td>\n",
       "      <td>TA</td>\n",
       "      <td>TA</td>\n",
       "      <td>CBlock</td>\n",
       "      <td>TA</td>\n",
       "      <td>TA</td>\n",
       "      <td>Mn</td>\n",
       "      <td>GLQ</td>\n",
       "      <td>49</td>\n",
       "      <td>Rec</td>\n",
       "      <td>1029</td>\n",
       "      <td>0</td>\n",
       "      <td>1078</td>\n",
       "      <td>GasA</td>\n",
       "      <td>Gd</td>\n",
       "      <td>Y</td>\n",
       "      <td>FuseA</td>\n",
       "      <td>1078</td>\n",
       "      <td>0</td>\n",
       "      <td>0</td>\n",
       "      <td>1078</td>\n",
       "      <td>1</td>\n",
       "      <td>0</td>\n",
       "      <td>1</td>\n",
       "      <td>0</td>\n",
       "      <td>2</td>\n",
       "      <td>1</td>\n",
       "      <td>Gd</td>\n",
       "      <td>5</td>\n",
       "      <td>Typ</td>\n",
       "      <td>0</td>\n",
       "      <td>NaN</td>\n",
       "      <td>Attchd</td>\n",
       "      <td>1950.0</td>\n",
       "      <td>Unf</td>\n",
       "      <td>1</td>\n",
       "      <td>240</td>\n",
       "      <td>TA</td>\n",
       "      <td>TA</td>\n",
       "      <td>Y</td>\n",
       "      <td>366</td>\n",
       "      <td>0</td>\n",
       "      <td>112</td>\n",
       "      <td>0</td>\n",
       "      <td>0</td>\n",
       "      <td>0</td>\n",
       "      <td>NaN</td>\n",
       "      <td>NaN</td>\n",
       "      <td>NaN</td>\n",
       "      <td>0</td>\n",
       "      <td>4</td>\n",
       "      <td>2010</td>\n",
       "      <td>WD</td>\n",
       "      <td>Normal</td>\n",
       "    </tr>\n",
       "    <tr>\n",
       "      <th>1459</th>\n",
       "      <td>1460</td>\n",
       "      <td>20</td>\n",
       "      <td>RL</td>\n",
       "      <td>75.0</td>\n",
       "      <td>9937</td>\n",
       "      <td>Pave</td>\n",
       "      <td>NaN</td>\n",
       "      <td>Reg</td>\n",
       "      <td>Lvl</td>\n",
       "      <td>AllPub</td>\n",
       "      <td>Inside</td>\n",
       "      <td>Gtl</td>\n",
       "      <td>Edwards</td>\n",
       "      <td>Norm</td>\n",
       "      <td>Norm</td>\n",
       "      <td>1Fam</td>\n",
       "      <td>1Story</td>\n",
       "      <td>5</td>\n",
       "      <td>6</td>\n",
       "      <td>1965</td>\n",
       "      <td>1965</td>\n",
       "      <td>Gable</td>\n",
       "      <td>CompShg</td>\n",
       "      <td>HdBoard</td>\n",
       "      <td>HdBoard</td>\n",
       "      <td>None</td>\n",
       "      <td>0.0</td>\n",
       "      <td>Gd</td>\n",
       "      <td>TA</td>\n",
       "      <td>CBlock</td>\n",
       "      <td>TA</td>\n",
       "      <td>TA</td>\n",
       "      <td>No</td>\n",
       "      <td>BLQ</td>\n",
       "      <td>830</td>\n",
       "      <td>LwQ</td>\n",
       "      <td>290</td>\n",
       "      <td>136</td>\n",
       "      <td>1256</td>\n",
       "      <td>GasA</td>\n",
       "      <td>Gd</td>\n",
       "      <td>Y</td>\n",
       "      <td>SBrkr</td>\n",
       "      <td>1256</td>\n",
       "      <td>0</td>\n",
       "      <td>0</td>\n",
       "      <td>1256</td>\n",
       "      <td>1</td>\n",
       "      <td>0</td>\n",
       "      <td>1</td>\n",
       "      <td>1</td>\n",
       "      <td>3</td>\n",
       "      <td>1</td>\n",
       "      <td>TA</td>\n",
       "      <td>6</td>\n",
       "      <td>Typ</td>\n",
       "      <td>0</td>\n",
       "      <td>NaN</td>\n",
       "      <td>Attchd</td>\n",
       "      <td>1965.0</td>\n",
       "      <td>Fin</td>\n",
       "      <td>1</td>\n",
       "      <td>276</td>\n",
       "      <td>TA</td>\n",
       "      <td>TA</td>\n",
       "      <td>Y</td>\n",
       "      <td>736</td>\n",
       "      <td>68</td>\n",
       "      <td>0</td>\n",
       "      <td>0</td>\n",
       "      <td>0</td>\n",
       "      <td>0</td>\n",
       "      <td>NaN</td>\n",
       "      <td>NaN</td>\n",
       "      <td>NaN</td>\n",
       "      <td>0</td>\n",
       "      <td>6</td>\n",
       "      <td>2008</td>\n",
       "      <td>WD</td>\n",
       "      <td>Normal</td>\n",
       "    </tr>\n",
       "  </tbody>\n",
       "</table>\n",
       "</div>"
      ],
      "text/plain": [
       "        Id  MSSubClass MSZoning  LotFrontage  LotArea Street Alley LotShape  \\\n",
       "1455  1456          60       RL         62.0     7917   Pave   NaN      Reg   \n",
       "1456  1457          20       RL         85.0    13175   Pave   NaN      Reg   \n",
       "1457  1458          70       RL         66.0     9042   Pave   NaN      Reg   \n",
       "1458  1459          20       RL         68.0     9717   Pave   NaN      Reg   \n",
       "1459  1460          20       RL         75.0     9937   Pave   NaN      Reg   \n",
       "\n",
       "     LandContour Utilities LotConfig LandSlope Neighborhood Condition1  \\\n",
       "1455         Lvl    AllPub    Inside       Gtl      Gilbert       Norm   \n",
       "1456         Lvl    AllPub    Inside       Gtl       NWAmes       Norm   \n",
       "1457         Lvl    AllPub    Inside       Gtl      Crawfor       Norm   \n",
       "1458         Lvl    AllPub    Inside       Gtl        NAmes       Norm   \n",
       "1459         Lvl    AllPub    Inside       Gtl      Edwards       Norm   \n",
       "\n",
       "     Condition2 BldgType HouseStyle  OverallQual  OverallCond  YearBuilt  \\\n",
       "1455       Norm     1Fam     2Story            6            5       1999   \n",
       "1456       Norm     1Fam     1Story            6            6       1978   \n",
       "1457       Norm     1Fam     2Story            7            9       1941   \n",
       "1458       Norm     1Fam     1Story            5            6       1950   \n",
       "1459       Norm     1Fam     1Story            5            6       1965   \n",
       "\n",
       "      YearRemodAdd RoofStyle RoofMatl Exterior1st Exterior2nd MasVnrType  \\\n",
       "1455          2000     Gable  CompShg     VinylSd     VinylSd       None   \n",
       "1456          1988     Gable  CompShg     Plywood     Plywood      Stone   \n",
       "1457          2006     Gable  CompShg     CemntBd     CmentBd       None   \n",
       "1458          1996       Hip  CompShg     MetalSd     MetalSd       None   \n",
       "1459          1965     Gable  CompShg     HdBoard     HdBoard       None   \n",
       "\n",
       "      MasVnrArea ExterQual ExterCond Foundation BsmtQual BsmtCond  \\\n",
       "1455         0.0        TA        TA      PConc       Gd       TA   \n",
       "1456       119.0        TA        TA     CBlock       Gd       TA   \n",
       "1457         0.0        Ex        Gd      Stone       TA       Gd   \n",
       "1458         0.0        TA        TA     CBlock       TA       TA   \n",
       "1459         0.0        Gd        TA     CBlock       TA       TA   \n",
       "\n",
       "     BsmtExposure BsmtFinType1  BsmtFinSF1 BsmtFinType2  BsmtFinSF2  \\\n",
       "1455           No          Unf           0          Unf           0   \n",
       "1456           No          ALQ         790          Rec         163   \n",
       "1457           No          GLQ         275          Unf           0   \n",
       "1458           Mn          GLQ          49          Rec        1029   \n",
       "1459           No          BLQ         830          LwQ         290   \n",
       "\n",
       "      BsmtUnfSF  TotalBsmtSF Heating HeatingQC CentralAir Electrical  \\\n",
       "1455        953          953    GasA        Ex          Y      SBrkr   \n",
       "1456        589         1542    GasA        TA          Y      SBrkr   \n",
       "1457        877         1152    GasA        Ex          Y      SBrkr   \n",
       "1458          0         1078    GasA        Gd          Y      FuseA   \n",
       "1459        136         1256    GasA        Gd          Y      SBrkr   \n",
       "\n",
       "      1stFlrSF  2ndFlrSF  LowQualFinSF  GrLivArea  BsmtFullBath  BsmtHalfBath  \\\n",
       "1455       953       694             0       1647             0             0   \n",
       "1456      2073         0             0       2073             1             0   \n",
       "1457      1188      1152             0       2340             0             0   \n",
       "1458      1078         0             0       1078             1             0   \n",
       "1459      1256         0             0       1256             1             0   \n",
       "\n",
       "      FullBath  HalfBath  BedroomAbvGr  KitchenAbvGr KitchenQual  \\\n",
       "1455         2         1             3             1          TA   \n",
       "1456         2         0             3             1          TA   \n",
       "1457         2         0             4             1          Gd   \n",
       "1458         1         0             2             1          Gd   \n",
       "1459         1         1             3             1          TA   \n",
       "\n",
       "      TotRmsAbvGrd Functional  Fireplaces FireplaceQu GarageType  GarageYrBlt  \\\n",
       "1455             7        Typ           1          TA     Attchd       1999.0   \n",
       "1456             7       Min1           2          TA     Attchd       1978.0   \n",
       "1457             9        Typ           2          Gd     Attchd       1941.0   \n",
       "1458             5        Typ           0         NaN     Attchd       1950.0   \n",
       "1459             6        Typ           0         NaN     Attchd       1965.0   \n",
       "\n",
       "     GarageFinish  GarageCars  GarageArea GarageQual GarageCond PavedDrive  \\\n",
       "1455          RFn           2         460         TA         TA          Y   \n",
       "1456          Unf           2         500         TA         TA          Y   \n",
       "1457          RFn           1         252         TA         TA          Y   \n",
       "1458          Unf           1         240         TA         TA          Y   \n",
       "1459          Fin           1         276         TA         TA          Y   \n",
       "\n",
       "      WoodDeckSF  OpenPorchSF  EnclosedPorch  3SsnPorch  ScreenPorch  \\\n",
       "1455           0           40              0          0            0   \n",
       "1456         349            0              0          0            0   \n",
       "1457           0           60              0          0            0   \n",
       "1458         366            0            112          0            0   \n",
       "1459         736           68              0          0            0   \n",
       "\n",
       "      PoolArea PoolQC  Fence MiscFeature  MiscVal  MoSold  YrSold SaleType  \\\n",
       "1455         0    NaN    NaN         NaN        0       8    2007       WD   \n",
       "1456         0    NaN  MnPrv         NaN        0       2    2010       WD   \n",
       "1457         0    NaN  GdPrv        Shed     2500       5    2010       WD   \n",
       "1458         0    NaN    NaN         NaN        0       4    2010       WD   \n",
       "1459         0    NaN    NaN         NaN        0       6    2008       WD   \n",
       "\n",
       "     SaleCondition  \n",
       "1455        Normal  \n",
       "1456        Normal  \n",
       "1457        Normal  \n",
       "1458        Normal  \n",
       "1459        Normal  "
      ]
     },
     "execution_count": 106,
     "metadata": {},
     "output_type": "execute_result"
    }
   ],
   "source": [
    "Y=train[\"SalePrice\"].values\n",
    "train.drop(\"SalePrice\",axis=1,inplace=True)\n",
    "train.tail()"
   ]
  },
  {
   "cell_type": "code",
   "execution_count": 107,
   "metadata": {},
   "outputs": [
    {
     "data": {
      "text/plain": [
       "Id                  0\n",
       "MSSubClass          0\n",
       "MSZoning            4\n",
       "LotFrontage       486\n",
       "LotArea             0\n",
       "Street              0\n",
       "Alley            2721\n",
       "LotShape            0\n",
       "LandContour         0\n",
       "Utilities           2\n",
       "LotConfig           0\n",
       "LandSlope           0\n",
       "Neighborhood        0\n",
       "Condition1          0\n",
       "Condition2          0\n",
       "BldgType            0\n",
       "HouseStyle          0\n",
       "OverallQual         0\n",
       "OverallCond         0\n",
       "YearBuilt           0\n",
       "YearRemodAdd        0\n",
       "RoofStyle           0\n",
       "RoofMatl            0\n",
       "Exterior1st         1\n",
       "Exterior2nd         1\n",
       "MasVnrType         24\n",
       "MasVnrArea         23\n",
       "ExterQual           0\n",
       "ExterCond           0\n",
       "Foundation          0\n",
       "BsmtQual           81\n",
       "BsmtCond           82\n",
       "BsmtExposure       82\n",
       "BsmtFinType1       79\n",
       "BsmtFinSF1          1\n",
       "BsmtFinType2       80\n",
       "BsmtFinSF2          1\n",
       "BsmtUnfSF           1\n",
       "TotalBsmtSF         1\n",
       "Heating             0\n",
       "HeatingQC           0\n",
       "CentralAir          0\n",
       "Electrical          1\n",
       "1stFlrSF            0\n",
       "2ndFlrSF            0\n",
       "LowQualFinSF        0\n",
       "GrLivArea           0\n",
       "BsmtFullBath        2\n",
       "BsmtHalfBath        2\n",
       "FullBath            0\n",
       "HalfBath            0\n",
       "BedroomAbvGr        0\n",
       "KitchenAbvGr        0\n",
       "KitchenQual         1\n",
       "TotRmsAbvGrd        0\n",
       "Functional          2\n",
       "Fireplaces          0\n",
       "FireplaceQu      1420\n",
       "GarageType        157\n",
       "GarageYrBlt       159\n",
       "GarageFinish      159\n",
       "GarageCars          1\n",
       "GarageArea          1\n",
       "GarageQual        159\n",
       "GarageCond        159\n",
       "PavedDrive          0\n",
       "WoodDeckSF          0\n",
       "OpenPorchSF         0\n",
       "EnclosedPorch       0\n",
       "3SsnPorch           0\n",
       "ScreenPorch         0\n",
       "PoolArea            0\n",
       "PoolQC           2909\n",
       "Fence            2348\n",
       "MiscFeature      2814\n",
       "MiscVal             0\n",
       "MoSold              0\n",
       "YrSold              0\n",
       "SaleType            1\n",
       "SaleCondition       0\n",
       "dtype: int64"
      ]
     },
     "execution_count": 107,
     "metadata": {},
     "output_type": "execute_result"
    }
   ],
   "source": [
    "pd.options.display.max_rows = 100\n",
    "data=pd.concat([train,test], axis=0, ignore_index=True)\n",
    "data.isna().sum()"
   ]
  },
  {
   "cell_type": "code",
   "execution_count": 108,
   "metadata": {},
   "outputs": [],
   "source": [
    "nf=data.dtypes[data.dtypes != object].index.tolist()"
   ]
  },
  {
   "cell_type": "code",
   "execution_count": 109,
   "metadata": {},
   "outputs": [
    {
     "name": "stdout",
     "output_type": "stream",
     "text": [
      "['LotFrontage', 'MasVnrArea', 'BsmtFinSF1', 'BsmtFinSF2', 'BsmtUnfSF', 'TotalBsmtSF', 'BsmtFullBath', 'BsmtHalfBath', 'GarageYrBlt', 'GarageCars', 'GarageArea']\n"
     ]
    }
   ],
   "source": [
    "x=[]\n",
    "for i in nf:\n",
    "    if data[i].isnull().sum()>0:\n",
    "        x.append(i)\n",
    "print(x)"
   ]
  },
  {
   "cell_type": "code",
   "execution_count": 110,
   "metadata": {},
   "outputs": [
    {
     "data": {
      "text/plain": [
       "LotFrontage     486\n",
       "MasVnrArea       23\n",
       "BsmtFinSF1        1\n",
       "BsmtFinSF2        1\n",
       "BsmtUnfSF         1\n",
       "TotalBsmtSF       1\n",
       "BsmtFullBath      2\n",
       "BsmtHalfBath      2\n",
       "GarageYrBlt     159\n",
       "GarageCars        1\n",
       "GarageArea        1\n",
       "dtype: int64"
      ]
     },
     "execution_count": 110,
     "metadata": {},
     "output_type": "execute_result"
    }
   ],
   "source": [
    "data[x].isnull().sum()"
   ]
  },
  {
   "cell_type": "code",
   "execution_count": 111,
   "metadata": {},
   "outputs": [],
   "source": [
    "for i in x:\n",
    "    data[i]=data[i].fillna(0)"
   ]
  },
  {
   "cell_type": "code",
   "execution_count": 112,
   "metadata": {},
   "outputs": [],
   "source": [
    "no=data.dtypes[data.dtypes == object].index.tolist()"
   ]
  },
  {
   "cell_type": "code",
   "execution_count": 113,
   "metadata": {},
   "outputs": [
    {
     "name": "stdout",
     "output_type": "stream",
     "text": [
      "['MSZoning', 'Alley', 'Utilities', 'Exterior1st', 'Exterior2nd', 'MasVnrType', 'BsmtQual', 'BsmtCond', 'BsmtExposure', 'BsmtFinType1', 'BsmtFinType2', 'Electrical', 'KitchenQual', 'Functional', 'FireplaceQu', 'GarageType', 'GarageFinish', 'GarageQual', 'GarageCond', 'PoolQC', 'Fence', 'MiscFeature', 'SaleType']\n"
     ]
    }
   ],
   "source": [
    "x1=[]\n",
    "for i in no:\n",
    "    if data[i].isna().sum()>0:\n",
    "        x1.append(i)\n",
    "print(x1)"
   ]
  },
  {
   "cell_type": "code",
   "execution_count": 114,
   "metadata": {
    "scrolled": false
   },
   "outputs": [
    {
     "data": {
      "text/plain": [
       "MSZoning           4\n",
       "Alley           2721\n",
       "Utilities          2\n",
       "Exterior1st        1\n",
       "Exterior2nd        1\n",
       "MasVnrType        24\n",
       "BsmtQual          81\n",
       "BsmtCond          82\n",
       "BsmtExposure      82\n",
       "BsmtFinType1      79\n",
       "BsmtFinType2      80\n",
       "Electrical         1\n",
       "KitchenQual        1\n",
       "Functional         2\n",
       "FireplaceQu     1420\n",
       "GarageType       157\n",
       "GarageFinish     159\n",
       "GarageQual       159\n",
       "GarageCond       159\n",
       "PoolQC          2909\n",
       "Fence           2348\n",
       "MiscFeature     2814\n",
       "SaleType           1\n",
       "dtype: int64"
      ]
     },
     "execution_count": 114,
     "metadata": {},
     "output_type": "execute_result"
    }
   ],
   "source": [
    "data[x1].isna().sum()"
   ]
  },
  {
   "cell_type": "code",
   "execution_count": 115,
   "metadata": {},
   "outputs": [
    {
     "name": "stdout",
     "output_type": "stream",
     "text": [
      "['MSSubClass', 'LotFrontage', 'LotArea', 'OverallQual', 'OverallCond', 'YearBuilt', 'YearRemodAdd', 'MasVnrArea', 'BsmtFinSF1', 'BsmtFinSF2', 'BsmtUnfSF', 'TotalBsmtSF', '1stFlrSF', '2ndFlrSF', 'LowQualFinSF', 'GrLivArea', 'BsmtFullBath', 'BsmtHalfBath', 'FullBath', 'HalfBath', 'BedroomAbvGr', 'KitchenAbvGr', 'TotRmsAbvGrd', 'Fireplaces', 'GarageYrBlt', 'GarageCars', 'GarageArea', 'WoodDeckSF', 'OpenPorchSF', 'EnclosedPorch', '3SsnPorch', 'ScreenPorch', 'PoolArea', 'MiscVal', 'MoSold', 'YrSold']\n"
     ]
    }
   ],
   "source": [
    "data[\"Alley\"]=data[\"Alley\"].fillna(\"No Alley access\")\n",
    "data[\"MSZoning\"]=data[\"MSZoning\"].fillna(data[\"MSZoning\"].mode()[0])\n",
    "data['Utilities']=data['Utilities'].fillna(data['Utilities'].mode()[0])\n",
    "data['Exterior1st']=data['Exterior1st'].fillna(data['Exterior1st'].mode()[0])\n",
    "data['Exterior2nd']=data['Exterior2nd'].fillna(data['Exterior2nd'].mode()[0])\n",
    "data['MasVnrType']=data['MasVnrType'].fillna(data['MasVnrType'].mode()[0])\n",
    "data['BsmtQual']=data['BsmtQual'].fillna(\"No Basement qual\")\n",
    "data['BsmtCond']=data['BsmtCond'].fillna(\"No Basement cond\")\n",
    "data['BsmtExposure']=data['BsmtExposure'].fillna(\"No Basement EXPosure\")\n",
    "data['BsmtFinType1']=data['BsmtFinType1'].fillna(\"No Basement Fin T1\")\n",
    "data['BsmtFinType2']=data['BsmtFinType2'].fillna(\"No Basement Fin T2\")\n",
    "data['Electrical']=data['Electrical'].fillna(data['Electrical'].mode()[0])\n",
    "data['KitchenQual']=data['KitchenQual'].fillna(data['KitchenQual'].mode()[0])\n",
    "data['Functional']=data['Functional'].fillna(data['Functional'].mode()[0])\n",
    "data['FireplaceQu']=data['FireplaceQu'].fillna(\"No FIRE Place quality\")\n",
    "data['GarageType']=data['GarageType'].fillna(\"No Garage\")\n",
    "data['GarageFinish']=data['GarageFinish'].fillna(\"No GarageFinish\")\n",
    "data['GarageQual']=data['GarageQual'].fillna(\"No GarageQual\")\n",
    "data['GarageCond']=data['GarageCond'].fillna(\"No GarageCond\")\n",
    "data['PoolQC']=data['PoolQC'].fillna(\"No PoolQC\")\n",
    "data['Fence']=data['Fence'].fillna(\"No Fence\")\n",
    "data['MiscFeature']=data['MiscFeature'].fillna(\"No MiscFeature\")\n",
    "data['SaleType']=data['SaleType'].fillna(\"No SaleType\")\n",
    "\n",
    "d=pd.get_dummies(data[no],drop_first=True)\n",
    "data.drop(no,inplace=True,axis=1)\n",
    "data1=pd.concat([data,d],axis=1)\n",
    "\n",
    "nf.remove(\"Id\")\n",
    "\n",
    "print(nf)\n",
    "\n",
    "for i in nf:\n",
    "    data1[i]=np.log1p(data1[i])\n",
    "    \n",
    "Y=np.log1p(Y)\n",
    "\n",
    "\n",
    "\n"
   ]
  },
  {
   "cell_type": "code",
   "execution_count": 116,
   "metadata": {},
   "outputs": [],
   "source": [
    "def get_corr(da_ta,threshold):\n",
    "    corr_col=set()\n",
    "    corr_mat=da_ta.corr()\n",
    "    for i in range (len(corr_mat.columns)):\n",
    "        for j in range(i):\n",
    "            if abs(corr_mat.iloc[i,j])>threshold:\n",
    "                col_name=corr_mat.columns[i]\n",
    "                corr_col.add(col_name)\n",
    "    return corr_col\n",
    "corr_features=get_corr(data1,0.95)\n"
   ]
  },
  {
   "cell_type": "code",
   "execution_count": 117,
   "metadata": {},
   "outputs": [],
   "source": [
    "data1=data1.drop(corr_features,axis=1)"
   ]
  },
  {
   "cell_type": "code",
   "execution_count": 118,
   "metadata": {},
   "outputs": [
    {
     "data": {
      "text/plain": [
       "(2919, 245)"
      ]
     },
     "execution_count": 118,
     "metadata": {},
     "output_type": "execute_result"
    }
   ],
   "source": [
    "data1.shape"
   ]
  },
  {
   "cell_type": "code",
   "execution_count": 119,
   "metadata": {},
   "outputs": [],
   "source": [
    "tr=data1.iloc[0:1460,:]\n",
    "te=data1.iloc[1460:,:]"
   ]
  },
  {
   "cell_type": "code",
   "execution_count": 120,
   "metadata": {},
   "outputs": [],
   "source": [
    "scaling=StandardScaler()\n",
    "data_s_tr=scaling.fit_transform(tr)\n",
    "data_s_te=scaling.transform(te)\n",
    "Data_s_tr=pd.DataFrame(data_s_tr)\n",
    "Data_s_te=pd.DataFrame(data_s_te)"
   ]
  },
  {
   "cell_type": "code",
   "execution_count": 131,
   "metadata": {},
   "outputs": [
    {
     "name": "stdout",
     "output_type": "stream",
     "text": [
      "Fitting 5 folds for each of 10 candidates, totalling 50 fits\n",
      "[CV] reg_lambda=0.5, reg_alpha=1, n_estimators=650, min_child_weight=2.5, max_depth=4, learning_rate=0.02, gamma=0.0001, booster=dart \n"
     ]
    },
    {
     "name": "stderr",
     "output_type": "stream",
     "text": [
      "[Parallel(n_jobs=1)]: Using backend SequentialBackend with 1 concurrent workers.\n"
     ]
    },
    {
     "name": "stdout",
     "output_type": "stream",
     "text": [
      "[CV]  reg_lambda=0.5, reg_alpha=1, n_estimators=650, min_child_weight=2.5, max_depth=4, learning_rate=0.02, gamma=0.0001, booster=dart, total=  20.3s\n",
      "[CV] reg_lambda=0.5, reg_alpha=1, n_estimators=650, min_child_weight=2.5, max_depth=4, learning_rate=0.02, gamma=0.0001, booster=dart \n"
     ]
    },
    {
     "name": "stderr",
     "output_type": "stream",
     "text": [
      "[Parallel(n_jobs=1)]: Done   1 out of   1 | elapsed:   20.2s remaining:    0.0s\n"
     ]
    },
    {
     "name": "stdout",
     "output_type": "stream",
     "text": [
      "[CV]  reg_lambda=0.5, reg_alpha=1, n_estimators=650, min_child_weight=2.5, max_depth=4, learning_rate=0.02, gamma=0.0001, booster=dart, total=  16.3s\n",
      "[CV] reg_lambda=0.5, reg_alpha=1, n_estimators=650, min_child_weight=2.5, max_depth=4, learning_rate=0.02, gamma=0.0001, booster=dart \n",
      "[CV]  reg_lambda=0.5, reg_alpha=1, n_estimators=650, min_child_weight=2.5, max_depth=4, learning_rate=0.02, gamma=0.0001, booster=dart, total=  17.0s\n",
      "[CV] reg_lambda=0.5, reg_alpha=1, n_estimators=650, min_child_weight=2.5, max_depth=4, learning_rate=0.02, gamma=0.0001, booster=dart \n",
      "[CV]  reg_lambda=0.5, reg_alpha=1, n_estimators=650, min_child_weight=2.5, max_depth=4, learning_rate=0.02, gamma=0.0001, booster=dart, total=  16.7s\n",
      "[CV] reg_lambda=0.5, reg_alpha=1, n_estimators=650, min_child_weight=2.5, max_depth=4, learning_rate=0.02, gamma=0.0001, booster=dart \n",
      "[CV]  reg_lambda=0.5, reg_alpha=1, n_estimators=650, min_child_weight=2.5, max_depth=4, learning_rate=0.02, gamma=0.0001, booster=dart, total=  16.2s\n",
      "[CV] reg_lambda=0.4, reg_alpha=0.9, n_estimators=650, min_child_weight=3, max_depth=3, learning_rate=0.03, gamma=0.0001, booster=dart \n",
      "[CV]  reg_lambda=0.4, reg_alpha=0.9, n_estimators=650, min_child_weight=3, max_depth=3, learning_rate=0.03, gamma=0.0001, booster=dart, total=  14.1s\n",
      "[CV] reg_lambda=0.4, reg_alpha=0.9, n_estimators=650, min_child_weight=3, max_depth=3, learning_rate=0.03, gamma=0.0001, booster=dart \n",
      "[CV]  reg_lambda=0.4, reg_alpha=0.9, n_estimators=650, min_child_weight=3, max_depth=3, learning_rate=0.03, gamma=0.0001, booster=dart, total=  14.0s\n",
      "[CV] reg_lambda=0.4, reg_alpha=0.9, n_estimators=650, min_child_weight=3, max_depth=3, learning_rate=0.03, gamma=0.0001, booster=dart \n",
      "[CV]  reg_lambda=0.4, reg_alpha=0.9, n_estimators=650, min_child_weight=3, max_depth=3, learning_rate=0.03, gamma=0.0001, booster=dart, total=  14.1s\n",
      "[CV] reg_lambda=0.4, reg_alpha=0.9, n_estimators=650, min_child_weight=3, max_depth=3, learning_rate=0.03, gamma=0.0001, booster=dart \n",
      "[CV]  reg_lambda=0.4, reg_alpha=0.9, n_estimators=650, min_child_weight=3, max_depth=3, learning_rate=0.03, gamma=0.0001, booster=dart, total=  14.7s\n",
      "[CV] reg_lambda=0.4, reg_alpha=0.9, n_estimators=650, min_child_weight=3, max_depth=3, learning_rate=0.03, gamma=0.0001, booster=dart \n",
      "[CV]  reg_lambda=0.4, reg_alpha=0.9, n_estimators=650, min_child_weight=3, max_depth=3, learning_rate=0.03, gamma=0.0001, booster=dart, total=  13.9s\n",
      "[CV] reg_lambda=0.5, reg_alpha=1, n_estimators=650, min_child_weight=2.5, max_depth=3, learning_rate=0.02, gamma=1e-05, booster=dart \n",
      "[CV]  reg_lambda=0.5, reg_alpha=1, n_estimators=650, min_child_weight=2.5, max_depth=3, learning_rate=0.02, gamma=1e-05, booster=dart, total=  14.1s\n",
      "[CV] reg_lambda=0.5, reg_alpha=1, n_estimators=650, min_child_weight=2.5, max_depth=3, learning_rate=0.02, gamma=1e-05, booster=dart \n",
      "[CV]  reg_lambda=0.5, reg_alpha=1, n_estimators=650, min_child_weight=2.5, max_depth=3, learning_rate=0.02, gamma=1e-05, booster=dart, total=  13.4s\n",
      "[CV] reg_lambda=0.5, reg_alpha=1, n_estimators=650, min_child_weight=2.5, max_depth=3, learning_rate=0.02, gamma=1e-05, booster=dart \n",
      "[CV]  reg_lambda=0.5, reg_alpha=1, n_estimators=650, min_child_weight=2.5, max_depth=3, learning_rate=0.02, gamma=1e-05, booster=dart, total=  13.6s\n",
      "[CV] reg_lambda=0.5, reg_alpha=1, n_estimators=650, min_child_weight=2.5, max_depth=3, learning_rate=0.02, gamma=1e-05, booster=dart \n",
      "[CV]  reg_lambda=0.5, reg_alpha=1, n_estimators=650, min_child_weight=2.5, max_depth=3, learning_rate=0.02, gamma=1e-05, booster=dart, total=  13.6s\n",
      "[CV] reg_lambda=0.5, reg_alpha=1, n_estimators=650, min_child_weight=2.5, max_depth=3, learning_rate=0.02, gamma=1e-05, booster=dart \n",
      "[CV]  reg_lambda=0.5, reg_alpha=1, n_estimators=650, min_child_weight=2.5, max_depth=3, learning_rate=0.02, gamma=1e-05, booster=dart, total=  14.5s\n",
      "[CV] reg_lambda=0.4, reg_alpha=0.9, n_estimators=700, min_child_weight=3, max_depth=4, learning_rate=0.03, gamma=0.0001, booster=dart \n",
      "[CV]  reg_lambda=0.4, reg_alpha=0.9, n_estimators=700, min_child_weight=3, max_depth=4, learning_rate=0.03, gamma=0.0001, booster=dart, total=  18.9s\n",
      "[CV] reg_lambda=0.4, reg_alpha=0.9, n_estimators=700, min_child_weight=3, max_depth=4, learning_rate=0.03, gamma=0.0001, booster=dart \n",
      "[CV]  reg_lambda=0.4, reg_alpha=0.9, n_estimators=700, min_child_weight=3, max_depth=4, learning_rate=0.03, gamma=0.0001, booster=dart, total=  19.1s\n",
      "[CV] reg_lambda=0.4, reg_alpha=0.9, n_estimators=700, min_child_weight=3, max_depth=4, learning_rate=0.03, gamma=0.0001, booster=dart \n",
      "[CV]  reg_lambda=0.4, reg_alpha=0.9, n_estimators=700, min_child_weight=3, max_depth=4, learning_rate=0.03, gamma=0.0001, booster=dart, total=  19.8s\n",
      "[CV] reg_lambda=0.4, reg_alpha=0.9, n_estimators=700, min_child_weight=3, max_depth=4, learning_rate=0.03, gamma=0.0001, booster=dart \n",
      "[CV]  reg_lambda=0.4, reg_alpha=0.9, n_estimators=700, min_child_weight=3, max_depth=4, learning_rate=0.03, gamma=0.0001, booster=dart, total=  31.9s\n",
      "[CV] reg_lambda=0.4, reg_alpha=0.9, n_estimators=700, min_child_weight=3, max_depth=4, learning_rate=0.03, gamma=0.0001, booster=dart \n",
      "[CV]  reg_lambda=0.4, reg_alpha=0.9, n_estimators=700, min_child_weight=3, max_depth=4, learning_rate=0.03, gamma=0.0001, booster=dart, total=  28.9s\n",
      "[CV] reg_lambda=0.5, reg_alpha=1, n_estimators=650, min_child_weight=3, max_depth=3, learning_rate=0.02, gamma=0.0001, booster=dart \n",
      "[CV]  reg_lambda=0.5, reg_alpha=1, n_estimators=650, min_child_weight=3, max_depth=3, learning_rate=0.02, gamma=0.0001, booster=dart, total=  18.7s\n",
      "[CV] reg_lambda=0.5, reg_alpha=1, n_estimators=650, min_child_weight=3, max_depth=3, learning_rate=0.02, gamma=0.0001, booster=dart \n",
      "[CV]  reg_lambda=0.5, reg_alpha=1, n_estimators=650, min_child_weight=3, max_depth=3, learning_rate=0.02, gamma=0.0001, booster=dart, total=  13.6s\n",
      "[CV] reg_lambda=0.5, reg_alpha=1, n_estimators=650, min_child_weight=3, max_depth=3, learning_rate=0.02, gamma=0.0001, booster=dart \n",
      "[CV]  reg_lambda=0.5, reg_alpha=1, n_estimators=650, min_child_weight=3, max_depth=3, learning_rate=0.02, gamma=0.0001, booster=dart, total=  13.6s\n",
      "[CV] reg_lambda=0.5, reg_alpha=1, n_estimators=650, min_child_weight=3, max_depth=3, learning_rate=0.02, gamma=0.0001, booster=dart \n",
      "[CV]  reg_lambda=0.5, reg_alpha=1, n_estimators=650, min_child_weight=3, max_depth=3, learning_rate=0.02, gamma=0.0001, booster=dart, total=  14.0s\n",
      "[CV] reg_lambda=0.5, reg_alpha=1, n_estimators=650, min_child_weight=3, max_depth=3, learning_rate=0.02, gamma=0.0001, booster=dart \n",
      "[CV]  reg_lambda=0.5, reg_alpha=1, n_estimators=650, min_child_weight=3, max_depth=3, learning_rate=0.02, gamma=0.0001, booster=dart, total=  14.7s\n",
      "[CV] reg_lambda=0.5, reg_alpha=0.9, n_estimators=700, min_child_weight=3, max_depth=3, learning_rate=0.03, gamma=1e-05, booster=dart \n",
      "[CV]  reg_lambda=0.5, reg_alpha=0.9, n_estimators=700, min_child_weight=3, max_depth=3, learning_rate=0.03, gamma=1e-05, booster=dart, total=  15.6s\n",
      "[CV] reg_lambda=0.5, reg_alpha=0.9, n_estimators=700, min_child_weight=3, max_depth=3, learning_rate=0.03, gamma=1e-05, booster=dart \n",
      "[CV]  reg_lambda=0.5, reg_alpha=0.9, n_estimators=700, min_child_weight=3, max_depth=3, learning_rate=0.03, gamma=1e-05, booster=dart, total=  15.7s\n",
      "[CV] reg_lambda=0.5, reg_alpha=0.9, n_estimators=700, min_child_weight=3, max_depth=3, learning_rate=0.03, gamma=1e-05, booster=dart \n",
      "[CV]  reg_lambda=0.5, reg_alpha=0.9, n_estimators=700, min_child_weight=3, max_depth=3, learning_rate=0.03, gamma=1e-05, booster=dart, total=  15.4s\n",
      "[CV] reg_lambda=0.5, reg_alpha=0.9, n_estimators=700, min_child_weight=3, max_depth=3, learning_rate=0.03, gamma=1e-05, booster=dart \n",
      "[CV]  reg_lambda=0.5, reg_alpha=0.9, n_estimators=700, min_child_weight=3, max_depth=3, learning_rate=0.03, gamma=1e-05, booster=dart, total=  15.5s\n",
      "[CV] reg_lambda=0.5, reg_alpha=0.9, n_estimators=700, min_child_weight=3, max_depth=3, learning_rate=0.03, gamma=1e-05, booster=dart \n",
      "[CV]  reg_lambda=0.5, reg_alpha=0.9, n_estimators=700, min_child_weight=3, max_depth=3, learning_rate=0.03, gamma=1e-05, booster=dart, total=  15.6s\n",
      "[CV] reg_lambda=0.5, reg_alpha=0.9, n_estimators=650, min_child_weight=3, max_depth=4, learning_rate=0.03, gamma=0.0001, booster=dart \n"
     ]
    },
    {
     "name": "stdout",
     "output_type": "stream",
     "text": [
      "[CV]  reg_lambda=0.5, reg_alpha=0.9, n_estimators=650, min_child_weight=3, max_depth=4, learning_rate=0.03, gamma=0.0001, booster=dart, total=  16.8s\n",
      "[CV] reg_lambda=0.5, reg_alpha=0.9, n_estimators=650, min_child_weight=3, max_depth=4, learning_rate=0.03, gamma=0.0001, booster=dart \n",
      "[CV]  reg_lambda=0.5, reg_alpha=0.9, n_estimators=650, min_child_weight=3, max_depth=4, learning_rate=0.03, gamma=0.0001, booster=dart, total=  17.8s\n",
      "[CV] reg_lambda=0.5, reg_alpha=0.9, n_estimators=650, min_child_weight=3, max_depth=4, learning_rate=0.03, gamma=0.0001, booster=dart \n",
      "[CV]  reg_lambda=0.5, reg_alpha=0.9, n_estimators=650, min_child_weight=3, max_depth=4, learning_rate=0.03, gamma=0.0001, booster=dart, total=  17.1s\n",
      "[CV] reg_lambda=0.5, reg_alpha=0.9, n_estimators=650, min_child_weight=3, max_depth=4, learning_rate=0.03, gamma=0.0001, booster=dart \n",
      "[CV]  reg_lambda=0.5, reg_alpha=0.9, n_estimators=650, min_child_weight=3, max_depth=4, learning_rate=0.03, gamma=0.0001, booster=dart, total=  17.6s\n",
      "[CV] reg_lambda=0.5, reg_alpha=0.9, n_estimators=650, min_child_weight=3, max_depth=4, learning_rate=0.03, gamma=0.0001, booster=dart \n",
      "[CV]  reg_lambda=0.5, reg_alpha=0.9, n_estimators=650, min_child_weight=3, max_depth=4, learning_rate=0.03, gamma=0.0001, booster=dart, total=  16.9s\n",
      "[CV] reg_lambda=0.4, reg_alpha=1, n_estimators=650, min_child_weight=3, max_depth=3, learning_rate=0.02, gamma=1e-05, booster=dart \n",
      "[CV]  reg_lambda=0.4, reg_alpha=1, n_estimators=650, min_child_weight=3, max_depth=3, learning_rate=0.02, gamma=1e-05, booster=dart, total=  13.3s\n",
      "[CV] reg_lambda=0.4, reg_alpha=1, n_estimators=650, min_child_weight=3, max_depth=3, learning_rate=0.02, gamma=1e-05, booster=dart \n",
      "[CV]  reg_lambda=0.4, reg_alpha=1, n_estimators=650, min_child_weight=3, max_depth=3, learning_rate=0.02, gamma=1e-05, booster=dart, total=  16.5s\n",
      "[CV] reg_lambda=0.4, reg_alpha=1, n_estimators=650, min_child_weight=3, max_depth=3, learning_rate=0.02, gamma=1e-05, booster=dart \n",
      "[CV]  reg_lambda=0.4, reg_alpha=1, n_estimators=650, min_child_weight=3, max_depth=3, learning_rate=0.02, gamma=1e-05, booster=dart, total=  14.7s\n",
      "[CV] reg_lambda=0.4, reg_alpha=1, n_estimators=650, min_child_weight=3, max_depth=3, learning_rate=0.02, gamma=1e-05, booster=dart \n",
      "[CV]  reg_lambda=0.4, reg_alpha=1, n_estimators=650, min_child_weight=3, max_depth=3, learning_rate=0.02, gamma=1e-05, booster=dart, total=  13.6s\n",
      "[CV] reg_lambda=0.4, reg_alpha=1, n_estimators=650, min_child_weight=3, max_depth=3, learning_rate=0.02, gamma=1e-05, booster=dart \n",
      "[CV]  reg_lambda=0.4, reg_alpha=1, n_estimators=650, min_child_weight=3, max_depth=3, learning_rate=0.02, gamma=1e-05, booster=dart, total=  14.5s\n",
      "[CV] reg_lambda=0.5, reg_alpha=1, n_estimators=650, min_child_weight=3, max_depth=3, learning_rate=0.03, gamma=1e-05, booster=dart \n",
      "[CV]  reg_lambda=0.5, reg_alpha=1, n_estimators=650, min_child_weight=3, max_depth=3, learning_rate=0.03, gamma=1e-05, booster=dart, total=  17.0s\n",
      "[CV] reg_lambda=0.5, reg_alpha=1, n_estimators=650, min_child_weight=3, max_depth=3, learning_rate=0.03, gamma=1e-05, booster=dart \n",
      "[CV]  reg_lambda=0.5, reg_alpha=1, n_estimators=650, min_child_weight=3, max_depth=3, learning_rate=0.03, gamma=1e-05, booster=dart, total=  13.8s\n",
      "[CV] reg_lambda=0.5, reg_alpha=1, n_estimators=650, min_child_weight=3, max_depth=3, learning_rate=0.03, gamma=1e-05, booster=dart \n",
      "[CV]  reg_lambda=0.5, reg_alpha=1, n_estimators=650, min_child_weight=3, max_depth=3, learning_rate=0.03, gamma=1e-05, booster=dart, total=  13.8s\n",
      "[CV] reg_lambda=0.5, reg_alpha=1, n_estimators=650, min_child_weight=3, max_depth=3, learning_rate=0.03, gamma=1e-05, booster=dart \n",
      "[CV]  reg_lambda=0.5, reg_alpha=1, n_estimators=650, min_child_weight=3, max_depth=3, learning_rate=0.03, gamma=1e-05, booster=dart, total=  20.0s\n",
      "[CV] reg_lambda=0.5, reg_alpha=1, n_estimators=650, min_child_weight=3, max_depth=3, learning_rate=0.03, gamma=1e-05, booster=dart \n",
      "[CV]  reg_lambda=0.5, reg_alpha=1, n_estimators=650, min_child_weight=3, max_depth=3, learning_rate=0.03, gamma=1e-05, booster=dart, total=  17.1s\n",
      "[CV] reg_lambda=0.5, reg_alpha=1, n_estimators=700, min_child_weight=2.5, max_depth=4, learning_rate=0.03, gamma=0.0001, booster=dart \n",
      "[CV]  reg_lambda=0.5, reg_alpha=1, n_estimators=700, min_child_weight=2.5, max_depth=4, learning_rate=0.03, gamma=0.0001, booster=dart, total=  20.6s\n",
      "[CV] reg_lambda=0.5, reg_alpha=1, n_estimators=700, min_child_weight=2.5, max_depth=4, learning_rate=0.03, gamma=0.0001, booster=dart \n",
      "[CV]  reg_lambda=0.5, reg_alpha=1, n_estimators=700, min_child_weight=2.5, max_depth=4, learning_rate=0.03, gamma=0.0001, booster=dart, total=  19.4s\n",
      "[CV] reg_lambda=0.5, reg_alpha=1, n_estimators=700, min_child_weight=2.5, max_depth=4, learning_rate=0.03, gamma=0.0001, booster=dart \n",
      "[CV]  reg_lambda=0.5, reg_alpha=1, n_estimators=700, min_child_weight=2.5, max_depth=4, learning_rate=0.03, gamma=0.0001, booster=dart, total=  18.8s\n",
      "[CV] reg_lambda=0.5, reg_alpha=1, n_estimators=700, min_child_weight=2.5, max_depth=4, learning_rate=0.03, gamma=0.0001, booster=dart \n",
      "[CV]  reg_lambda=0.5, reg_alpha=1, n_estimators=700, min_child_weight=2.5, max_depth=4, learning_rate=0.03, gamma=0.0001, booster=dart, total=  18.4s\n",
      "[CV] reg_lambda=0.5, reg_alpha=1, n_estimators=700, min_child_weight=2.5, max_depth=4, learning_rate=0.03, gamma=0.0001, booster=dart \n",
      "[CV]  reg_lambda=0.5, reg_alpha=1, n_estimators=700, min_child_weight=2.5, max_depth=4, learning_rate=0.03, gamma=0.0001, booster=dart, total=  18.9s\n"
     ]
    },
    {
     "name": "stderr",
     "output_type": "stream",
     "text": [
      "[Parallel(n_jobs=1)]: Done  50 out of  50 | elapsed: 13.9min finished\n"
     ]
    },
    {
     "name": "stdout",
     "output_type": "stream",
     "text": [
      "XGBRegressor(base_score=0.5, booster='dart', colsample_bylevel=1,\n",
      "             colsample_bynode=1, colsample_bytree=1, gamma=0.0001, gpu_id=-1,\n",
      "             importance_type='gain', interaction_constraints='',\n",
      "             learning_rate=0.03, max_delta_step=0, max_depth=4,\n",
      "             min_child_weight=3, missing=nan, monotone_constraints='()',\n",
      "             n_estimators=700, n_jobs=2, num_parallel_tree=1, random_state=0,\n",
      "             reg_alpha=0.9, reg_lambda=0.4, scale_pos_weight=1, subsample=1,\n",
      "             tree_method='exact', validate_parameters=1, verbosity=None)\n",
      "0.04817097066361111\n",
      "Fitting 5 folds for each of 10 candidates, totalling 50 fits\n",
      "[CV] num_leaves=32, n_estimators=400, max_depth=3, learning_rate=0.1 .\n"
     ]
    },
    {
     "name": "stderr",
     "output_type": "stream",
     "text": [
      "[Parallel(n_jobs=1)]: Using backend SequentialBackend with 1 concurrent workers.\n",
      "C:\\Users\\Malik computer\\anaconda3\\lib\\site-packages\\sklearn\\utils\\validation.py:72: DataConversionWarning: A column-vector y was passed when a 1d array was expected. Please change the shape of y to (n_samples, ), for example using ravel().\n",
      "  return f(**kwargs)\n"
     ]
    },
    {
     "name": "stdout",
     "output_type": "stream",
     "text": [
      "[CV]  num_leaves=32, n_estimators=400, max_depth=3, learning_rate=0.1, total=   1.6s\n",
      "[CV] num_leaves=32, n_estimators=400, max_depth=3, learning_rate=0.1 .\n"
     ]
    },
    {
     "name": "stderr",
     "output_type": "stream",
     "text": [
      "[Parallel(n_jobs=1)]: Done   1 out of   1 | elapsed:    1.5s remaining:    0.0s\n",
      "C:\\Users\\Malik computer\\anaconda3\\lib\\site-packages\\sklearn\\utils\\validation.py:72: DataConversionWarning: A column-vector y was passed when a 1d array was expected. Please change the shape of y to (n_samples, ), for example using ravel().\n",
      "  return f(**kwargs)\n"
     ]
    },
    {
     "name": "stdout",
     "output_type": "stream",
     "text": [
      "[CV]  num_leaves=32, n_estimators=400, max_depth=3, learning_rate=0.1, total=   0.7s\n",
      "[CV] num_leaves=32, n_estimators=400, max_depth=3, learning_rate=0.1 .\n"
     ]
    },
    {
     "name": "stderr",
     "output_type": "stream",
     "text": [
      "C:\\Users\\Malik computer\\anaconda3\\lib\\site-packages\\sklearn\\utils\\validation.py:72: DataConversionWarning: A column-vector y was passed when a 1d array was expected. Please change the shape of y to (n_samples, ), for example using ravel().\n",
      "  return f(**kwargs)\n"
     ]
    },
    {
     "name": "stdout",
     "output_type": "stream",
     "text": [
      "[CV]  num_leaves=32, n_estimators=400, max_depth=3, learning_rate=0.1, total=   0.8s\n",
      "[CV] num_leaves=32, n_estimators=400, max_depth=3, learning_rate=0.1 .\n"
     ]
    },
    {
     "name": "stderr",
     "output_type": "stream",
     "text": [
      "C:\\Users\\Malik computer\\anaconda3\\lib\\site-packages\\sklearn\\utils\\validation.py:72: DataConversionWarning: A column-vector y was passed when a 1d array was expected. Please change the shape of y to (n_samples, ), for example using ravel().\n",
      "  return f(**kwargs)\n"
     ]
    },
    {
     "name": "stdout",
     "output_type": "stream",
     "text": [
      "[CV]  num_leaves=32, n_estimators=400, max_depth=3, learning_rate=0.1, total=   0.8s\n",
      "[CV] num_leaves=32, n_estimators=400, max_depth=3, learning_rate=0.1 .\n"
     ]
    },
    {
     "name": "stderr",
     "output_type": "stream",
     "text": [
      "C:\\Users\\Malik computer\\anaconda3\\lib\\site-packages\\sklearn\\utils\\validation.py:72: DataConversionWarning: A column-vector y was passed when a 1d array was expected. Please change the shape of y to (n_samples, ), for example using ravel().\n",
      "  return f(**kwargs)\n"
     ]
    },
    {
     "name": "stdout",
     "output_type": "stream",
     "text": [
      "[CV]  num_leaves=32, n_estimators=400, max_depth=3, learning_rate=0.1, total=   0.8s\n",
      "[CV] num_leaves=32, n_estimators=400, max_depth=3, learning_rate=0.2 .\n"
     ]
    },
    {
     "name": "stderr",
     "output_type": "stream",
     "text": [
      "C:\\Users\\Malik computer\\anaconda3\\lib\\site-packages\\sklearn\\utils\\validation.py:72: DataConversionWarning: A column-vector y was passed when a 1d array was expected. Please change the shape of y to (n_samples, ), for example using ravel().\n",
      "  return f(**kwargs)\n"
     ]
    },
    {
     "name": "stdout",
     "output_type": "stream",
     "text": [
      "[CV]  num_leaves=32, n_estimators=400, max_depth=3, learning_rate=0.2, total=   0.7s\n",
      "[CV] num_leaves=32, n_estimators=400, max_depth=3, learning_rate=0.2 .\n"
     ]
    },
    {
     "name": "stderr",
     "output_type": "stream",
     "text": [
      "C:\\Users\\Malik computer\\anaconda3\\lib\\site-packages\\sklearn\\utils\\validation.py:72: DataConversionWarning: A column-vector y was passed when a 1d array was expected. Please change the shape of y to (n_samples, ), for example using ravel().\n",
      "  return f(**kwargs)\n"
     ]
    },
    {
     "name": "stdout",
     "output_type": "stream",
     "text": [
      "[CV]  num_leaves=32, n_estimators=400, max_depth=3, learning_rate=0.2, total=   0.7s\n",
      "[CV] num_leaves=32, n_estimators=400, max_depth=3, learning_rate=0.2 .\n"
     ]
    },
    {
     "name": "stderr",
     "output_type": "stream",
     "text": [
      "C:\\Users\\Malik computer\\anaconda3\\lib\\site-packages\\sklearn\\utils\\validation.py:72: DataConversionWarning: A column-vector y was passed when a 1d array was expected. Please change the shape of y to (n_samples, ), for example using ravel().\n",
      "  return f(**kwargs)\n"
     ]
    },
    {
     "name": "stdout",
     "output_type": "stream",
     "text": [
      "[CV]  num_leaves=32, n_estimators=400, max_depth=3, learning_rate=0.2, total=   0.8s\n",
      "[CV] num_leaves=32, n_estimators=400, max_depth=3, learning_rate=0.2 .\n"
     ]
    },
    {
     "name": "stderr",
     "output_type": "stream",
     "text": [
      "C:\\Users\\Malik computer\\anaconda3\\lib\\site-packages\\sklearn\\utils\\validation.py:72: DataConversionWarning: A column-vector y was passed when a 1d array was expected. Please change the shape of y to (n_samples, ), for example using ravel().\n",
      "  return f(**kwargs)\n"
     ]
    },
    {
     "name": "stdout",
     "output_type": "stream",
     "text": [
      "[CV]  num_leaves=32, n_estimators=400, max_depth=3, learning_rate=0.2, total=   0.8s\n",
      "[CV] num_leaves=32, n_estimators=400, max_depth=3, learning_rate=0.2 .\n"
     ]
    },
    {
     "name": "stderr",
     "output_type": "stream",
     "text": [
      "C:\\Users\\Malik computer\\anaconda3\\lib\\site-packages\\sklearn\\utils\\validation.py:72: DataConversionWarning: A column-vector y was passed when a 1d array was expected. Please change the shape of y to (n_samples, ), for example using ravel().\n",
      "  return f(**kwargs)\n"
     ]
    },
    {
     "name": "stdout",
     "output_type": "stream",
     "text": [
      "[CV]  num_leaves=32, n_estimators=400, max_depth=3, learning_rate=0.2, total=   0.7s\n",
      "[CV] num_leaves=31, n_estimators=500, max_depth=3, learning_rate=0.1 .\n"
     ]
    },
    {
     "name": "stderr",
     "output_type": "stream",
     "text": [
      "C:\\Users\\Malik computer\\anaconda3\\lib\\site-packages\\sklearn\\utils\\validation.py:72: DataConversionWarning: A column-vector y was passed when a 1d array was expected. Please change the shape of y to (n_samples, ), for example using ravel().\n",
      "  return f(**kwargs)\n"
     ]
    },
    {
     "name": "stdout",
     "output_type": "stream",
     "text": [
      "[CV]  num_leaves=31, n_estimators=500, max_depth=3, learning_rate=0.1, total=   0.8s\n",
      "[CV] num_leaves=31, n_estimators=500, max_depth=3, learning_rate=0.1 .\n"
     ]
    },
    {
     "name": "stderr",
     "output_type": "stream",
     "text": [
      "C:\\Users\\Malik computer\\anaconda3\\lib\\site-packages\\sklearn\\utils\\validation.py:72: DataConversionWarning: A column-vector y was passed when a 1d array was expected. Please change the shape of y to (n_samples, ), for example using ravel().\n",
      "  return f(**kwargs)\n"
     ]
    },
    {
     "name": "stdout",
     "output_type": "stream",
     "text": [
      "[CV]  num_leaves=31, n_estimators=500, max_depth=3, learning_rate=0.1, total=   0.8s\n",
      "[CV] num_leaves=31, n_estimators=500, max_depth=3, learning_rate=0.1 .\n"
     ]
    },
    {
     "name": "stderr",
     "output_type": "stream",
     "text": [
      "C:\\Users\\Malik computer\\anaconda3\\lib\\site-packages\\sklearn\\utils\\validation.py:72: DataConversionWarning: A column-vector y was passed when a 1d array was expected. Please change the shape of y to (n_samples, ), for example using ravel().\n",
      "  return f(**kwargs)\n"
     ]
    },
    {
     "name": "stdout",
     "output_type": "stream",
     "text": [
      "[CV]  num_leaves=31, n_estimators=500, max_depth=3, learning_rate=0.1, total=   0.8s\n",
      "[CV] num_leaves=31, n_estimators=500, max_depth=3, learning_rate=0.1 .\n"
     ]
    },
    {
     "name": "stderr",
     "output_type": "stream",
     "text": [
      "C:\\Users\\Malik computer\\anaconda3\\lib\\site-packages\\sklearn\\utils\\validation.py:72: DataConversionWarning: A column-vector y was passed when a 1d array was expected. Please change the shape of y to (n_samples, ), for example using ravel().\n",
      "  return f(**kwargs)\n"
     ]
    },
    {
     "name": "stdout",
     "output_type": "stream",
     "text": [
      "[CV]  num_leaves=31, n_estimators=500, max_depth=3, learning_rate=0.1, total=   0.9s\n",
      "[CV] num_leaves=31, n_estimators=500, max_depth=3, learning_rate=0.1 .\n"
     ]
    },
    {
     "name": "stderr",
     "output_type": "stream",
     "text": [
      "C:\\Users\\Malik computer\\anaconda3\\lib\\site-packages\\sklearn\\utils\\validation.py:72: DataConversionWarning: A column-vector y was passed when a 1d array was expected. Please change the shape of y to (n_samples, ), for example using ravel().\n",
      "  return f(**kwargs)\n"
     ]
    },
    {
     "name": "stdout",
     "output_type": "stream",
     "text": [
      "[CV]  num_leaves=31, n_estimators=500, max_depth=3, learning_rate=0.1, total=   0.8s\n",
      "[CV] num_leaves=32, n_estimators=500, max_depth=4, learning_rate=0.2 .\n"
     ]
    },
    {
     "name": "stderr",
     "output_type": "stream",
     "text": [
      "C:\\Users\\Malik computer\\anaconda3\\lib\\site-packages\\sklearn\\utils\\validation.py:72: DataConversionWarning: A column-vector y was passed when a 1d array was expected. Please change the shape of y to (n_samples, ), for example using ravel().\n",
      "  return f(**kwargs)\n"
     ]
    },
    {
     "name": "stdout",
     "output_type": "stream",
     "text": [
      "[CV]  num_leaves=32, n_estimators=500, max_depth=4, learning_rate=0.2, total=   1.1s\n",
      "[CV] num_leaves=32, n_estimators=500, max_depth=4, learning_rate=0.2 .\n"
     ]
    },
    {
     "name": "stderr",
     "output_type": "stream",
     "text": [
      "C:\\Users\\Malik computer\\anaconda3\\lib\\site-packages\\sklearn\\utils\\validation.py:72: DataConversionWarning: A column-vector y was passed when a 1d array was expected. Please change the shape of y to (n_samples, ), for example using ravel().\n",
      "  return f(**kwargs)\n"
     ]
    },
    {
     "name": "stdout",
     "output_type": "stream",
     "text": [
      "[CV]  num_leaves=32, n_estimators=500, max_depth=4, learning_rate=0.2, total=   1.1s\n",
      "[CV] num_leaves=32, n_estimators=500, max_depth=4, learning_rate=0.2 .\n"
     ]
    },
    {
     "name": "stderr",
     "output_type": "stream",
     "text": [
      "C:\\Users\\Malik computer\\anaconda3\\lib\\site-packages\\sklearn\\utils\\validation.py:72: DataConversionWarning: A column-vector y was passed when a 1d array was expected. Please change the shape of y to (n_samples, ), for example using ravel().\n",
      "  return f(**kwargs)\n"
     ]
    },
    {
     "name": "stdout",
     "output_type": "stream",
     "text": [
      "[CV]  num_leaves=32, n_estimators=500, max_depth=4, learning_rate=0.2, total=   1.2s\n",
      "[CV] num_leaves=32, n_estimators=500, max_depth=4, learning_rate=0.2 .\n"
     ]
    },
    {
     "name": "stderr",
     "output_type": "stream",
     "text": [
      "C:\\Users\\Malik computer\\anaconda3\\lib\\site-packages\\sklearn\\utils\\validation.py:72: DataConversionWarning: A column-vector y was passed when a 1d array was expected. Please change the shape of y to (n_samples, ), for example using ravel().\n",
      "  return f(**kwargs)\n"
     ]
    },
    {
     "name": "stdout",
     "output_type": "stream",
     "text": [
      "[CV]  num_leaves=32, n_estimators=500, max_depth=4, learning_rate=0.2, total=   1.3s\n",
      "[CV] num_leaves=32, n_estimators=500, max_depth=4, learning_rate=0.2 .\n"
     ]
    },
    {
     "name": "stderr",
     "output_type": "stream",
     "text": [
      "C:\\Users\\Malik computer\\anaconda3\\lib\\site-packages\\sklearn\\utils\\validation.py:72: DataConversionWarning: A column-vector y was passed when a 1d array was expected. Please change the shape of y to (n_samples, ), for example using ravel().\n",
      "  return f(**kwargs)\n"
     ]
    },
    {
     "name": "stdout",
     "output_type": "stream",
     "text": [
      "[CV]  num_leaves=32, n_estimators=500, max_depth=4, learning_rate=0.2, total=   1.1s\n",
      "[CV] num_leaves=31, n_estimators=400, max_depth=4, learning_rate=0.1 .\n"
     ]
    },
    {
     "name": "stderr",
     "output_type": "stream",
     "text": [
      "C:\\Users\\Malik computer\\anaconda3\\lib\\site-packages\\sklearn\\utils\\validation.py:72: DataConversionWarning: A column-vector y was passed when a 1d array was expected. Please change the shape of y to (n_samples, ), for example using ravel().\n",
      "  return f(**kwargs)\n"
     ]
    },
    {
     "name": "stdout",
     "output_type": "stream",
     "text": [
      "[CV]  num_leaves=31, n_estimators=400, max_depth=4, learning_rate=0.1, total=   0.9s\n",
      "[CV] num_leaves=31, n_estimators=400, max_depth=4, learning_rate=0.1 .\n"
     ]
    },
    {
     "name": "stderr",
     "output_type": "stream",
     "text": [
      "C:\\Users\\Malik computer\\anaconda3\\lib\\site-packages\\sklearn\\utils\\validation.py:72: DataConversionWarning: A column-vector y was passed when a 1d array was expected. Please change the shape of y to (n_samples, ), for example using ravel().\n",
      "  return f(**kwargs)\n"
     ]
    },
    {
     "name": "stdout",
     "output_type": "stream",
     "text": [
      "[CV]  num_leaves=31, n_estimators=400, max_depth=4, learning_rate=0.1, total=   0.9s\n",
      "[CV] num_leaves=31, n_estimators=400, max_depth=4, learning_rate=0.1 .\n"
     ]
    },
    {
     "name": "stderr",
     "output_type": "stream",
     "text": [
      "C:\\Users\\Malik computer\\anaconda3\\lib\\site-packages\\sklearn\\utils\\validation.py:72: DataConversionWarning: A column-vector y was passed when a 1d array was expected. Please change the shape of y to (n_samples, ), for example using ravel().\n",
      "  return f(**kwargs)\n"
     ]
    },
    {
     "name": "stdout",
     "output_type": "stream",
     "text": [
      "[CV]  num_leaves=31, n_estimators=400, max_depth=4, learning_rate=0.1, total=   1.0s\n",
      "[CV] num_leaves=31, n_estimators=400, max_depth=4, learning_rate=0.1 .\n"
     ]
    },
    {
     "name": "stderr",
     "output_type": "stream",
     "text": [
      "C:\\Users\\Malik computer\\anaconda3\\lib\\site-packages\\sklearn\\utils\\validation.py:72: DataConversionWarning: A column-vector y was passed when a 1d array was expected. Please change the shape of y to (n_samples, ), for example using ravel().\n",
      "  return f(**kwargs)\n"
     ]
    },
    {
     "name": "stdout",
     "output_type": "stream",
     "text": [
      "[CV]  num_leaves=31, n_estimators=400, max_depth=4, learning_rate=0.1, total=   1.3s\n",
      "[CV] num_leaves=31, n_estimators=400, max_depth=4, learning_rate=0.1 .\n"
     ]
    },
    {
     "name": "stderr",
     "output_type": "stream",
     "text": [
      "C:\\Users\\Malik computer\\anaconda3\\lib\\site-packages\\sklearn\\utils\\validation.py:72: DataConversionWarning: A column-vector y was passed when a 1d array was expected. Please change the shape of y to (n_samples, ), for example using ravel().\n",
      "  return f(**kwargs)\n"
     ]
    },
    {
     "name": "stdout",
     "output_type": "stream",
     "text": [
      "[CV]  num_leaves=31, n_estimators=400, max_depth=4, learning_rate=0.1, total=   1.4s\n",
      "[CV] num_leaves=32, n_estimators=400, max_depth=4, learning_rate=0.1 .\n"
     ]
    },
    {
     "name": "stderr",
     "output_type": "stream",
     "text": [
      "C:\\Users\\Malik computer\\anaconda3\\lib\\site-packages\\sklearn\\utils\\validation.py:72: DataConversionWarning: A column-vector y was passed when a 1d array was expected. Please change the shape of y to (n_samples, ), for example using ravel().\n",
      "  return f(**kwargs)\n"
     ]
    },
    {
     "name": "stdout",
     "output_type": "stream",
     "text": [
      "[CV]  num_leaves=32, n_estimators=400, max_depth=4, learning_rate=0.1, total=   1.0s\n",
      "[CV] num_leaves=32, n_estimators=400, max_depth=4, learning_rate=0.1 .\n"
     ]
    },
    {
     "name": "stderr",
     "output_type": "stream",
     "text": [
      "C:\\Users\\Malik computer\\anaconda3\\lib\\site-packages\\sklearn\\utils\\validation.py:72: DataConversionWarning: A column-vector y was passed when a 1d array was expected. Please change the shape of y to (n_samples, ), for example using ravel().\n",
      "  return f(**kwargs)\n"
     ]
    },
    {
     "name": "stdout",
     "output_type": "stream",
     "text": [
      "[CV]  num_leaves=32, n_estimators=400, max_depth=4, learning_rate=0.1, total=   0.9s\n",
      "[CV] num_leaves=32, n_estimators=400, max_depth=4, learning_rate=0.1 .\n"
     ]
    },
    {
     "name": "stderr",
     "output_type": "stream",
     "text": [
      "C:\\Users\\Malik computer\\anaconda3\\lib\\site-packages\\sklearn\\utils\\validation.py:72: DataConversionWarning: A column-vector y was passed when a 1d array was expected. Please change the shape of y to (n_samples, ), for example using ravel().\n",
      "  return f(**kwargs)\n"
     ]
    },
    {
     "name": "stdout",
     "output_type": "stream",
     "text": [
      "[CV]  num_leaves=32, n_estimators=400, max_depth=4, learning_rate=0.1, total=   1.0s\n",
      "[CV] num_leaves=32, n_estimators=400, max_depth=4, learning_rate=0.1 .\n"
     ]
    },
    {
     "name": "stderr",
     "output_type": "stream",
     "text": [
      "C:\\Users\\Malik computer\\anaconda3\\lib\\site-packages\\sklearn\\utils\\validation.py:72: DataConversionWarning: A column-vector y was passed when a 1d array was expected. Please change the shape of y to (n_samples, ), for example using ravel().\n",
      "  return f(**kwargs)\n"
     ]
    },
    {
     "name": "stdout",
     "output_type": "stream",
     "text": [
      "[CV]  num_leaves=32, n_estimators=400, max_depth=4, learning_rate=0.1, total=   1.0s\n",
      "[CV] num_leaves=32, n_estimators=400, max_depth=4, learning_rate=0.1 .\n"
     ]
    },
    {
     "name": "stderr",
     "output_type": "stream",
     "text": [
      "C:\\Users\\Malik computer\\anaconda3\\lib\\site-packages\\sklearn\\utils\\validation.py:72: DataConversionWarning: A column-vector y was passed when a 1d array was expected. Please change the shape of y to (n_samples, ), for example using ravel().\n",
      "  return f(**kwargs)\n"
     ]
    },
    {
     "name": "stdout",
     "output_type": "stream",
     "text": [
      "[CV]  num_leaves=32, n_estimators=400, max_depth=4, learning_rate=0.1, total=   0.9s\n",
      "[CV] num_leaves=32, n_estimators=500, max_depth=3, learning_rate=0.2 .\n"
     ]
    },
    {
     "name": "stderr",
     "output_type": "stream",
     "text": [
      "C:\\Users\\Malik computer\\anaconda3\\lib\\site-packages\\sklearn\\utils\\validation.py:72: DataConversionWarning: A column-vector y was passed when a 1d array was expected. Please change the shape of y to (n_samples, ), for example using ravel().\n",
      "  return f(**kwargs)\n"
     ]
    },
    {
     "name": "stdout",
     "output_type": "stream",
     "text": [
      "[CV]  num_leaves=32, n_estimators=500, max_depth=3, learning_rate=0.2, total=   0.8s\n",
      "[CV] num_leaves=32, n_estimators=500, max_depth=3, learning_rate=0.2 .\n"
     ]
    },
    {
     "name": "stderr",
     "output_type": "stream",
     "text": [
      "C:\\Users\\Malik computer\\anaconda3\\lib\\site-packages\\sklearn\\utils\\validation.py:72: DataConversionWarning: A column-vector y was passed when a 1d array was expected. Please change the shape of y to (n_samples, ), for example using ravel().\n",
      "  return f(**kwargs)\n"
     ]
    },
    {
     "name": "stdout",
     "output_type": "stream",
     "text": [
      "[CV]  num_leaves=32, n_estimators=500, max_depth=3, learning_rate=0.2, total=   0.8s\n",
      "[CV] num_leaves=32, n_estimators=500, max_depth=3, learning_rate=0.2 .\n"
     ]
    },
    {
     "name": "stderr",
     "output_type": "stream",
     "text": [
      "C:\\Users\\Malik computer\\anaconda3\\lib\\site-packages\\sklearn\\utils\\validation.py:72: DataConversionWarning: A column-vector y was passed when a 1d array was expected. Please change the shape of y to (n_samples, ), for example using ravel().\n",
      "  return f(**kwargs)\n"
     ]
    },
    {
     "name": "stdout",
     "output_type": "stream",
     "text": [
      "[CV]  num_leaves=32, n_estimators=500, max_depth=3, learning_rate=0.2, total=   0.9s\n",
      "[CV] num_leaves=32, n_estimators=500, max_depth=3, learning_rate=0.2 .\n"
     ]
    },
    {
     "name": "stderr",
     "output_type": "stream",
     "text": [
      "C:\\Users\\Malik computer\\anaconda3\\lib\\site-packages\\sklearn\\utils\\validation.py:72: DataConversionWarning: A column-vector y was passed when a 1d array was expected. Please change the shape of y to (n_samples, ), for example using ravel().\n",
      "  return f(**kwargs)\n"
     ]
    },
    {
     "name": "stdout",
     "output_type": "stream",
     "text": [
      "[CV]  num_leaves=32, n_estimators=500, max_depth=3, learning_rate=0.2, total=   0.9s\n",
      "[CV] num_leaves=32, n_estimators=500, max_depth=3, learning_rate=0.2 .\n"
     ]
    },
    {
     "name": "stderr",
     "output_type": "stream",
     "text": [
      "C:\\Users\\Malik computer\\anaconda3\\lib\\site-packages\\sklearn\\utils\\validation.py:72: DataConversionWarning: A column-vector y was passed when a 1d array was expected. Please change the shape of y to (n_samples, ), for example using ravel().\n",
      "  return f(**kwargs)\n"
     ]
    },
    {
     "name": "stdout",
     "output_type": "stream",
     "text": [
      "[CV]  num_leaves=32, n_estimators=500, max_depth=3, learning_rate=0.2, total=   0.9s\n",
      "[CV] num_leaves=31, n_estimators=500, max_depth=4, learning_rate=0.1 .\n"
     ]
    },
    {
     "name": "stderr",
     "output_type": "stream",
     "text": [
      "C:\\Users\\Malik computer\\anaconda3\\lib\\site-packages\\sklearn\\utils\\validation.py:72: DataConversionWarning: A column-vector y was passed when a 1d array was expected. Please change the shape of y to (n_samples, ), for example using ravel().\n",
      "  return f(**kwargs)\n"
     ]
    },
    {
     "name": "stdout",
     "output_type": "stream",
     "text": [
      "[CV]  num_leaves=31, n_estimators=500, max_depth=4, learning_rate=0.1, total=   1.1s\n",
      "[CV] num_leaves=31, n_estimators=500, max_depth=4, learning_rate=0.1 .\n"
     ]
    },
    {
     "name": "stderr",
     "output_type": "stream",
     "text": [
      "C:\\Users\\Malik computer\\anaconda3\\lib\\site-packages\\sklearn\\utils\\validation.py:72: DataConversionWarning: A column-vector y was passed when a 1d array was expected. Please change the shape of y to (n_samples, ), for example using ravel().\n",
      "  return f(**kwargs)\n"
     ]
    },
    {
     "name": "stdout",
     "output_type": "stream",
     "text": [
      "[CV]  num_leaves=31, n_estimators=500, max_depth=4, learning_rate=0.1, total=   1.1s\n",
      "[CV] num_leaves=31, n_estimators=500, max_depth=4, learning_rate=0.1 .\n"
     ]
    },
    {
     "name": "stderr",
     "output_type": "stream",
     "text": [
      "C:\\Users\\Malik computer\\anaconda3\\lib\\site-packages\\sklearn\\utils\\validation.py:72: DataConversionWarning: A column-vector y was passed when a 1d array was expected. Please change the shape of y to (n_samples, ), for example using ravel().\n",
      "  return f(**kwargs)\n"
     ]
    },
    {
     "name": "stdout",
     "output_type": "stream",
     "text": [
      "[CV]  num_leaves=31, n_estimators=500, max_depth=4, learning_rate=0.1, total=   1.2s\n",
      "[CV] num_leaves=31, n_estimators=500, max_depth=4, learning_rate=0.1 .\n"
     ]
    },
    {
     "name": "stderr",
     "output_type": "stream",
     "text": [
      "C:\\Users\\Malik computer\\anaconda3\\lib\\site-packages\\sklearn\\utils\\validation.py:72: DataConversionWarning: A column-vector y was passed when a 1d array was expected. Please change the shape of y to (n_samples, ), for example using ravel().\n",
      "  return f(**kwargs)\n"
     ]
    },
    {
     "name": "stdout",
     "output_type": "stream",
     "text": [
      "[CV]  num_leaves=31, n_estimators=500, max_depth=4, learning_rate=0.1, total=   1.3s\n",
      "[CV] num_leaves=31, n_estimators=500, max_depth=4, learning_rate=0.1 .\n"
     ]
    },
    {
     "name": "stderr",
     "output_type": "stream",
     "text": [
      "C:\\Users\\Malik computer\\anaconda3\\lib\\site-packages\\sklearn\\utils\\validation.py:72: DataConversionWarning: A column-vector y was passed when a 1d array was expected. Please change the shape of y to (n_samples, ), for example using ravel().\n",
      "  return f(**kwargs)\n"
     ]
    },
    {
     "name": "stdout",
     "output_type": "stream",
     "text": [
      "[CV]  num_leaves=31, n_estimators=500, max_depth=4, learning_rate=0.1, total=   1.1s\n",
      "[CV] num_leaves=32, n_estimators=500, max_depth=3, learning_rate=0.1 .\n"
     ]
    },
    {
     "name": "stderr",
     "output_type": "stream",
     "text": [
      "C:\\Users\\Malik computer\\anaconda3\\lib\\site-packages\\sklearn\\utils\\validation.py:72: DataConversionWarning: A column-vector y was passed when a 1d array was expected. Please change the shape of y to (n_samples, ), for example using ravel().\n",
      "  return f(**kwargs)\n"
     ]
    },
    {
     "name": "stdout",
     "output_type": "stream",
     "text": [
      "[CV]  num_leaves=32, n_estimators=500, max_depth=3, learning_rate=0.1, total=   0.8s\n",
      "[CV] num_leaves=32, n_estimators=500, max_depth=3, learning_rate=0.1 .\n"
     ]
    },
    {
     "name": "stderr",
     "output_type": "stream",
     "text": [
      "C:\\Users\\Malik computer\\anaconda3\\lib\\site-packages\\sklearn\\utils\\validation.py:72: DataConversionWarning: A column-vector y was passed when a 1d array was expected. Please change the shape of y to (n_samples, ), for example using ravel().\n",
      "  return f(**kwargs)\n"
     ]
    },
    {
     "name": "stdout",
     "output_type": "stream",
     "text": [
      "[CV]  num_leaves=32, n_estimators=500, max_depth=3, learning_rate=0.1, total=   0.8s\n",
      "[CV] num_leaves=32, n_estimators=500, max_depth=3, learning_rate=0.1 .\n"
     ]
    },
    {
     "name": "stderr",
     "output_type": "stream",
     "text": [
      "C:\\Users\\Malik computer\\anaconda3\\lib\\site-packages\\sklearn\\utils\\validation.py:72: DataConversionWarning: A column-vector y was passed when a 1d array was expected. Please change the shape of y to (n_samples, ), for example using ravel().\n",
      "  return f(**kwargs)\n"
     ]
    },
    {
     "name": "stdout",
     "output_type": "stream",
     "text": [
      "[CV]  num_leaves=32, n_estimators=500, max_depth=3, learning_rate=0.1, total=   0.9s\n",
      "[CV] num_leaves=32, n_estimators=500, max_depth=3, learning_rate=0.1 .\n"
     ]
    },
    {
     "name": "stderr",
     "output_type": "stream",
     "text": [
      "C:\\Users\\Malik computer\\anaconda3\\lib\\site-packages\\sklearn\\utils\\validation.py:72: DataConversionWarning: A column-vector y was passed when a 1d array was expected. Please change the shape of y to (n_samples, ), for example using ravel().\n",
      "  return f(**kwargs)\n"
     ]
    },
    {
     "name": "stdout",
     "output_type": "stream",
     "text": [
      "[CV]  num_leaves=32, n_estimators=500, max_depth=3, learning_rate=0.1, total=   0.9s\n",
      "[CV] num_leaves=32, n_estimators=500, max_depth=3, learning_rate=0.1 .\n"
     ]
    },
    {
     "name": "stderr",
     "output_type": "stream",
     "text": [
      "C:\\Users\\Malik computer\\anaconda3\\lib\\site-packages\\sklearn\\utils\\validation.py:72: DataConversionWarning: A column-vector y was passed when a 1d array was expected. Please change the shape of y to (n_samples, ), for example using ravel().\n",
      "  return f(**kwargs)\n"
     ]
    },
    {
     "name": "stdout",
     "output_type": "stream",
     "text": [
      "[CV]  num_leaves=32, n_estimators=500, max_depth=3, learning_rate=0.1, total=   0.8s\n",
      "[CV] num_leaves=31, n_estimators=500, max_depth=4, learning_rate=0.2 .\n"
     ]
    },
    {
     "name": "stderr",
     "output_type": "stream",
     "text": [
      "C:\\Users\\Malik computer\\anaconda3\\lib\\site-packages\\sklearn\\utils\\validation.py:72: DataConversionWarning: A column-vector y was passed when a 1d array was expected. Please change the shape of y to (n_samples, ), for example using ravel().\n",
      "  return f(**kwargs)\n"
     ]
    },
    {
     "name": "stdout",
     "output_type": "stream",
     "text": [
      "[CV]  num_leaves=31, n_estimators=500, max_depth=4, learning_rate=0.2, total=   1.0s\n",
      "[CV] num_leaves=31, n_estimators=500, max_depth=4, learning_rate=0.2 .\n"
     ]
    },
    {
     "name": "stderr",
     "output_type": "stream",
     "text": [
      "C:\\Users\\Malik computer\\anaconda3\\lib\\site-packages\\sklearn\\utils\\validation.py:72: DataConversionWarning: A column-vector y was passed when a 1d array was expected. Please change the shape of y to (n_samples, ), for example using ravel().\n",
      "  return f(**kwargs)\n"
     ]
    },
    {
     "name": "stdout",
     "output_type": "stream",
     "text": [
      "[CV]  num_leaves=31, n_estimators=500, max_depth=4, learning_rate=0.2, total=   1.1s\n",
      "[CV] num_leaves=31, n_estimators=500, max_depth=4, learning_rate=0.2 .\n"
     ]
    },
    {
     "name": "stderr",
     "output_type": "stream",
     "text": [
      "C:\\Users\\Malik computer\\anaconda3\\lib\\site-packages\\sklearn\\utils\\validation.py:72: DataConversionWarning: A column-vector y was passed when a 1d array was expected. Please change the shape of y to (n_samples, ), for example using ravel().\n",
      "  return f(**kwargs)\n"
     ]
    },
    {
     "name": "stdout",
     "output_type": "stream",
     "text": [
      "[CV]  num_leaves=31, n_estimators=500, max_depth=4, learning_rate=0.2, total=   1.3s\n",
      "[CV] num_leaves=31, n_estimators=500, max_depth=4, learning_rate=0.2 .\n"
     ]
    },
    {
     "name": "stderr",
     "output_type": "stream",
     "text": [
      "C:\\Users\\Malik computer\\anaconda3\\lib\\site-packages\\sklearn\\utils\\validation.py:72: DataConversionWarning: A column-vector y was passed when a 1d array was expected. Please change the shape of y to (n_samples, ), for example using ravel().\n",
      "  return f(**kwargs)\n"
     ]
    },
    {
     "name": "stdout",
     "output_type": "stream",
     "text": [
      "[CV]  num_leaves=31, n_estimators=500, max_depth=4, learning_rate=0.2, total=   1.3s\n",
      "[CV] num_leaves=31, n_estimators=500, max_depth=4, learning_rate=0.2 .\n"
     ]
    },
    {
     "name": "stderr",
     "output_type": "stream",
     "text": [
      "C:\\Users\\Malik computer\\anaconda3\\lib\\site-packages\\sklearn\\utils\\validation.py:72: DataConversionWarning: A column-vector y was passed when a 1d array was expected. Please change the shape of y to (n_samples, ), for example using ravel().\n",
      "  return f(**kwargs)\n"
     ]
    },
    {
     "name": "stdout",
     "output_type": "stream",
     "text": [
      "[CV]  num_leaves=31, n_estimators=500, max_depth=4, learning_rate=0.2, total=   1.2s\n"
     ]
    },
    {
     "name": "stderr",
     "output_type": "stream",
     "text": [
      "[Parallel(n_jobs=1)]: Done  50 out of  50 | elapsed:   48.7s finished\n",
      "C:\\Users\\Malik computer\\anaconda3\\lib\\site-packages\\sklearn\\utils\\validation.py:72: DataConversionWarning: A column-vector y was passed when a 1d array was expected. Please change the shape of y to (n_samples, ), for example using ravel().\n",
      "  return f(**kwargs)\n"
     ]
    },
    {
     "name": "stdout",
     "output_type": "stream",
     "text": [
      "{'num_leaves': 32, 'n_estimators': 400, 'max_depth': 3, 'learning_rate': 0.1}\n",
      "0.04460901734988492\n",
      "Fitting 5 folds for each of 10 candidates, totalling 50 fits\n",
      "[CV] tol=0.0013, kernel=rbf, gamma=0.0001, epsilon=0.013, cache_size=180 \n"
     ]
    },
    {
     "name": "stderr",
     "output_type": "stream",
     "text": [
      "[Parallel(n_jobs=1)]: Using backend SequentialBackend with 1 concurrent workers.\n",
      "C:\\Users\\Malik computer\\anaconda3\\lib\\site-packages\\sklearn\\utils\\validation.py:72: DataConversionWarning: A column-vector y was passed when a 1d array was expected. Please change the shape of y to (n_samples, ), for example using ravel().\n",
      "  return f(**kwargs)\n"
     ]
    },
    {
     "name": "stdout",
     "output_type": "stream",
     "text": [
      "[CV]  tol=0.0013, kernel=rbf, gamma=0.0001, epsilon=0.013, cache_size=180, total=   1.4s\n",
      "[CV] tol=0.0013, kernel=rbf, gamma=0.0001, epsilon=0.013, cache_size=180 \n"
     ]
    },
    {
     "name": "stderr",
     "output_type": "stream",
     "text": [
      "[Parallel(n_jobs=1)]: Done   1 out of   1 | elapsed:    1.3s remaining:    0.0s\n",
      "C:\\Users\\Malik computer\\anaconda3\\lib\\site-packages\\sklearn\\utils\\validation.py:72: DataConversionWarning: A column-vector y was passed when a 1d array was expected. Please change the shape of y to (n_samples, ), for example using ravel().\n",
      "  return f(**kwargs)\n"
     ]
    },
    {
     "name": "stdout",
     "output_type": "stream",
     "text": [
      "[CV]  tol=0.0013, kernel=rbf, gamma=0.0001, epsilon=0.013, cache_size=180, total=   1.2s\n",
      "[CV] tol=0.0013, kernel=rbf, gamma=0.0001, epsilon=0.013, cache_size=180 \n"
     ]
    },
    {
     "name": "stderr",
     "output_type": "stream",
     "text": [
      "C:\\Users\\Malik computer\\anaconda3\\lib\\site-packages\\sklearn\\utils\\validation.py:72: DataConversionWarning: A column-vector y was passed when a 1d array was expected. Please change the shape of y to (n_samples, ), for example using ravel().\n",
      "  return f(**kwargs)\n"
     ]
    },
    {
     "name": "stdout",
     "output_type": "stream",
     "text": [
      "[CV]  tol=0.0013, kernel=rbf, gamma=0.0001, epsilon=0.013, cache_size=180, total=   1.2s\n",
      "[CV] tol=0.0013, kernel=rbf, gamma=0.0001, epsilon=0.013, cache_size=180 \n"
     ]
    },
    {
     "name": "stderr",
     "output_type": "stream",
     "text": [
      "C:\\Users\\Malik computer\\anaconda3\\lib\\site-packages\\sklearn\\utils\\validation.py:72: DataConversionWarning: A column-vector y was passed when a 1d array was expected. Please change the shape of y to (n_samples, ), for example using ravel().\n",
      "  return f(**kwargs)\n"
     ]
    },
    {
     "name": "stdout",
     "output_type": "stream",
     "text": [
      "[CV]  tol=0.0013, kernel=rbf, gamma=0.0001, epsilon=0.013, cache_size=180, total=   1.2s\n",
      "[CV] tol=0.0013, kernel=rbf, gamma=0.0001, epsilon=0.013, cache_size=180 \n"
     ]
    },
    {
     "name": "stderr",
     "output_type": "stream",
     "text": [
      "C:\\Users\\Malik computer\\anaconda3\\lib\\site-packages\\sklearn\\utils\\validation.py:72: DataConversionWarning: A column-vector y was passed when a 1d array was expected. Please change the shape of y to (n_samples, ), for example using ravel().\n",
      "  return f(**kwargs)\n"
     ]
    },
    {
     "name": "stdout",
     "output_type": "stream",
     "text": [
      "[CV]  tol=0.0013, kernel=rbf, gamma=0.0001, epsilon=0.013, cache_size=180, total=   1.2s\n",
      "[CV] tol=0.0011, kernel=rbf, gamma=0.0001, epsilon=0.013, cache_size=185 \n"
     ]
    },
    {
     "name": "stderr",
     "output_type": "stream",
     "text": [
      "C:\\Users\\Malik computer\\anaconda3\\lib\\site-packages\\sklearn\\utils\\validation.py:72: DataConversionWarning: A column-vector y was passed when a 1d array was expected. Please change the shape of y to (n_samples, ), for example using ravel().\n",
      "  return f(**kwargs)\n"
     ]
    },
    {
     "name": "stdout",
     "output_type": "stream",
     "text": [
      "[CV]  tol=0.0011, kernel=rbf, gamma=0.0001, epsilon=0.013, cache_size=185, total=   1.2s\n",
      "[CV] tol=0.0011, kernel=rbf, gamma=0.0001, epsilon=0.013, cache_size=185 \n"
     ]
    },
    {
     "name": "stderr",
     "output_type": "stream",
     "text": [
      "C:\\Users\\Malik computer\\anaconda3\\lib\\site-packages\\sklearn\\utils\\validation.py:72: DataConversionWarning: A column-vector y was passed when a 1d array was expected. Please change the shape of y to (n_samples, ), for example using ravel().\n",
      "  return f(**kwargs)\n"
     ]
    },
    {
     "name": "stdout",
     "output_type": "stream",
     "text": [
      "[CV]  tol=0.0011, kernel=rbf, gamma=0.0001, epsilon=0.013, cache_size=185, total=   1.2s\n",
      "[CV] tol=0.0011, kernel=rbf, gamma=0.0001, epsilon=0.013, cache_size=185 \n"
     ]
    },
    {
     "name": "stderr",
     "output_type": "stream",
     "text": [
      "C:\\Users\\Malik computer\\anaconda3\\lib\\site-packages\\sklearn\\utils\\validation.py:72: DataConversionWarning: A column-vector y was passed when a 1d array was expected. Please change the shape of y to (n_samples, ), for example using ravel().\n",
      "  return f(**kwargs)\n"
     ]
    },
    {
     "name": "stdout",
     "output_type": "stream",
     "text": [
      "[CV]  tol=0.0011, kernel=rbf, gamma=0.0001, epsilon=0.013, cache_size=185, total=   1.2s\n",
      "[CV] tol=0.0011, kernel=rbf, gamma=0.0001, epsilon=0.013, cache_size=185 \n"
     ]
    },
    {
     "name": "stderr",
     "output_type": "stream",
     "text": [
      "C:\\Users\\Malik computer\\anaconda3\\lib\\site-packages\\sklearn\\utils\\validation.py:72: DataConversionWarning: A column-vector y was passed when a 1d array was expected. Please change the shape of y to (n_samples, ), for example using ravel().\n",
      "  return f(**kwargs)\n"
     ]
    },
    {
     "name": "stdout",
     "output_type": "stream",
     "text": [
      "[CV]  tol=0.0011, kernel=rbf, gamma=0.0001, epsilon=0.013, cache_size=185, total=   1.2s\n",
      "[CV] tol=0.0011, kernel=rbf, gamma=0.0001, epsilon=0.013, cache_size=185 \n"
     ]
    },
    {
     "name": "stderr",
     "output_type": "stream",
     "text": [
      "C:\\Users\\Malik computer\\anaconda3\\lib\\site-packages\\sklearn\\utils\\validation.py:72: DataConversionWarning: A column-vector y was passed when a 1d array was expected. Please change the shape of y to (n_samples, ), for example using ravel().\n",
      "  return f(**kwargs)\n"
     ]
    },
    {
     "name": "stdout",
     "output_type": "stream",
     "text": [
      "[CV]  tol=0.0011, kernel=rbf, gamma=0.0001, epsilon=0.013, cache_size=185, total=   1.2s\n",
      "[CV] tol=0.0013, kernel=rbf, gamma=9e-05, epsilon=0.013, cache_size=180 \n"
     ]
    },
    {
     "name": "stderr",
     "output_type": "stream",
     "text": [
      "C:\\Users\\Malik computer\\anaconda3\\lib\\site-packages\\sklearn\\utils\\validation.py:72: DataConversionWarning: A column-vector y was passed when a 1d array was expected. Please change the shape of y to (n_samples, ), for example using ravel().\n",
      "  return f(**kwargs)\n"
     ]
    },
    {
     "name": "stdout",
     "output_type": "stream",
     "text": [
      "[CV]  tol=0.0013, kernel=rbf, gamma=9e-05, epsilon=0.013, cache_size=180, total=   1.2s\n",
      "[CV] tol=0.0013, kernel=rbf, gamma=9e-05, epsilon=0.013, cache_size=180 \n"
     ]
    },
    {
     "name": "stderr",
     "output_type": "stream",
     "text": [
      "C:\\Users\\Malik computer\\anaconda3\\lib\\site-packages\\sklearn\\utils\\validation.py:72: DataConversionWarning: A column-vector y was passed when a 1d array was expected. Please change the shape of y to (n_samples, ), for example using ravel().\n",
      "  return f(**kwargs)\n"
     ]
    },
    {
     "name": "stdout",
     "output_type": "stream",
     "text": [
      "[CV]  tol=0.0013, kernel=rbf, gamma=9e-05, epsilon=0.013, cache_size=180, total=   1.2s\n",
      "[CV] tol=0.0013, kernel=rbf, gamma=9e-05, epsilon=0.013, cache_size=180 \n"
     ]
    },
    {
     "name": "stderr",
     "output_type": "stream",
     "text": [
      "C:\\Users\\Malik computer\\anaconda3\\lib\\site-packages\\sklearn\\utils\\validation.py:72: DataConversionWarning: A column-vector y was passed when a 1d array was expected. Please change the shape of y to (n_samples, ), for example using ravel().\n",
      "  return f(**kwargs)\n"
     ]
    },
    {
     "name": "stdout",
     "output_type": "stream",
     "text": [
      "[CV]  tol=0.0013, kernel=rbf, gamma=9e-05, epsilon=0.013, cache_size=180, total=   1.2s\n",
      "[CV] tol=0.0013, kernel=rbf, gamma=9e-05, epsilon=0.013, cache_size=180 \n"
     ]
    },
    {
     "name": "stderr",
     "output_type": "stream",
     "text": [
      "C:\\Users\\Malik computer\\anaconda3\\lib\\site-packages\\sklearn\\utils\\validation.py:72: DataConversionWarning: A column-vector y was passed when a 1d array was expected. Please change the shape of y to (n_samples, ), for example using ravel().\n",
      "  return f(**kwargs)\n"
     ]
    },
    {
     "name": "stdout",
     "output_type": "stream",
     "text": [
      "[CV]  tol=0.0013, kernel=rbf, gamma=9e-05, epsilon=0.013, cache_size=180, total=   1.2s\n",
      "[CV] tol=0.0013, kernel=rbf, gamma=9e-05, epsilon=0.013, cache_size=180 \n"
     ]
    },
    {
     "name": "stderr",
     "output_type": "stream",
     "text": [
      "C:\\Users\\Malik computer\\anaconda3\\lib\\site-packages\\sklearn\\utils\\validation.py:72: DataConversionWarning: A column-vector y was passed when a 1d array was expected. Please change the shape of y to (n_samples, ), for example using ravel().\n",
      "  return f(**kwargs)\n"
     ]
    },
    {
     "name": "stdout",
     "output_type": "stream",
     "text": [
      "[CV]  tol=0.0013, kernel=rbf, gamma=9e-05, epsilon=0.013, cache_size=180, total=   1.2s\n",
      "[CV] tol=0.0011, kernel=rbf, gamma=9e-05, epsilon=0.011, cache_size=180 \n"
     ]
    },
    {
     "name": "stderr",
     "output_type": "stream",
     "text": [
      "C:\\Users\\Malik computer\\anaconda3\\lib\\site-packages\\sklearn\\utils\\validation.py:72: DataConversionWarning: A column-vector y was passed when a 1d array was expected. Please change the shape of y to (n_samples, ), for example using ravel().\n",
      "  return f(**kwargs)\n"
     ]
    },
    {
     "name": "stdout",
     "output_type": "stream",
     "text": [
      "[CV]  tol=0.0011, kernel=rbf, gamma=9e-05, epsilon=0.011, cache_size=180, total=   1.2s\n",
      "[CV] tol=0.0011, kernel=rbf, gamma=9e-05, epsilon=0.011, cache_size=180 \n"
     ]
    },
    {
     "name": "stderr",
     "output_type": "stream",
     "text": [
      "C:\\Users\\Malik computer\\anaconda3\\lib\\site-packages\\sklearn\\utils\\validation.py:72: DataConversionWarning: A column-vector y was passed when a 1d array was expected. Please change the shape of y to (n_samples, ), for example using ravel().\n",
      "  return f(**kwargs)\n"
     ]
    },
    {
     "name": "stdout",
     "output_type": "stream",
     "text": [
      "[CV]  tol=0.0011, kernel=rbf, gamma=9e-05, epsilon=0.011, cache_size=180, total=   1.2s\n",
      "[CV] tol=0.0011, kernel=rbf, gamma=9e-05, epsilon=0.011, cache_size=180 \n"
     ]
    },
    {
     "name": "stderr",
     "output_type": "stream",
     "text": [
      "C:\\Users\\Malik computer\\anaconda3\\lib\\site-packages\\sklearn\\utils\\validation.py:72: DataConversionWarning: A column-vector y was passed when a 1d array was expected. Please change the shape of y to (n_samples, ), for example using ravel().\n",
      "  return f(**kwargs)\n"
     ]
    },
    {
     "name": "stdout",
     "output_type": "stream",
     "text": [
      "[CV]  tol=0.0011, kernel=rbf, gamma=9e-05, epsilon=0.011, cache_size=180, total=   1.2s\n",
      "[CV] tol=0.0011, kernel=rbf, gamma=9e-05, epsilon=0.011, cache_size=180 \n"
     ]
    },
    {
     "name": "stderr",
     "output_type": "stream",
     "text": [
      "C:\\Users\\Malik computer\\anaconda3\\lib\\site-packages\\sklearn\\utils\\validation.py:72: DataConversionWarning: A column-vector y was passed when a 1d array was expected. Please change the shape of y to (n_samples, ), for example using ravel().\n",
      "  return f(**kwargs)\n"
     ]
    },
    {
     "name": "stdout",
     "output_type": "stream",
     "text": [
      "[CV]  tol=0.0011, kernel=rbf, gamma=9e-05, epsilon=0.011, cache_size=180, total=   1.2s\n",
      "[CV] tol=0.0011, kernel=rbf, gamma=9e-05, epsilon=0.011, cache_size=180 \n"
     ]
    },
    {
     "name": "stderr",
     "output_type": "stream",
     "text": [
      "C:\\Users\\Malik computer\\anaconda3\\lib\\site-packages\\sklearn\\utils\\validation.py:72: DataConversionWarning: A column-vector y was passed when a 1d array was expected. Please change the shape of y to (n_samples, ), for example using ravel().\n",
      "  return f(**kwargs)\n"
     ]
    },
    {
     "name": "stdout",
     "output_type": "stream",
     "text": [
      "[CV]  tol=0.0011, kernel=rbf, gamma=9e-05, epsilon=0.011, cache_size=180, total=   1.2s\n",
      "[CV] tol=0.0013, kernel=rbf, gamma=9e-05, epsilon=0.011, cache_size=180 \n"
     ]
    },
    {
     "name": "stderr",
     "output_type": "stream",
     "text": [
      "C:\\Users\\Malik computer\\anaconda3\\lib\\site-packages\\sklearn\\utils\\validation.py:72: DataConversionWarning: A column-vector y was passed when a 1d array was expected. Please change the shape of y to (n_samples, ), for example using ravel().\n",
      "  return f(**kwargs)\n"
     ]
    },
    {
     "name": "stdout",
     "output_type": "stream",
     "text": [
      "[CV]  tol=0.0013, kernel=rbf, gamma=9e-05, epsilon=0.011, cache_size=180, total=   1.2s\n",
      "[CV] tol=0.0013, kernel=rbf, gamma=9e-05, epsilon=0.011, cache_size=180 \n"
     ]
    },
    {
     "name": "stderr",
     "output_type": "stream",
     "text": [
      "C:\\Users\\Malik computer\\anaconda3\\lib\\site-packages\\sklearn\\utils\\validation.py:72: DataConversionWarning: A column-vector y was passed when a 1d array was expected. Please change the shape of y to (n_samples, ), for example using ravel().\n",
      "  return f(**kwargs)\n"
     ]
    },
    {
     "name": "stdout",
     "output_type": "stream",
     "text": [
      "[CV]  tol=0.0013, kernel=rbf, gamma=9e-05, epsilon=0.011, cache_size=180, total=   1.2s\n",
      "[CV] tol=0.0013, kernel=rbf, gamma=9e-05, epsilon=0.011, cache_size=180 \n"
     ]
    },
    {
     "name": "stderr",
     "output_type": "stream",
     "text": [
      "C:\\Users\\Malik computer\\anaconda3\\lib\\site-packages\\sklearn\\utils\\validation.py:72: DataConversionWarning: A column-vector y was passed when a 1d array was expected. Please change the shape of y to (n_samples, ), for example using ravel().\n",
      "  return f(**kwargs)\n"
     ]
    },
    {
     "name": "stdout",
     "output_type": "stream",
     "text": [
      "[CV]  tol=0.0013, kernel=rbf, gamma=9e-05, epsilon=0.011, cache_size=180, total=   1.3s\n",
      "[CV] tol=0.0013, kernel=rbf, gamma=9e-05, epsilon=0.011, cache_size=180 \n"
     ]
    },
    {
     "name": "stderr",
     "output_type": "stream",
     "text": [
      "C:\\Users\\Malik computer\\anaconda3\\lib\\site-packages\\sklearn\\utils\\validation.py:72: DataConversionWarning: A column-vector y was passed when a 1d array was expected. Please change the shape of y to (n_samples, ), for example using ravel().\n",
      "  return f(**kwargs)\n"
     ]
    },
    {
     "name": "stdout",
     "output_type": "stream",
     "text": [
      "[CV]  tol=0.0013, kernel=rbf, gamma=9e-05, epsilon=0.011, cache_size=180, total=   1.2s\n",
      "[CV] tol=0.0013, kernel=rbf, gamma=9e-05, epsilon=0.011, cache_size=180 \n"
     ]
    },
    {
     "name": "stderr",
     "output_type": "stream",
     "text": [
      "C:\\Users\\Malik computer\\anaconda3\\lib\\site-packages\\sklearn\\utils\\validation.py:72: DataConversionWarning: A column-vector y was passed when a 1d array was expected. Please change the shape of y to (n_samples, ), for example using ravel().\n",
      "  return f(**kwargs)\n"
     ]
    },
    {
     "name": "stdout",
     "output_type": "stream",
     "text": [
      "[CV]  tol=0.0013, kernel=rbf, gamma=9e-05, epsilon=0.011, cache_size=180, total=   1.2s\n",
      "[CV] tol=0.0011, kernel=rbf, gamma=0.0001, epsilon=0.013, cache_size=180 \n"
     ]
    },
    {
     "name": "stderr",
     "output_type": "stream",
     "text": [
      "C:\\Users\\Malik computer\\anaconda3\\lib\\site-packages\\sklearn\\utils\\validation.py:72: DataConversionWarning: A column-vector y was passed when a 1d array was expected. Please change the shape of y to (n_samples, ), for example using ravel().\n",
      "  return f(**kwargs)\n"
     ]
    },
    {
     "name": "stdout",
     "output_type": "stream",
     "text": [
      "[CV]  tol=0.0011, kernel=rbf, gamma=0.0001, epsilon=0.013, cache_size=180, total=   1.2s\n",
      "[CV] tol=0.0011, kernel=rbf, gamma=0.0001, epsilon=0.013, cache_size=180 \n"
     ]
    },
    {
     "name": "stderr",
     "output_type": "stream",
     "text": [
      "C:\\Users\\Malik computer\\anaconda3\\lib\\site-packages\\sklearn\\utils\\validation.py:72: DataConversionWarning: A column-vector y was passed when a 1d array was expected. Please change the shape of y to (n_samples, ), for example using ravel().\n",
      "  return f(**kwargs)\n"
     ]
    },
    {
     "name": "stdout",
     "output_type": "stream",
     "text": [
      "[CV]  tol=0.0011, kernel=rbf, gamma=0.0001, epsilon=0.013, cache_size=180, total=   1.2s\n",
      "[CV] tol=0.0011, kernel=rbf, gamma=0.0001, epsilon=0.013, cache_size=180 \n"
     ]
    },
    {
     "name": "stderr",
     "output_type": "stream",
     "text": [
      "C:\\Users\\Malik computer\\anaconda3\\lib\\site-packages\\sklearn\\utils\\validation.py:72: DataConversionWarning: A column-vector y was passed when a 1d array was expected. Please change the shape of y to (n_samples, ), for example using ravel().\n",
      "  return f(**kwargs)\n"
     ]
    },
    {
     "name": "stdout",
     "output_type": "stream",
     "text": [
      "[CV]  tol=0.0011, kernel=rbf, gamma=0.0001, epsilon=0.013, cache_size=180, total=   1.2s\n",
      "[CV] tol=0.0011, kernel=rbf, gamma=0.0001, epsilon=0.013, cache_size=180 \n"
     ]
    },
    {
     "name": "stderr",
     "output_type": "stream",
     "text": [
      "C:\\Users\\Malik computer\\anaconda3\\lib\\site-packages\\sklearn\\utils\\validation.py:72: DataConversionWarning: A column-vector y was passed when a 1d array was expected. Please change the shape of y to (n_samples, ), for example using ravel().\n",
      "  return f(**kwargs)\n"
     ]
    },
    {
     "name": "stdout",
     "output_type": "stream",
     "text": [
      "[CV]  tol=0.0011, kernel=rbf, gamma=0.0001, epsilon=0.013, cache_size=180, total=   1.3s\n",
      "[CV] tol=0.0011, kernel=rbf, gamma=0.0001, epsilon=0.013, cache_size=180 \n"
     ]
    },
    {
     "name": "stderr",
     "output_type": "stream",
     "text": [
      "C:\\Users\\Malik computer\\anaconda3\\lib\\site-packages\\sklearn\\utils\\validation.py:72: DataConversionWarning: A column-vector y was passed when a 1d array was expected. Please change the shape of y to (n_samples, ), for example using ravel().\n",
      "  return f(**kwargs)\n"
     ]
    },
    {
     "name": "stdout",
     "output_type": "stream",
     "text": [
      "[CV]  tol=0.0011, kernel=rbf, gamma=0.0001, epsilon=0.013, cache_size=180, total=   2.5s\n",
      "[CV] tol=0.0011, kernel=rbf, gamma=9e-05, epsilon=0.013, cache_size=185 \n"
     ]
    },
    {
     "name": "stderr",
     "output_type": "stream",
     "text": [
      "C:\\Users\\Malik computer\\anaconda3\\lib\\site-packages\\sklearn\\utils\\validation.py:72: DataConversionWarning: A column-vector y was passed when a 1d array was expected. Please change the shape of y to (n_samples, ), for example using ravel().\n",
      "  return f(**kwargs)\n"
     ]
    },
    {
     "name": "stdout",
     "output_type": "stream",
     "text": [
      "[CV]  tol=0.0011, kernel=rbf, gamma=9e-05, epsilon=0.013, cache_size=185, total=   1.5s\n",
      "[CV] tol=0.0011, kernel=rbf, gamma=9e-05, epsilon=0.013, cache_size=185 \n"
     ]
    },
    {
     "name": "stderr",
     "output_type": "stream",
     "text": [
      "C:\\Users\\Malik computer\\anaconda3\\lib\\site-packages\\sklearn\\utils\\validation.py:72: DataConversionWarning: A column-vector y was passed when a 1d array was expected. Please change the shape of y to (n_samples, ), for example using ravel().\n",
      "  return f(**kwargs)\n"
     ]
    },
    {
     "name": "stdout",
     "output_type": "stream",
     "text": [
      "[CV]  tol=0.0011, kernel=rbf, gamma=9e-05, epsilon=0.013, cache_size=185, total=   1.8s\n",
      "[CV] tol=0.0011, kernel=rbf, gamma=9e-05, epsilon=0.013, cache_size=185 \n"
     ]
    },
    {
     "name": "stderr",
     "output_type": "stream",
     "text": [
      "C:\\Users\\Malik computer\\anaconda3\\lib\\site-packages\\sklearn\\utils\\validation.py:72: DataConversionWarning: A column-vector y was passed when a 1d array was expected. Please change the shape of y to (n_samples, ), for example using ravel().\n",
      "  return f(**kwargs)\n"
     ]
    },
    {
     "name": "stdout",
     "output_type": "stream",
     "text": [
      "[CV]  tol=0.0011, kernel=rbf, gamma=9e-05, epsilon=0.013, cache_size=185, total=   1.5s\n",
      "[CV] tol=0.0011, kernel=rbf, gamma=9e-05, epsilon=0.013, cache_size=185 \n"
     ]
    },
    {
     "name": "stderr",
     "output_type": "stream",
     "text": [
      "C:\\Users\\Malik computer\\anaconda3\\lib\\site-packages\\sklearn\\utils\\validation.py:72: DataConversionWarning: A column-vector y was passed when a 1d array was expected. Please change the shape of y to (n_samples, ), for example using ravel().\n",
      "  return f(**kwargs)\n"
     ]
    },
    {
     "name": "stdout",
     "output_type": "stream",
     "text": [
      "[CV]  tol=0.0011, kernel=rbf, gamma=9e-05, epsilon=0.013, cache_size=185, total=   1.3s\n",
      "[CV] tol=0.0011, kernel=rbf, gamma=9e-05, epsilon=0.013, cache_size=185 \n"
     ]
    },
    {
     "name": "stderr",
     "output_type": "stream",
     "text": [
      "C:\\Users\\Malik computer\\anaconda3\\lib\\site-packages\\sklearn\\utils\\validation.py:72: DataConversionWarning: A column-vector y was passed when a 1d array was expected. Please change the shape of y to (n_samples, ), for example using ravel().\n",
      "  return f(**kwargs)\n"
     ]
    },
    {
     "name": "stdout",
     "output_type": "stream",
     "text": [
      "[CV]  tol=0.0011, kernel=rbf, gamma=9e-05, epsilon=0.013, cache_size=185, total=   1.4s\n",
      "[CV] tol=0.0013, kernel=rbf, gamma=9e-05, epsilon=0.011, cache_size=185 \n"
     ]
    },
    {
     "name": "stderr",
     "output_type": "stream",
     "text": [
      "C:\\Users\\Malik computer\\anaconda3\\lib\\site-packages\\sklearn\\utils\\validation.py:72: DataConversionWarning: A column-vector y was passed when a 1d array was expected. Please change the shape of y to (n_samples, ), for example using ravel().\n",
      "  return f(**kwargs)\n"
     ]
    },
    {
     "name": "stdout",
     "output_type": "stream",
     "text": [
      "[CV]  tol=0.0013, kernel=rbf, gamma=9e-05, epsilon=0.011, cache_size=185, total=   1.4s\n",
      "[CV] tol=0.0013, kernel=rbf, gamma=9e-05, epsilon=0.011, cache_size=185 \n"
     ]
    },
    {
     "name": "stderr",
     "output_type": "stream",
     "text": [
      "C:\\Users\\Malik computer\\anaconda3\\lib\\site-packages\\sklearn\\utils\\validation.py:72: DataConversionWarning: A column-vector y was passed when a 1d array was expected. Please change the shape of y to (n_samples, ), for example using ravel().\n",
      "  return f(**kwargs)\n"
     ]
    },
    {
     "name": "stdout",
     "output_type": "stream",
     "text": [
      "[CV]  tol=0.0013, kernel=rbf, gamma=9e-05, epsilon=0.011, cache_size=185, total=   1.3s\n",
      "[CV] tol=0.0013, kernel=rbf, gamma=9e-05, epsilon=0.011, cache_size=185 \n"
     ]
    },
    {
     "name": "stderr",
     "output_type": "stream",
     "text": [
      "C:\\Users\\Malik computer\\anaconda3\\lib\\site-packages\\sklearn\\utils\\validation.py:72: DataConversionWarning: A column-vector y was passed when a 1d array was expected. Please change the shape of y to (n_samples, ), for example using ravel().\n",
      "  return f(**kwargs)\n"
     ]
    },
    {
     "name": "stdout",
     "output_type": "stream",
     "text": [
      "[CV]  tol=0.0013, kernel=rbf, gamma=9e-05, epsilon=0.011, cache_size=185, total=   1.2s\n",
      "[CV] tol=0.0013, kernel=rbf, gamma=9e-05, epsilon=0.011, cache_size=185 \n"
     ]
    },
    {
     "name": "stderr",
     "output_type": "stream",
     "text": [
      "C:\\Users\\Malik computer\\anaconda3\\lib\\site-packages\\sklearn\\utils\\validation.py:72: DataConversionWarning: A column-vector y was passed when a 1d array was expected. Please change the shape of y to (n_samples, ), for example using ravel().\n",
      "  return f(**kwargs)\n"
     ]
    },
    {
     "name": "stdout",
     "output_type": "stream",
     "text": [
      "[CV]  tol=0.0013, kernel=rbf, gamma=9e-05, epsilon=0.011, cache_size=185, total=   1.3s\n",
      "[CV] tol=0.0013, kernel=rbf, gamma=9e-05, epsilon=0.011, cache_size=185 \n"
     ]
    },
    {
     "name": "stderr",
     "output_type": "stream",
     "text": [
      "C:\\Users\\Malik computer\\anaconda3\\lib\\site-packages\\sklearn\\utils\\validation.py:72: DataConversionWarning: A column-vector y was passed when a 1d array was expected. Please change the shape of y to (n_samples, ), for example using ravel().\n",
      "  return f(**kwargs)\n"
     ]
    },
    {
     "name": "stdout",
     "output_type": "stream",
     "text": [
      "[CV]  tol=0.0013, kernel=rbf, gamma=9e-05, epsilon=0.011, cache_size=185, total=   1.2s\n",
      "[CV] tol=0.0013, kernel=rbf, gamma=0.0001, epsilon=0.011, cache_size=185 \n"
     ]
    },
    {
     "name": "stderr",
     "output_type": "stream",
     "text": [
      "C:\\Users\\Malik computer\\anaconda3\\lib\\site-packages\\sklearn\\utils\\validation.py:72: DataConversionWarning: A column-vector y was passed when a 1d array was expected. Please change the shape of y to (n_samples, ), for example using ravel().\n",
      "  return f(**kwargs)\n"
     ]
    },
    {
     "name": "stdout",
     "output_type": "stream",
     "text": [
      "[CV]  tol=0.0013, kernel=rbf, gamma=0.0001, epsilon=0.011, cache_size=185, total=   1.3s\n",
      "[CV] tol=0.0013, kernel=rbf, gamma=0.0001, epsilon=0.011, cache_size=185 \n"
     ]
    },
    {
     "name": "stderr",
     "output_type": "stream",
     "text": [
      "C:\\Users\\Malik computer\\anaconda3\\lib\\site-packages\\sklearn\\utils\\validation.py:72: DataConversionWarning: A column-vector y was passed when a 1d array was expected. Please change the shape of y to (n_samples, ), for example using ravel().\n",
      "  return f(**kwargs)\n"
     ]
    },
    {
     "name": "stdout",
     "output_type": "stream",
     "text": [
      "[CV]  tol=0.0013, kernel=rbf, gamma=0.0001, epsilon=0.011, cache_size=185, total=   1.2s\n",
      "[CV] tol=0.0013, kernel=rbf, gamma=0.0001, epsilon=0.011, cache_size=185 \n"
     ]
    },
    {
     "name": "stderr",
     "output_type": "stream",
     "text": [
      "C:\\Users\\Malik computer\\anaconda3\\lib\\site-packages\\sklearn\\utils\\validation.py:72: DataConversionWarning: A column-vector y was passed when a 1d array was expected. Please change the shape of y to (n_samples, ), for example using ravel().\n",
      "  return f(**kwargs)\n"
     ]
    },
    {
     "name": "stdout",
     "output_type": "stream",
     "text": [
      "[CV]  tol=0.0013, kernel=rbf, gamma=0.0001, epsilon=0.011, cache_size=185, total=   1.3s\n",
      "[CV] tol=0.0013, kernel=rbf, gamma=0.0001, epsilon=0.011, cache_size=185 \n"
     ]
    },
    {
     "name": "stderr",
     "output_type": "stream",
     "text": [
      "C:\\Users\\Malik computer\\anaconda3\\lib\\site-packages\\sklearn\\utils\\validation.py:72: DataConversionWarning: A column-vector y was passed when a 1d array was expected. Please change the shape of y to (n_samples, ), for example using ravel().\n",
      "  return f(**kwargs)\n"
     ]
    },
    {
     "name": "stdout",
     "output_type": "stream",
     "text": [
      "[CV]  tol=0.0013, kernel=rbf, gamma=0.0001, epsilon=0.011, cache_size=185, total=   1.3s\n",
      "[CV] tol=0.0013, kernel=rbf, gamma=0.0001, epsilon=0.011, cache_size=185 \n"
     ]
    },
    {
     "name": "stderr",
     "output_type": "stream",
     "text": [
      "C:\\Users\\Malik computer\\anaconda3\\lib\\site-packages\\sklearn\\utils\\validation.py:72: DataConversionWarning: A column-vector y was passed when a 1d array was expected. Please change the shape of y to (n_samples, ), for example using ravel().\n",
      "  return f(**kwargs)\n"
     ]
    },
    {
     "name": "stdout",
     "output_type": "stream",
     "text": [
      "[CV]  tol=0.0013, kernel=rbf, gamma=0.0001, epsilon=0.011, cache_size=185, total=   1.3s\n",
      "[CV] tol=0.0011, kernel=rbf, gamma=0.0001, epsilon=0.011, cache_size=180 \n"
     ]
    },
    {
     "name": "stderr",
     "output_type": "stream",
     "text": [
      "C:\\Users\\Malik computer\\anaconda3\\lib\\site-packages\\sklearn\\utils\\validation.py:72: DataConversionWarning: A column-vector y was passed when a 1d array was expected. Please change the shape of y to (n_samples, ), for example using ravel().\n",
      "  return f(**kwargs)\n"
     ]
    },
    {
     "name": "stdout",
     "output_type": "stream",
     "text": [
      "[CV]  tol=0.0011, kernel=rbf, gamma=0.0001, epsilon=0.011, cache_size=180, total=   1.3s\n",
      "[CV] tol=0.0011, kernel=rbf, gamma=0.0001, epsilon=0.011, cache_size=180 \n"
     ]
    },
    {
     "name": "stderr",
     "output_type": "stream",
     "text": [
      "C:\\Users\\Malik computer\\anaconda3\\lib\\site-packages\\sklearn\\utils\\validation.py:72: DataConversionWarning: A column-vector y was passed when a 1d array was expected. Please change the shape of y to (n_samples, ), for example using ravel().\n",
      "  return f(**kwargs)\n"
     ]
    },
    {
     "name": "stdout",
     "output_type": "stream",
     "text": [
      "[CV]  tol=0.0011, kernel=rbf, gamma=0.0001, epsilon=0.011, cache_size=180, total=   1.2s\n",
      "[CV] tol=0.0011, kernel=rbf, gamma=0.0001, epsilon=0.011, cache_size=180 \n"
     ]
    },
    {
     "name": "stderr",
     "output_type": "stream",
     "text": [
      "C:\\Users\\Malik computer\\anaconda3\\lib\\site-packages\\sklearn\\utils\\validation.py:72: DataConversionWarning: A column-vector y was passed when a 1d array was expected. Please change the shape of y to (n_samples, ), for example using ravel().\n",
      "  return f(**kwargs)\n"
     ]
    },
    {
     "name": "stdout",
     "output_type": "stream",
     "text": [
      "[CV]  tol=0.0011, kernel=rbf, gamma=0.0001, epsilon=0.011, cache_size=180, total=   1.2s\n",
      "[CV] tol=0.0011, kernel=rbf, gamma=0.0001, epsilon=0.011, cache_size=180 \n"
     ]
    },
    {
     "name": "stderr",
     "output_type": "stream",
     "text": [
      "C:\\Users\\Malik computer\\anaconda3\\lib\\site-packages\\sklearn\\utils\\validation.py:72: DataConversionWarning: A column-vector y was passed when a 1d array was expected. Please change the shape of y to (n_samples, ), for example using ravel().\n",
      "  return f(**kwargs)\n"
     ]
    },
    {
     "name": "stdout",
     "output_type": "stream",
     "text": [
      "[CV]  tol=0.0011, kernel=rbf, gamma=0.0001, epsilon=0.011, cache_size=180, total=   1.2s\n",
      "[CV] tol=0.0011, kernel=rbf, gamma=0.0001, epsilon=0.011, cache_size=180 \n"
     ]
    },
    {
     "name": "stderr",
     "output_type": "stream",
     "text": [
      "C:\\Users\\Malik computer\\anaconda3\\lib\\site-packages\\sklearn\\utils\\validation.py:72: DataConversionWarning: A column-vector y was passed when a 1d array was expected. Please change the shape of y to (n_samples, ), for example using ravel().\n",
      "  return f(**kwargs)\n"
     ]
    },
    {
     "name": "stdout",
     "output_type": "stream",
     "text": [
      "[CV]  tol=0.0011, kernel=rbf, gamma=0.0001, epsilon=0.011, cache_size=180, total=   1.2s\n"
     ]
    },
    {
     "name": "stderr",
     "output_type": "stream",
     "text": [
      "[Parallel(n_jobs=1)]: Done  50 out of  50 | elapsed:  1.1min finished\n",
      "C:\\Users\\Malik computer\\anaconda3\\lib\\site-packages\\sklearn\\utils\\validation.py:72: DataConversionWarning: A column-vector y was passed when a 1d array was expected. Please change the shape of y to (n_samples, ), for example using ravel().\n",
      "  return f(**kwargs)\n"
     ]
    },
    {
     "name": "stdout",
     "output_type": "stream",
     "text": [
      "{'tol': 0.0013, 'kernel': 'rbf', 'gamma': 0.0001, 'epsilon': 0.011, 'cache_size': 185}\n",
      "0.07806805832270225\n"
     ]
    }
   ],
   "source": [
    "Parameters1={'reg_lambda': [0.4,0.5], 'reg_alpha': [0.9,1], 'n_estimators': [650,700], 'min_child_weight': [2.5,3],\n",
    "             'max_depth': [4,3], 'learning_rate': [0.03,0.02], 'gamma': [0.00001,0.0001], 'booster': ['dart']}\n",
    "reg1 = RandomizedSearchCV(xgboost.XGBRegressor(), Parameters1, scoring='neg_root_mean_squared_error', verbose=2, cv=5)\n",
    "reg1.fit(Data_s_tr.iloc[:,:].values,Y.values)\n",
    "print(reg1.best_estimator_)\n",
    "\n",
    "y_pred11 = reg1.predict(Data_s_tr.iloc[:,:].values)\n",
    "y_pred1 = np.exp(reg1.predict(Data_s_te.iloc[:,:].values)).round(2)\n",
    "print(mean_absolute_error(y_pred11,Y))\n",
    "\n",
    "Parameters2=[{'num_leaves':[31,32], 'max_depth':[3,4], 'learning_rate':[0.1,0.2],\n",
    "            'n_estimators':[500,400]}]\n",
    "scores = ['neg_mean_squared_error']\n",
    "\n",
    "reg2 = RandomizedSearchCV(LGBMRegressor(), Parameters2, scoring='neg_root_mean_squared_error', verbose=2, cv=5\n",
    "                         )\n",
    "reg2.fit(Data_s_tr.iloc[:,:].values,Y)\n",
    "\n",
    "\n",
    "print(reg2.best_params_)\n",
    "\n",
    "y_pred12 = reg2.predict(Data_s_tr.iloc[:,:].values)\n",
    "y_pred2 = np.exp(reg2.predict(Data_s_te.iloc[:,:].values)).round(2)\n",
    "print(mean_absolute_error(y_pred12,Y))\n",
    "\n",
    "\n",
    "\n",
    "Parameters3=[{'cache_size': [185,180],\n",
    "              'tol': [0.0011,0.0013], 'kernel': ['rbf'],'gamma': [0.00009,0.0001],'epsilon': [0.011,0.013]\n",
    "              }]\n",
    "scores = ['neg_mean_squared_error']\n",
    "\n",
    "reg3 = RandomizedSearchCV(SVR(), Parameters3, scoring='neg_root_mean_squared_error', verbose=2, cv=5\n",
    "                         )\n",
    "reg3.fit(Data_s_tr.iloc[:,:].values,Y)\n",
    "\n",
    "\n",
    "print(reg3.best_params_)\n",
    "\n",
    "y_pred13 = reg3.predict(Data_s_tr.iloc[:,:].values)\n",
    "y_pred3 = np.exp(reg3.predict(Data_s_te.iloc[:,:].values)).round(2)\n",
    "print(mean_absolute_error(y_pred13,Y))"
   ]
  },
  {
   "cell_type": "code",
   "execution_count": 132,
   "metadata": {},
   "outputs": [
    {
     "name": "stdout",
     "output_type": "stream",
     "text": [
      "Fitting 5 folds for each of 10 candidates, totalling 50 fits\n",
      "[CV] xgbregressor__reg_lambda=0.4, xgbregressor__reg_alpha=0.9, xgbregressor__n_estimators=500, xgbregressor__min_child_weight=2.5, xgbregressor__max_depth=4, xgbregressor__learning_rate=0.03, xgbregressor__gamma=1e-05, xgbregressor__booster=dart, svr__tol=0.0011, svr__kernel=rbf, svr__gamma=9e-05, svr__epsilon=0.011, svr__degree=4, svr__cache_size=185, svr__C=75, meta_regressor__tol=0.0011, meta_regressor__kernel=rbf, meta_regressor__gamma=9e-05, meta_regressor__epsilon=0.011, meta_regressor__degree=4, meta_regressor__cache_size=185, meta_regressor__C=75, lgbmregressor__num_leaves=4, lgbmregressor__n_estimators=500, lgbmregressor__max_depth=3, lgbmregressor__learning_rate=0.01 \n"
     ]
    },
    {
     "name": "stderr",
     "output_type": "stream",
     "text": [
      "[Parallel(n_jobs=1)]: Using backend SequentialBackend with 1 concurrent workers.\n",
      "C:\\Users\\Malik computer\\anaconda3\\lib\\site-packages\\sklearn\\utils\\validation.py:72: DataConversionWarning: A column-vector y was passed when a 1d array was expected. Please change the shape of y to (n_samples, ), for example using ravel().\n",
      "  return f(**kwargs)\n",
      "C:\\Users\\Malik computer\\anaconda3\\lib\\site-packages\\sklearn\\utils\\validation.py:72: DataConversionWarning: A column-vector y was passed when a 1d array was expected. Please change the shape of y to (n_samples, ), for example using ravel().\n",
      "  return f(**kwargs)\n",
      "C:\\Users\\Malik computer\\anaconda3\\lib\\site-packages\\sklearn\\utils\\validation.py:72: DataConversionWarning: A column-vector y was passed when a 1d array was expected. Please change the shape of y to (n_samples, ), for example using ravel().\n",
      "  return f(**kwargs)\n"
     ]
    },
    {
     "name": "stdout",
     "output_type": "stream",
     "text": [
      "[CV]  xgbregressor__reg_lambda=0.4, xgbregressor__reg_alpha=0.9, xgbregressor__n_estimators=500, xgbregressor__min_child_weight=2.5, xgbregressor__max_depth=4, xgbregressor__learning_rate=0.03, xgbregressor__gamma=1e-05, xgbregressor__booster=dart, svr__tol=0.0011, svr__kernel=rbf, svr__gamma=9e-05, svr__epsilon=0.011, svr__degree=4, svr__cache_size=185, svr__C=75, meta_regressor__tol=0.0011, meta_regressor__kernel=rbf, meta_regressor__gamma=9e-05, meta_regressor__epsilon=0.011, meta_regressor__degree=4, meta_regressor__cache_size=185, meta_regressor__C=75, lgbmregressor__num_leaves=4, lgbmregressor__n_estimators=500, lgbmregressor__max_depth=3, lgbmregressor__learning_rate=0.01, total=  16.7s\n",
      "[CV] xgbregressor__reg_lambda=0.4, xgbregressor__reg_alpha=0.9, xgbregressor__n_estimators=500, xgbregressor__min_child_weight=2.5, xgbregressor__max_depth=4, xgbregressor__learning_rate=0.03, xgbregressor__gamma=1e-05, xgbregressor__booster=dart, svr__tol=0.0011, svr__kernel=rbf, svr__gamma=9e-05, svr__epsilon=0.011, svr__degree=4, svr__cache_size=185, svr__C=75, meta_regressor__tol=0.0011, meta_regressor__kernel=rbf, meta_regressor__gamma=9e-05, meta_regressor__epsilon=0.011, meta_regressor__degree=4, meta_regressor__cache_size=185, meta_regressor__C=75, lgbmregressor__num_leaves=4, lgbmregressor__n_estimators=500, lgbmregressor__max_depth=3, lgbmregressor__learning_rate=0.01 \n"
     ]
    },
    {
     "name": "stderr",
     "output_type": "stream",
     "text": [
      "[Parallel(n_jobs=1)]: Done   1 out of   1 | elapsed:   16.7s remaining:    0.0s\n",
      "C:\\Users\\Malik computer\\anaconda3\\lib\\site-packages\\sklearn\\utils\\validation.py:72: DataConversionWarning: A column-vector y was passed when a 1d array was expected. Please change the shape of y to (n_samples, ), for example using ravel().\n",
      "  return f(**kwargs)\n",
      "C:\\Users\\Malik computer\\anaconda3\\lib\\site-packages\\sklearn\\utils\\validation.py:72: DataConversionWarning: A column-vector y was passed when a 1d array was expected. Please change the shape of y to (n_samples, ), for example using ravel().\n",
      "  return f(**kwargs)\n",
      "C:\\Users\\Malik computer\\anaconda3\\lib\\site-packages\\sklearn\\utils\\validation.py:72: DataConversionWarning: A column-vector y was passed when a 1d array was expected. Please change the shape of y to (n_samples, ), for example using ravel().\n",
      "  return f(**kwargs)\n"
     ]
    },
    {
     "name": "stdout",
     "output_type": "stream",
     "text": [
      "[CV]  xgbregressor__reg_lambda=0.4, xgbregressor__reg_alpha=0.9, xgbregressor__n_estimators=500, xgbregressor__min_child_weight=2.5, xgbregressor__max_depth=4, xgbregressor__learning_rate=0.03, xgbregressor__gamma=1e-05, xgbregressor__booster=dart, svr__tol=0.0011, svr__kernel=rbf, svr__gamma=9e-05, svr__epsilon=0.011, svr__degree=4, svr__cache_size=185, svr__C=75, meta_regressor__tol=0.0011, meta_regressor__kernel=rbf, meta_regressor__gamma=9e-05, meta_regressor__epsilon=0.011, meta_regressor__degree=4, meta_regressor__cache_size=185, meta_regressor__C=75, lgbmregressor__num_leaves=4, lgbmregressor__n_estimators=500, lgbmregressor__max_depth=3, lgbmregressor__learning_rate=0.01, total=  17.3s\n",
      "[CV] xgbregressor__reg_lambda=0.4, xgbregressor__reg_alpha=0.9, xgbregressor__n_estimators=500, xgbregressor__min_child_weight=2.5, xgbregressor__max_depth=4, xgbregressor__learning_rate=0.03, xgbregressor__gamma=1e-05, xgbregressor__booster=dart, svr__tol=0.0011, svr__kernel=rbf, svr__gamma=9e-05, svr__epsilon=0.011, svr__degree=4, svr__cache_size=185, svr__C=75, meta_regressor__tol=0.0011, meta_regressor__kernel=rbf, meta_regressor__gamma=9e-05, meta_regressor__epsilon=0.011, meta_regressor__degree=4, meta_regressor__cache_size=185, meta_regressor__C=75, lgbmregressor__num_leaves=4, lgbmregressor__n_estimators=500, lgbmregressor__max_depth=3, lgbmregressor__learning_rate=0.01 \n"
     ]
    },
    {
     "name": "stderr",
     "output_type": "stream",
     "text": [
      "C:\\Users\\Malik computer\\anaconda3\\lib\\site-packages\\sklearn\\utils\\validation.py:72: DataConversionWarning: A column-vector y was passed when a 1d array was expected. Please change the shape of y to (n_samples, ), for example using ravel().\n",
      "  return f(**kwargs)\n",
      "C:\\Users\\Malik computer\\anaconda3\\lib\\site-packages\\sklearn\\utils\\validation.py:72: DataConversionWarning: A column-vector y was passed when a 1d array was expected. Please change the shape of y to (n_samples, ), for example using ravel().\n",
      "  return f(**kwargs)\n",
      "C:\\Users\\Malik computer\\anaconda3\\lib\\site-packages\\sklearn\\utils\\validation.py:72: DataConversionWarning: A column-vector y was passed when a 1d array was expected. Please change the shape of y to (n_samples, ), for example using ravel().\n",
      "  return f(**kwargs)\n"
     ]
    },
    {
     "name": "stdout",
     "output_type": "stream",
     "text": [
      "[CV]  xgbregressor__reg_lambda=0.4, xgbregressor__reg_alpha=0.9, xgbregressor__n_estimators=500, xgbregressor__min_child_weight=2.5, xgbregressor__max_depth=4, xgbregressor__learning_rate=0.03, xgbregressor__gamma=1e-05, xgbregressor__booster=dart, svr__tol=0.0011, svr__kernel=rbf, svr__gamma=9e-05, svr__epsilon=0.011, svr__degree=4, svr__cache_size=185, svr__C=75, meta_regressor__tol=0.0011, meta_regressor__kernel=rbf, meta_regressor__gamma=9e-05, meta_regressor__epsilon=0.011, meta_regressor__degree=4, meta_regressor__cache_size=185, meta_regressor__C=75, lgbmregressor__num_leaves=4, lgbmregressor__n_estimators=500, lgbmregressor__max_depth=3, lgbmregressor__learning_rate=0.01, total=  16.5s\n",
      "[CV] xgbregressor__reg_lambda=0.4, xgbregressor__reg_alpha=0.9, xgbregressor__n_estimators=500, xgbregressor__min_child_weight=2.5, xgbregressor__max_depth=4, xgbregressor__learning_rate=0.03, xgbregressor__gamma=1e-05, xgbregressor__booster=dart, svr__tol=0.0011, svr__kernel=rbf, svr__gamma=9e-05, svr__epsilon=0.011, svr__degree=4, svr__cache_size=185, svr__C=75, meta_regressor__tol=0.0011, meta_regressor__kernel=rbf, meta_regressor__gamma=9e-05, meta_regressor__epsilon=0.011, meta_regressor__degree=4, meta_regressor__cache_size=185, meta_regressor__C=75, lgbmregressor__num_leaves=4, lgbmregressor__n_estimators=500, lgbmregressor__max_depth=3, lgbmregressor__learning_rate=0.01 \n"
     ]
    },
    {
     "name": "stderr",
     "output_type": "stream",
     "text": [
      "C:\\Users\\Malik computer\\anaconda3\\lib\\site-packages\\sklearn\\utils\\validation.py:72: DataConversionWarning: A column-vector y was passed when a 1d array was expected. Please change the shape of y to (n_samples, ), for example using ravel().\n",
      "  return f(**kwargs)\n",
      "C:\\Users\\Malik computer\\anaconda3\\lib\\site-packages\\sklearn\\utils\\validation.py:72: DataConversionWarning: A column-vector y was passed when a 1d array was expected. Please change the shape of y to (n_samples, ), for example using ravel().\n",
      "  return f(**kwargs)\n",
      "C:\\Users\\Malik computer\\anaconda3\\lib\\site-packages\\sklearn\\utils\\validation.py:72: DataConversionWarning: A column-vector y was passed when a 1d array was expected. Please change the shape of y to (n_samples, ), for example using ravel().\n",
      "  return f(**kwargs)\n"
     ]
    },
    {
     "name": "stdout",
     "output_type": "stream",
     "text": [
      "[CV]  xgbregressor__reg_lambda=0.4, xgbregressor__reg_alpha=0.9, xgbregressor__n_estimators=500, xgbregressor__min_child_weight=2.5, xgbregressor__max_depth=4, xgbregressor__learning_rate=0.03, xgbregressor__gamma=1e-05, xgbregressor__booster=dart, svr__tol=0.0011, svr__kernel=rbf, svr__gamma=9e-05, svr__epsilon=0.011, svr__degree=4, svr__cache_size=185, svr__C=75, meta_regressor__tol=0.0011, meta_regressor__kernel=rbf, meta_regressor__gamma=9e-05, meta_regressor__epsilon=0.011, meta_regressor__degree=4, meta_regressor__cache_size=185, meta_regressor__C=75, lgbmregressor__num_leaves=4, lgbmregressor__n_estimators=500, lgbmregressor__max_depth=3, lgbmregressor__learning_rate=0.01, total=  17.5s\n",
      "[CV] xgbregressor__reg_lambda=0.4, xgbregressor__reg_alpha=0.9, xgbregressor__n_estimators=500, xgbregressor__min_child_weight=2.5, xgbregressor__max_depth=4, xgbregressor__learning_rate=0.03, xgbregressor__gamma=1e-05, xgbregressor__booster=dart, svr__tol=0.0011, svr__kernel=rbf, svr__gamma=9e-05, svr__epsilon=0.011, svr__degree=4, svr__cache_size=185, svr__C=75, meta_regressor__tol=0.0011, meta_regressor__kernel=rbf, meta_regressor__gamma=9e-05, meta_regressor__epsilon=0.011, meta_regressor__degree=4, meta_regressor__cache_size=185, meta_regressor__C=75, lgbmregressor__num_leaves=4, lgbmregressor__n_estimators=500, lgbmregressor__max_depth=3, lgbmregressor__learning_rate=0.01 \n"
     ]
    },
    {
     "name": "stderr",
     "output_type": "stream",
     "text": [
      "C:\\Users\\Malik computer\\anaconda3\\lib\\site-packages\\sklearn\\utils\\validation.py:72: DataConversionWarning: A column-vector y was passed when a 1d array was expected. Please change the shape of y to (n_samples, ), for example using ravel().\n",
      "  return f(**kwargs)\n",
      "C:\\Users\\Malik computer\\anaconda3\\lib\\site-packages\\sklearn\\utils\\validation.py:72: DataConversionWarning: A column-vector y was passed when a 1d array was expected. Please change the shape of y to (n_samples, ), for example using ravel().\n",
      "  return f(**kwargs)\n",
      "C:\\Users\\Malik computer\\anaconda3\\lib\\site-packages\\sklearn\\utils\\validation.py:72: DataConversionWarning: A column-vector y was passed when a 1d array was expected. Please change the shape of y to (n_samples, ), for example using ravel().\n",
      "  return f(**kwargs)\n"
     ]
    },
    {
     "name": "stdout",
     "output_type": "stream",
     "text": [
      "[CV]  xgbregressor__reg_lambda=0.4, xgbregressor__reg_alpha=0.9, xgbregressor__n_estimators=500, xgbregressor__min_child_weight=2.5, xgbregressor__max_depth=4, xgbregressor__learning_rate=0.03, xgbregressor__gamma=1e-05, xgbregressor__booster=dart, svr__tol=0.0011, svr__kernel=rbf, svr__gamma=9e-05, svr__epsilon=0.011, svr__degree=4, svr__cache_size=185, svr__C=75, meta_regressor__tol=0.0011, meta_regressor__kernel=rbf, meta_regressor__gamma=9e-05, meta_regressor__epsilon=0.011, meta_regressor__degree=4, meta_regressor__cache_size=185, meta_regressor__C=75, lgbmregressor__num_leaves=4, lgbmregressor__n_estimators=500, lgbmregressor__max_depth=3, lgbmregressor__learning_rate=0.01, total=  18.5s\n",
      "[CV] xgbregressor__reg_lambda=0.3, xgbregressor__reg_alpha=0.9, xgbregressor__n_estimators=500, xgbregressor__min_child_weight=2.5, xgbregressor__max_depth=4, xgbregressor__learning_rate=0.03, xgbregressor__gamma=1e-05, xgbregressor__booster=dart, svr__tol=0.0011, svr__kernel=rbf, svr__gamma=9e-05, svr__epsilon=0.011, svr__degree=4, svr__cache_size=185, svr__C=75, meta_regressor__tol=0.0011, meta_regressor__kernel=rbf, meta_regressor__gamma=9e-05, meta_regressor__epsilon=0.011, meta_regressor__degree=4, meta_regressor__cache_size=185, meta_regressor__C=75, lgbmregressor__num_leaves=3, lgbmregressor__n_estimators=500, lgbmregressor__max_depth=4, lgbmregressor__learning_rate=0.01 \n"
     ]
    },
    {
     "name": "stderr",
     "output_type": "stream",
     "text": [
      "C:\\Users\\Malik computer\\anaconda3\\lib\\site-packages\\sklearn\\utils\\validation.py:72: DataConversionWarning: A column-vector y was passed when a 1d array was expected. Please change the shape of y to (n_samples, ), for example using ravel().\n",
      "  return f(**kwargs)\n",
      "C:\\Users\\Malik computer\\anaconda3\\lib\\site-packages\\sklearn\\utils\\validation.py:72: DataConversionWarning: A column-vector y was passed when a 1d array was expected. Please change the shape of y to (n_samples, ), for example using ravel().\n",
      "  return f(**kwargs)\n",
      "C:\\Users\\Malik computer\\anaconda3\\lib\\site-packages\\sklearn\\utils\\validation.py:72: DataConversionWarning: A column-vector y was passed when a 1d array was expected. Please change the shape of y to (n_samples, ), for example using ravel().\n",
      "  return f(**kwargs)\n"
     ]
    },
    {
     "name": "stdout",
     "output_type": "stream",
     "text": [
      "[CV]  xgbregressor__reg_lambda=0.3, xgbregressor__reg_alpha=0.9, xgbregressor__n_estimators=500, xgbregressor__min_child_weight=2.5, xgbregressor__max_depth=4, xgbregressor__learning_rate=0.03, xgbregressor__gamma=1e-05, xgbregressor__booster=dart, svr__tol=0.0011, svr__kernel=rbf, svr__gamma=9e-05, svr__epsilon=0.011, svr__degree=4, svr__cache_size=185, svr__C=75, meta_regressor__tol=0.0011, meta_regressor__kernel=rbf, meta_regressor__gamma=9e-05, meta_regressor__epsilon=0.011, meta_regressor__degree=4, meta_regressor__cache_size=185, meta_regressor__C=75, lgbmregressor__num_leaves=3, lgbmregressor__n_estimators=500, lgbmregressor__max_depth=4, lgbmregressor__learning_rate=0.01, total=  15.8s\n",
      "[CV] xgbregressor__reg_lambda=0.3, xgbregressor__reg_alpha=0.9, xgbregressor__n_estimators=500, xgbregressor__min_child_weight=2.5, xgbregressor__max_depth=4, xgbregressor__learning_rate=0.03, xgbregressor__gamma=1e-05, xgbregressor__booster=dart, svr__tol=0.0011, svr__kernel=rbf, svr__gamma=9e-05, svr__epsilon=0.011, svr__degree=4, svr__cache_size=185, svr__C=75, meta_regressor__tol=0.0011, meta_regressor__kernel=rbf, meta_regressor__gamma=9e-05, meta_regressor__epsilon=0.011, meta_regressor__degree=4, meta_regressor__cache_size=185, meta_regressor__C=75, lgbmregressor__num_leaves=3, lgbmregressor__n_estimators=500, lgbmregressor__max_depth=4, lgbmregressor__learning_rate=0.01 \n"
     ]
    },
    {
     "name": "stderr",
     "output_type": "stream",
     "text": [
      "C:\\Users\\Malik computer\\anaconda3\\lib\\site-packages\\sklearn\\utils\\validation.py:72: DataConversionWarning: A column-vector y was passed when a 1d array was expected. Please change the shape of y to (n_samples, ), for example using ravel().\n",
      "  return f(**kwargs)\n",
      "C:\\Users\\Malik computer\\anaconda3\\lib\\site-packages\\sklearn\\utils\\validation.py:72: DataConversionWarning: A column-vector y was passed when a 1d array was expected. Please change the shape of y to (n_samples, ), for example using ravel().\n",
      "  return f(**kwargs)\n",
      "C:\\Users\\Malik computer\\anaconda3\\lib\\site-packages\\sklearn\\utils\\validation.py:72: DataConversionWarning: A column-vector y was passed when a 1d array was expected. Please change the shape of y to (n_samples, ), for example using ravel().\n",
      "  return f(**kwargs)\n"
     ]
    },
    {
     "name": "stdout",
     "output_type": "stream",
     "text": [
      "[CV]  xgbregressor__reg_lambda=0.3, xgbregressor__reg_alpha=0.9, xgbregressor__n_estimators=500, xgbregressor__min_child_weight=2.5, xgbregressor__max_depth=4, xgbregressor__learning_rate=0.03, xgbregressor__gamma=1e-05, xgbregressor__booster=dart, svr__tol=0.0011, svr__kernel=rbf, svr__gamma=9e-05, svr__epsilon=0.011, svr__degree=4, svr__cache_size=185, svr__C=75, meta_regressor__tol=0.0011, meta_regressor__kernel=rbf, meta_regressor__gamma=9e-05, meta_regressor__epsilon=0.011, meta_regressor__degree=4, meta_regressor__cache_size=185, meta_regressor__C=75, lgbmregressor__num_leaves=3, lgbmregressor__n_estimators=500, lgbmregressor__max_depth=4, lgbmregressor__learning_rate=0.01, total=  16.1s\n",
      "[CV] xgbregressor__reg_lambda=0.3, xgbregressor__reg_alpha=0.9, xgbregressor__n_estimators=500, xgbregressor__min_child_weight=2.5, xgbregressor__max_depth=4, xgbregressor__learning_rate=0.03, xgbregressor__gamma=1e-05, xgbregressor__booster=dart, svr__tol=0.0011, svr__kernel=rbf, svr__gamma=9e-05, svr__epsilon=0.011, svr__degree=4, svr__cache_size=185, svr__C=75, meta_regressor__tol=0.0011, meta_regressor__kernel=rbf, meta_regressor__gamma=9e-05, meta_regressor__epsilon=0.011, meta_regressor__degree=4, meta_regressor__cache_size=185, meta_regressor__C=75, lgbmregressor__num_leaves=3, lgbmregressor__n_estimators=500, lgbmregressor__max_depth=4, lgbmregressor__learning_rate=0.01 \n"
     ]
    },
    {
     "name": "stderr",
     "output_type": "stream",
     "text": [
      "C:\\Users\\Malik computer\\anaconda3\\lib\\site-packages\\sklearn\\utils\\validation.py:72: DataConversionWarning: A column-vector y was passed when a 1d array was expected. Please change the shape of y to (n_samples, ), for example using ravel().\n",
      "  return f(**kwargs)\n",
      "C:\\Users\\Malik computer\\anaconda3\\lib\\site-packages\\sklearn\\utils\\validation.py:72: DataConversionWarning: A column-vector y was passed when a 1d array was expected. Please change the shape of y to (n_samples, ), for example using ravel().\n",
      "  return f(**kwargs)\n",
      "C:\\Users\\Malik computer\\anaconda3\\lib\\site-packages\\sklearn\\utils\\validation.py:72: DataConversionWarning: A column-vector y was passed when a 1d array was expected. Please change the shape of y to (n_samples, ), for example using ravel().\n",
      "  return f(**kwargs)\n"
     ]
    },
    {
     "name": "stdout",
     "output_type": "stream",
     "text": [
      "[CV]  xgbregressor__reg_lambda=0.3, xgbregressor__reg_alpha=0.9, xgbregressor__n_estimators=500, xgbregressor__min_child_weight=2.5, xgbregressor__max_depth=4, xgbregressor__learning_rate=0.03, xgbregressor__gamma=1e-05, xgbregressor__booster=dart, svr__tol=0.0011, svr__kernel=rbf, svr__gamma=9e-05, svr__epsilon=0.011, svr__degree=4, svr__cache_size=185, svr__C=75, meta_regressor__tol=0.0011, meta_regressor__kernel=rbf, meta_regressor__gamma=9e-05, meta_regressor__epsilon=0.011, meta_regressor__degree=4, meta_regressor__cache_size=185, meta_regressor__C=75, lgbmregressor__num_leaves=3, lgbmregressor__n_estimators=500, lgbmregressor__max_depth=4, lgbmregressor__learning_rate=0.01, total=  15.9s\n",
      "[CV] xgbregressor__reg_lambda=0.3, xgbregressor__reg_alpha=0.9, xgbregressor__n_estimators=500, xgbregressor__min_child_weight=2.5, xgbregressor__max_depth=4, xgbregressor__learning_rate=0.03, xgbregressor__gamma=1e-05, xgbregressor__booster=dart, svr__tol=0.0011, svr__kernel=rbf, svr__gamma=9e-05, svr__epsilon=0.011, svr__degree=4, svr__cache_size=185, svr__C=75, meta_regressor__tol=0.0011, meta_regressor__kernel=rbf, meta_regressor__gamma=9e-05, meta_regressor__epsilon=0.011, meta_regressor__degree=4, meta_regressor__cache_size=185, meta_regressor__C=75, lgbmregressor__num_leaves=3, lgbmregressor__n_estimators=500, lgbmregressor__max_depth=4, lgbmregressor__learning_rate=0.01 \n"
     ]
    },
    {
     "name": "stderr",
     "output_type": "stream",
     "text": [
      "C:\\Users\\Malik computer\\anaconda3\\lib\\site-packages\\sklearn\\utils\\validation.py:72: DataConversionWarning: A column-vector y was passed when a 1d array was expected. Please change the shape of y to (n_samples, ), for example using ravel().\n",
      "  return f(**kwargs)\n",
      "C:\\Users\\Malik computer\\anaconda3\\lib\\site-packages\\sklearn\\utils\\validation.py:72: DataConversionWarning: A column-vector y was passed when a 1d array was expected. Please change the shape of y to (n_samples, ), for example using ravel().\n",
      "  return f(**kwargs)\n",
      "C:\\Users\\Malik computer\\anaconda3\\lib\\site-packages\\sklearn\\utils\\validation.py:72: DataConversionWarning: A column-vector y was passed when a 1d array was expected. Please change the shape of y to (n_samples, ), for example using ravel().\n",
      "  return f(**kwargs)\n"
     ]
    },
    {
     "name": "stdout",
     "output_type": "stream",
     "text": [
      "[CV]  xgbregressor__reg_lambda=0.3, xgbregressor__reg_alpha=0.9, xgbregressor__n_estimators=500, xgbregressor__min_child_weight=2.5, xgbregressor__max_depth=4, xgbregressor__learning_rate=0.03, xgbregressor__gamma=1e-05, xgbregressor__booster=dart, svr__tol=0.0011, svr__kernel=rbf, svr__gamma=9e-05, svr__epsilon=0.011, svr__degree=4, svr__cache_size=185, svr__C=75, meta_regressor__tol=0.0011, meta_regressor__kernel=rbf, meta_regressor__gamma=9e-05, meta_regressor__epsilon=0.011, meta_regressor__degree=4, meta_regressor__cache_size=185, meta_regressor__C=75, lgbmregressor__num_leaves=3, lgbmregressor__n_estimators=500, lgbmregressor__max_depth=4, lgbmregressor__learning_rate=0.01, total=  17.1s\n",
      "[CV] xgbregressor__reg_lambda=0.3, xgbregressor__reg_alpha=0.9, xgbregressor__n_estimators=500, xgbregressor__min_child_weight=2.5, xgbregressor__max_depth=4, xgbregressor__learning_rate=0.03, xgbregressor__gamma=1e-05, xgbregressor__booster=dart, svr__tol=0.0011, svr__kernel=rbf, svr__gamma=9e-05, svr__epsilon=0.011, svr__degree=4, svr__cache_size=185, svr__C=75, meta_regressor__tol=0.0011, meta_regressor__kernel=rbf, meta_regressor__gamma=9e-05, meta_regressor__epsilon=0.011, meta_regressor__degree=4, meta_regressor__cache_size=185, meta_regressor__C=75, lgbmregressor__num_leaves=3, lgbmregressor__n_estimators=500, lgbmregressor__max_depth=4, lgbmregressor__learning_rate=0.01 \n"
     ]
    },
    {
     "name": "stderr",
     "output_type": "stream",
     "text": [
      "C:\\Users\\Malik computer\\anaconda3\\lib\\site-packages\\sklearn\\utils\\validation.py:72: DataConversionWarning: A column-vector y was passed when a 1d array was expected. Please change the shape of y to (n_samples, ), for example using ravel().\n",
      "  return f(**kwargs)\n",
      "C:\\Users\\Malik computer\\anaconda3\\lib\\site-packages\\sklearn\\utils\\validation.py:72: DataConversionWarning: A column-vector y was passed when a 1d array was expected. Please change the shape of y to (n_samples, ), for example using ravel().\n",
      "  return f(**kwargs)\n",
      "C:\\Users\\Malik computer\\anaconda3\\lib\\site-packages\\sklearn\\utils\\validation.py:72: DataConversionWarning: A column-vector y was passed when a 1d array was expected. Please change the shape of y to (n_samples, ), for example using ravel().\n",
      "  return f(**kwargs)\n"
     ]
    },
    {
     "name": "stdout",
     "output_type": "stream",
     "text": [
      "[CV]  xgbregressor__reg_lambda=0.3, xgbregressor__reg_alpha=0.9, xgbregressor__n_estimators=500, xgbregressor__min_child_weight=2.5, xgbregressor__max_depth=4, xgbregressor__learning_rate=0.03, xgbregressor__gamma=1e-05, xgbregressor__booster=dart, svr__tol=0.0011, svr__kernel=rbf, svr__gamma=9e-05, svr__epsilon=0.011, svr__degree=4, svr__cache_size=185, svr__C=75, meta_regressor__tol=0.0011, meta_regressor__kernel=rbf, meta_regressor__gamma=9e-05, meta_regressor__epsilon=0.011, meta_regressor__degree=4, meta_regressor__cache_size=185, meta_regressor__C=75, lgbmregressor__num_leaves=3, lgbmregressor__n_estimators=500, lgbmregressor__max_depth=4, lgbmregressor__learning_rate=0.01, total=  16.0s\n",
      "[CV] xgbregressor__reg_lambda=0.4, xgbregressor__reg_alpha=0.9, xgbregressor__n_estimators=500, xgbregressor__min_child_weight=2.5, xgbregressor__max_depth=4, xgbregressor__learning_rate=0.03, xgbregressor__gamma=1e-05, xgbregressor__booster=dart, svr__tol=0.0011, svr__kernel=rbf, svr__gamma=9e-05, svr__epsilon=0.011, svr__degree=4, svr__cache_size=185, svr__C=75, meta_regressor__tol=0.0011, meta_regressor__kernel=rbf, meta_regressor__gamma=9e-05, meta_regressor__epsilon=0.011, meta_regressor__degree=4, meta_regressor__cache_size=185, meta_regressor__C=75, lgbmregressor__num_leaves=4, lgbmregressor__n_estimators=500, lgbmregressor__max_depth=3, lgbmregressor__learning_rate=0.02 \n"
     ]
    },
    {
     "name": "stderr",
     "output_type": "stream",
     "text": [
      "C:\\Users\\Malik computer\\anaconda3\\lib\\site-packages\\sklearn\\utils\\validation.py:72: DataConversionWarning: A column-vector y was passed when a 1d array was expected. Please change the shape of y to (n_samples, ), for example using ravel().\n",
      "  return f(**kwargs)\n",
      "C:\\Users\\Malik computer\\anaconda3\\lib\\site-packages\\sklearn\\utils\\validation.py:72: DataConversionWarning: A column-vector y was passed when a 1d array was expected. Please change the shape of y to (n_samples, ), for example using ravel().\n",
      "  return f(**kwargs)\n",
      "C:\\Users\\Malik computer\\anaconda3\\lib\\site-packages\\sklearn\\utils\\validation.py:72: DataConversionWarning: A column-vector y was passed when a 1d array was expected. Please change the shape of y to (n_samples, ), for example using ravel().\n",
      "  return f(**kwargs)\n"
     ]
    },
    {
     "name": "stdout",
     "output_type": "stream",
     "text": [
      "[CV]  xgbregressor__reg_lambda=0.4, xgbregressor__reg_alpha=0.9, xgbregressor__n_estimators=500, xgbregressor__min_child_weight=2.5, xgbregressor__max_depth=4, xgbregressor__learning_rate=0.03, xgbregressor__gamma=1e-05, xgbregressor__booster=dart, svr__tol=0.0011, svr__kernel=rbf, svr__gamma=9e-05, svr__epsilon=0.011, svr__degree=4, svr__cache_size=185, svr__C=75, meta_regressor__tol=0.0011, meta_regressor__kernel=rbf, meta_regressor__gamma=9e-05, meta_regressor__epsilon=0.011, meta_regressor__degree=4, meta_regressor__cache_size=185, meta_regressor__C=75, lgbmregressor__num_leaves=4, lgbmregressor__n_estimators=500, lgbmregressor__max_depth=3, lgbmregressor__learning_rate=0.02, total=  15.7s\n",
      "[CV] xgbregressor__reg_lambda=0.4, xgbregressor__reg_alpha=0.9, xgbregressor__n_estimators=500, xgbregressor__min_child_weight=2.5, xgbregressor__max_depth=4, xgbregressor__learning_rate=0.03, xgbregressor__gamma=1e-05, xgbregressor__booster=dart, svr__tol=0.0011, svr__kernel=rbf, svr__gamma=9e-05, svr__epsilon=0.011, svr__degree=4, svr__cache_size=185, svr__C=75, meta_regressor__tol=0.0011, meta_regressor__kernel=rbf, meta_regressor__gamma=9e-05, meta_regressor__epsilon=0.011, meta_regressor__degree=4, meta_regressor__cache_size=185, meta_regressor__C=75, lgbmregressor__num_leaves=4, lgbmregressor__n_estimators=500, lgbmregressor__max_depth=3, lgbmregressor__learning_rate=0.02 \n"
     ]
    },
    {
     "name": "stderr",
     "output_type": "stream",
     "text": [
      "C:\\Users\\Malik computer\\anaconda3\\lib\\site-packages\\sklearn\\utils\\validation.py:72: DataConversionWarning: A column-vector y was passed when a 1d array was expected. Please change the shape of y to (n_samples, ), for example using ravel().\n",
      "  return f(**kwargs)\n",
      "C:\\Users\\Malik computer\\anaconda3\\lib\\site-packages\\sklearn\\utils\\validation.py:72: DataConversionWarning: A column-vector y was passed when a 1d array was expected. Please change the shape of y to (n_samples, ), for example using ravel().\n",
      "  return f(**kwargs)\n",
      "C:\\Users\\Malik computer\\anaconda3\\lib\\site-packages\\sklearn\\utils\\validation.py:72: DataConversionWarning: A column-vector y was passed when a 1d array was expected. Please change the shape of y to (n_samples, ), for example using ravel().\n",
      "  return f(**kwargs)\n"
     ]
    },
    {
     "name": "stdout",
     "output_type": "stream",
     "text": [
      "[CV]  xgbregressor__reg_lambda=0.4, xgbregressor__reg_alpha=0.9, xgbregressor__n_estimators=500, xgbregressor__min_child_weight=2.5, xgbregressor__max_depth=4, xgbregressor__learning_rate=0.03, xgbregressor__gamma=1e-05, xgbregressor__booster=dart, svr__tol=0.0011, svr__kernel=rbf, svr__gamma=9e-05, svr__epsilon=0.011, svr__degree=4, svr__cache_size=185, svr__C=75, meta_regressor__tol=0.0011, meta_regressor__kernel=rbf, meta_regressor__gamma=9e-05, meta_regressor__epsilon=0.011, meta_regressor__degree=4, meta_regressor__cache_size=185, meta_regressor__C=75, lgbmregressor__num_leaves=4, lgbmregressor__n_estimators=500, lgbmregressor__max_depth=3, lgbmregressor__learning_rate=0.02, total=  16.1s\n",
      "[CV] xgbregressor__reg_lambda=0.4, xgbregressor__reg_alpha=0.9, xgbregressor__n_estimators=500, xgbregressor__min_child_weight=2.5, xgbregressor__max_depth=4, xgbregressor__learning_rate=0.03, xgbregressor__gamma=1e-05, xgbregressor__booster=dart, svr__tol=0.0011, svr__kernel=rbf, svr__gamma=9e-05, svr__epsilon=0.011, svr__degree=4, svr__cache_size=185, svr__C=75, meta_regressor__tol=0.0011, meta_regressor__kernel=rbf, meta_regressor__gamma=9e-05, meta_regressor__epsilon=0.011, meta_regressor__degree=4, meta_regressor__cache_size=185, meta_regressor__C=75, lgbmregressor__num_leaves=4, lgbmregressor__n_estimators=500, lgbmregressor__max_depth=3, lgbmregressor__learning_rate=0.02 \n"
     ]
    },
    {
     "name": "stderr",
     "output_type": "stream",
     "text": [
      "C:\\Users\\Malik computer\\anaconda3\\lib\\site-packages\\sklearn\\utils\\validation.py:72: DataConversionWarning: A column-vector y was passed when a 1d array was expected. Please change the shape of y to (n_samples, ), for example using ravel().\n",
      "  return f(**kwargs)\n",
      "C:\\Users\\Malik computer\\anaconda3\\lib\\site-packages\\sklearn\\utils\\validation.py:72: DataConversionWarning: A column-vector y was passed when a 1d array was expected. Please change the shape of y to (n_samples, ), for example using ravel().\n",
      "  return f(**kwargs)\n",
      "C:\\Users\\Malik computer\\anaconda3\\lib\\site-packages\\sklearn\\utils\\validation.py:72: DataConversionWarning: A column-vector y was passed when a 1d array was expected. Please change the shape of y to (n_samples, ), for example using ravel().\n",
      "  return f(**kwargs)\n"
     ]
    },
    {
     "name": "stdout",
     "output_type": "stream",
     "text": [
      "[CV]  xgbregressor__reg_lambda=0.4, xgbregressor__reg_alpha=0.9, xgbregressor__n_estimators=500, xgbregressor__min_child_weight=2.5, xgbregressor__max_depth=4, xgbregressor__learning_rate=0.03, xgbregressor__gamma=1e-05, xgbregressor__booster=dart, svr__tol=0.0011, svr__kernel=rbf, svr__gamma=9e-05, svr__epsilon=0.011, svr__degree=4, svr__cache_size=185, svr__C=75, meta_regressor__tol=0.0011, meta_regressor__kernel=rbf, meta_regressor__gamma=9e-05, meta_regressor__epsilon=0.011, meta_regressor__degree=4, meta_regressor__cache_size=185, meta_regressor__C=75, lgbmregressor__num_leaves=4, lgbmregressor__n_estimators=500, lgbmregressor__max_depth=3, lgbmregressor__learning_rate=0.02, total=  15.8s\n",
      "[CV] xgbregressor__reg_lambda=0.4, xgbregressor__reg_alpha=0.9, xgbregressor__n_estimators=500, xgbregressor__min_child_weight=2.5, xgbregressor__max_depth=4, xgbregressor__learning_rate=0.03, xgbregressor__gamma=1e-05, xgbregressor__booster=dart, svr__tol=0.0011, svr__kernel=rbf, svr__gamma=9e-05, svr__epsilon=0.011, svr__degree=4, svr__cache_size=185, svr__C=75, meta_regressor__tol=0.0011, meta_regressor__kernel=rbf, meta_regressor__gamma=9e-05, meta_regressor__epsilon=0.011, meta_regressor__degree=4, meta_regressor__cache_size=185, meta_regressor__C=75, lgbmregressor__num_leaves=4, lgbmregressor__n_estimators=500, lgbmregressor__max_depth=3, lgbmregressor__learning_rate=0.02 \n"
     ]
    },
    {
     "name": "stderr",
     "output_type": "stream",
     "text": [
      "C:\\Users\\Malik computer\\anaconda3\\lib\\site-packages\\sklearn\\utils\\validation.py:72: DataConversionWarning: A column-vector y was passed when a 1d array was expected. Please change the shape of y to (n_samples, ), for example using ravel().\n",
      "  return f(**kwargs)\n",
      "C:\\Users\\Malik computer\\anaconda3\\lib\\site-packages\\sklearn\\utils\\validation.py:72: DataConversionWarning: A column-vector y was passed when a 1d array was expected. Please change the shape of y to (n_samples, ), for example using ravel().\n",
      "  return f(**kwargs)\n",
      "C:\\Users\\Malik computer\\anaconda3\\lib\\site-packages\\sklearn\\utils\\validation.py:72: DataConversionWarning: A column-vector y was passed when a 1d array was expected. Please change the shape of y to (n_samples, ), for example using ravel().\n",
      "  return f(**kwargs)\n"
     ]
    },
    {
     "name": "stdout",
     "output_type": "stream",
     "text": [
      "[CV]  xgbregressor__reg_lambda=0.4, xgbregressor__reg_alpha=0.9, xgbregressor__n_estimators=500, xgbregressor__min_child_weight=2.5, xgbregressor__max_depth=4, xgbregressor__learning_rate=0.03, xgbregressor__gamma=1e-05, xgbregressor__booster=dart, svr__tol=0.0011, svr__kernel=rbf, svr__gamma=9e-05, svr__epsilon=0.011, svr__degree=4, svr__cache_size=185, svr__C=75, meta_regressor__tol=0.0011, meta_regressor__kernel=rbf, meta_regressor__gamma=9e-05, meta_regressor__epsilon=0.011, meta_regressor__degree=4, meta_regressor__cache_size=185, meta_regressor__C=75, lgbmregressor__num_leaves=4, lgbmregressor__n_estimators=500, lgbmregressor__max_depth=3, lgbmregressor__learning_rate=0.02, total=  16.3s\n",
      "[CV] xgbregressor__reg_lambda=0.4, xgbregressor__reg_alpha=0.9, xgbregressor__n_estimators=500, xgbregressor__min_child_weight=2.5, xgbregressor__max_depth=4, xgbregressor__learning_rate=0.03, xgbregressor__gamma=1e-05, xgbregressor__booster=dart, svr__tol=0.0011, svr__kernel=rbf, svr__gamma=9e-05, svr__epsilon=0.011, svr__degree=4, svr__cache_size=185, svr__C=75, meta_regressor__tol=0.0011, meta_regressor__kernel=rbf, meta_regressor__gamma=9e-05, meta_regressor__epsilon=0.011, meta_regressor__degree=4, meta_regressor__cache_size=185, meta_regressor__C=75, lgbmregressor__num_leaves=4, lgbmregressor__n_estimators=500, lgbmregressor__max_depth=3, lgbmregressor__learning_rate=0.02 \n"
     ]
    },
    {
     "name": "stderr",
     "output_type": "stream",
     "text": [
      "C:\\Users\\Malik computer\\anaconda3\\lib\\site-packages\\sklearn\\utils\\validation.py:72: DataConversionWarning: A column-vector y was passed when a 1d array was expected. Please change the shape of y to (n_samples, ), for example using ravel().\n",
      "  return f(**kwargs)\n",
      "C:\\Users\\Malik computer\\anaconda3\\lib\\site-packages\\sklearn\\utils\\validation.py:72: DataConversionWarning: A column-vector y was passed when a 1d array was expected. Please change the shape of y to (n_samples, ), for example using ravel().\n",
      "  return f(**kwargs)\n",
      "C:\\Users\\Malik computer\\anaconda3\\lib\\site-packages\\sklearn\\utils\\validation.py:72: DataConversionWarning: A column-vector y was passed when a 1d array was expected. Please change the shape of y to (n_samples, ), for example using ravel().\n",
      "  return f(**kwargs)\n"
     ]
    },
    {
     "name": "stdout",
     "output_type": "stream",
     "text": [
      "[CV]  xgbregressor__reg_lambda=0.4, xgbregressor__reg_alpha=0.9, xgbregressor__n_estimators=500, xgbregressor__min_child_weight=2.5, xgbregressor__max_depth=4, xgbregressor__learning_rate=0.03, xgbregressor__gamma=1e-05, xgbregressor__booster=dart, svr__tol=0.0011, svr__kernel=rbf, svr__gamma=9e-05, svr__epsilon=0.011, svr__degree=4, svr__cache_size=185, svr__C=75, meta_regressor__tol=0.0011, meta_regressor__kernel=rbf, meta_regressor__gamma=9e-05, meta_regressor__epsilon=0.011, meta_regressor__degree=4, meta_regressor__cache_size=185, meta_regressor__C=75, lgbmregressor__num_leaves=4, lgbmregressor__n_estimators=500, lgbmregressor__max_depth=3, lgbmregressor__learning_rate=0.02, total=  15.8s\n",
      "[CV] xgbregressor__reg_lambda=0.4, xgbregressor__reg_alpha=0.9, xgbregressor__n_estimators=500, xgbregressor__min_child_weight=2.5, xgbregressor__max_depth=4, xgbregressor__learning_rate=0.01, xgbregressor__gamma=1e-05, xgbregressor__booster=dart, svr__tol=0.0011, svr__kernel=rbf, svr__gamma=9e-05, svr__epsilon=0.011, svr__degree=4, svr__cache_size=185, svr__C=75, meta_regressor__tol=0.0011, meta_regressor__kernel=rbf, meta_regressor__gamma=9e-05, meta_regressor__epsilon=0.011, meta_regressor__degree=4, meta_regressor__cache_size=185, meta_regressor__C=75, lgbmregressor__num_leaves=3, lgbmregressor__n_estimators=500, lgbmregressor__max_depth=3, lgbmregressor__learning_rate=0.02 \n"
     ]
    },
    {
     "name": "stderr",
     "output_type": "stream",
     "text": [
      "C:\\Users\\Malik computer\\anaconda3\\lib\\site-packages\\sklearn\\utils\\validation.py:72: DataConversionWarning: A column-vector y was passed when a 1d array was expected. Please change the shape of y to (n_samples, ), for example using ravel().\n",
      "  return f(**kwargs)\n",
      "C:\\Users\\Malik computer\\anaconda3\\lib\\site-packages\\sklearn\\utils\\validation.py:72: DataConversionWarning: A column-vector y was passed when a 1d array was expected. Please change the shape of y to (n_samples, ), for example using ravel().\n",
      "  return f(**kwargs)\n",
      "C:\\Users\\Malik computer\\anaconda3\\lib\\site-packages\\sklearn\\utils\\validation.py:72: DataConversionWarning: A column-vector y was passed when a 1d array was expected. Please change the shape of y to (n_samples, ), for example using ravel().\n",
      "  return f(**kwargs)\n"
     ]
    },
    {
     "name": "stdout",
     "output_type": "stream",
     "text": [
      "[CV]  xgbregressor__reg_lambda=0.4, xgbregressor__reg_alpha=0.9, xgbregressor__n_estimators=500, xgbregressor__min_child_weight=2.5, xgbregressor__max_depth=4, xgbregressor__learning_rate=0.01, xgbregressor__gamma=1e-05, xgbregressor__booster=dart, svr__tol=0.0011, svr__kernel=rbf, svr__gamma=9e-05, svr__epsilon=0.011, svr__degree=4, svr__cache_size=185, svr__C=75, meta_regressor__tol=0.0011, meta_regressor__kernel=rbf, meta_regressor__gamma=9e-05, meta_regressor__epsilon=0.011, meta_regressor__degree=4, meta_regressor__cache_size=185, meta_regressor__C=75, lgbmregressor__num_leaves=3, lgbmregressor__n_estimators=500, lgbmregressor__max_depth=3, lgbmregressor__learning_rate=0.02, total=  14.0s\n",
      "[CV] xgbregressor__reg_lambda=0.4, xgbregressor__reg_alpha=0.9, xgbregressor__n_estimators=500, xgbregressor__min_child_weight=2.5, xgbregressor__max_depth=4, xgbregressor__learning_rate=0.01, xgbregressor__gamma=1e-05, xgbregressor__booster=dart, svr__tol=0.0011, svr__kernel=rbf, svr__gamma=9e-05, svr__epsilon=0.011, svr__degree=4, svr__cache_size=185, svr__C=75, meta_regressor__tol=0.0011, meta_regressor__kernel=rbf, meta_regressor__gamma=9e-05, meta_regressor__epsilon=0.011, meta_regressor__degree=4, meta_regressor__cache_size=185, meta_regressor__C=75, lgbmregressor__num_leaves=3, lgbmregressor__n_estimators=500, lgbmregressor__max_depth=3, lgbmregressor__learning_rate=0.02 \n"
     ]
    },
    {
     "name": "stderr",
     "output_type": "stream",
     "text": [
      "C:\\Users\\Malik computer\\anaconda3\\lib\\site-packages\\sklearn\\utils\\validation.py:72: DataConversionWarning: A column-vector y was passed when a 1d array was expected. Please change the shape of y to (n_samples, ), for example using ravel().\n",
      "  return f(**kwargs)\n",
      "C:\\Users\\Malik computer\\anaconda3\\lib\\site-packages\\sklearn\\utils\\validation.py:72: DataConversionWarning: A column-vector y was passed when a 1d array was expected. Please change the shape of y to (n_samples, ), for example using ravel().\n",
      "  return f(**kwargs)\n",
      "C:\\Users\\Malik computer\\anaconda3\\lib\\site-packages\\sklearn\\utils\\validation.py:72: DataConversionWarning: A column-vector y was passed when a 1d array was expected. Please change the shape of y to (n_samples, ), for example using ravel().\n",
      "  return f(**kwargs)\n"
     ]
    },
    {
     "name": "stdout",
     "output_type": "stream",
     "text": [
      "[CV]  xgbregressor__reg_lambda=0.4, xgbregressor__reg_alpha=0.9, xgbregressor__n_estimators=500, xgbregressor__min_child_weight=2.5, xgbregressor__max_depth=4, xgbregressor__learning_rate=0.01, xgbregressor__gamma=1e-05, xgbregressor__booster=dart, svr__tol=0.0011, svr__kernel=rbf, svr__gamma=9e-05, svr__epsilon=0.011, svr__degree=4, svr__cache_size=185, svr__C=75, meta_regressor__tol=0.0011, meta_regressor__kernel=rbf, meta_regressor__gamma=9e-05, meta_regressor__epsilon=0.011, meta_regressor__degree=4, meta_regressor__cache_size=185, meta_regressor__C=75, lgbmregressor__num_leaves=3, lgbmregressor__n_estimators=500, lgbmregressor__max_depth=3, lgbmregressor__learning_rate=0.02, total=  15.5s\n",
      "[CV] xgbregressor__reg_lambda=0.4, xgbregressor__reg_alpha=0.9, xgbregressor__n_estimators=500, xgbregressor__min_child_weight=2.5, xgbregressor__max_depth=4, xgbregressor__learning_rate=0.01, xgbregressor__gamma=1e-05, xgbregressor__booster=dart, svr__tol=0.0011, svr__kernel=rbf, svr__gamma=9e-05, svr__epsilon=0.011, svr__degree=4, svr__cache_size=185, svr__C=75, meta_regressor__tol=0.0011, meta_regressor__kernel=rbf, meta_regressor__gamma=9e-05, meta_regressor__epsilon=0.011, meta_regressor__degree=4, meta_regressor__cache_size=185, meta_regressor__C=75, lgbmregressor__num_leaves=3, lgbmregressor__n_estimators=500, lgbmregressor__max_depth=3, lgbmregressor__learning_rate=0.02 \n"
     ]
    },
    {
     "name": "stderr",
     "output_type": "stream",
     "text": [
      "C:\\Users\\Malik computer\\anaconda3\\lib\\site-packages\\sklearn\\utils\\validation.py:72: DataConversionWarning: A column-vector y was passed when a 1d array was expected. Please change the shape of y to (n_samples, ), for example using ravel().\n",
      "  return f(**kwargs)\n",
      "C:\\Users\\Malik computer\\anaconda3\\lib\\site-packages\\sklearn\\utils\\validation.py:72: DataConversionWarning: A column-vector y was passed when a 1d array was expected. Please change the shape of y to (n_samples, ), for example using ravel().\n",
      "  return f(**kwargs)\n",
      "C:\\Users\\Malik computer\\anaconda3\\lib\\site-packages\\sklearn\\utils\\validation.py:72: DataConversionWarning: A column-vector y was passed when a 1d array was expected. Please change the shape of y to (n_samples, ), for example using ravel().\n",
      "  return f(**kwargs)\n"
     ]
    },
    {
     "name": "stdout",
     "output_type": "stream",
     "text": [
      "[CV]  xgbregressor__reg_lambda=0.4, xgbregressor__reg_alpha=0.9, xgbregressor__n_estimators=500, xgbregressor__min_child_weight=2.5, xgbregressor__max_depth=4, xgbregressor__learning_rate=0.01, xgbregressor__gamma=1e-05, xgbregressor__booster=dart, svr__tol=0.0011, svr__kernel=rbf, svr__gamma=9e-05, svr__epsilon=0.011, svr__degree=4, svr__cache_size=185, svr__C=75, meta_regressor__tol=0.0011, meta_regressor__kernel=rbf, meta_regressor__gamma=9e-05, meta_regressor__epsilon=0.011, meta_regressor__degree=4, meta_regressor__cache_size=185, meta_regressor__C=75, lgbmregressor__num_leaves=3, lgbmregressor__n_estimators=500, lgbmregressor__max_depth=3, lgbmregressor__learning_rate=0.02, total=  45.5s\n",
      "[CV] xgbregressor__reg_lambda=0.4, xgbregressor__reg_alpha=0.9, xgbregressor__n_estimators=500, xgbregressor__min_child_weight=2.5, xgbregressor__max_depth=4, xgbregressor__learning_rate=0.01, xgbregressor__gamma=1e-05, xgbregressor__booster=dart, svr__tol=0.0011, svr__kernel=rbf, svr__gamma=9e-05, svr__epsilon=0.011, svr__degree=4, svr__cache_size=185, svr__C=75, meta_regressor__tol=0.0011, meta_regressor__kernel=rbf, meta_regressor__gamma=9e-05, meta_regressor__epsilon=0.011, meta_regressor__degree=4, meta_regressor__cache_size=185, meta_regressor__C=75, lgbmregressor__num_leaves=3, lgbmregressor__n_estimators=500, lgbmregressor__max_depth=3, lgbmregressor__learning_rate=0.02 \n"
     ]
    },
    {
     "name": "stderr",
     "output_type": "stream",
     "text": [
      "C:\\Users\\Malik computer\\anaconda3\\lib\\site-packages\\sklearn\\utils\\validation.py:72: DataConversionWarning: A column-vector y was passed when a 1d array was expected. Please change the shape of y to (n_samples, ), for example using ravel().\n",
      "  return f(**kwargs)\n",
      "C:\\Users\\Malik computer\\anaconda3\\lib\\site-packages\\sklearn\\utils\\validation.py:72: DataConversionWarning: A column-vector y was passed when a 1d array was expected. Please change the shape of y to (n_samples, ), for example using ravel().\n",
      "  return f(**kwargs)\n",
      "C:\\Users\\Malik computer\\anaconda3\\lib\\site-packages\\sklearn\\utils\\validation.py:72: DataConversionWarning: A column-vector y was passed when a 1d array was expected. Please change the shape of y to (n_samples, ), for example using ravel().\n",
      "  return f(**kwargs)\n"
     ]
    },
    {
     "name": "stdout",
     "output_type": "stream",
     "text": [
      "[CV]  xgbregressor__reg_lambda=0.4, xgbregressor__reg_alpha=0.9, xgbregressor__n_estimators=500, xgbregressor__min_child_weight=2.5, xgbregressor__max_depth=4, xgbregressor__learning_rate=0.01, xgbregressor__gamma=1e-05, xgbregressor__booster=dart, svr__tol=0.0011, svr__kernel=rbf, svr__gamma=9e-05, svr__epsilon=0.011, svr__degree=4, svr__cache_size=185, svr__C=75, meta_regressor__tol=0.0011, meta_regressor__kernel=rbf, meta_regressor__gamma=9e-05, meta_regressor__epsilon=0.011, meta_regressor__degree=4, meta_regressor__cache_size=185, meta_regressor__C=75, lgbmregressor__num_leaves=3, lgbmregressor__n_estimators=500, lgbmregressor__max_depth=3, lgbmregressor__learning_rate=0.02, total=  14.2s\n",
      "[CV] xgbregressor__reg_lambda=0.4, xgbregressor__reg_alpha=0.9, xgbregressor__n_estimators=500, xgbregressor__min_child_weight=2.5, xgbregressor__max_depth=4, xgbregressor__learning_rate=0.01, xgbregressor__gamma=1e-05, xgbregressor__booster=dart, svr__tol=0.0011, svr__kernel=rbf, svr__gamma=9e-05, svr__epsilon=0.011, svr__degree=4, svr__cache_size=185, svr__C=75, meta_regressor__tol=0.0011, meta_regressor__kernel=rbf, meta_regressor__gamma=9e-05, meta_regressor__epsilon=0.011, meta_regressor__degree=4, meta_regressor__cache_size=185, meta_regressor__C=75, lgbmregressor__num_leaves=3, lgbmregressor__n_estimators=500, lgbmregressor__max_depth=3, lgbmregressor__learning_rate=0.02 \n"
     ]
    },
    {
     "name": "stderr",
     "output_type": "stream",
     "text": [
      "C:\\Users\\Malik computer\\anaconda3\\lib\\site-packages\\sklearn\\utils\\validation.py:72: DataConversionWarning: A column-vector y was passed when a 1d array was expected. Please change the shape of y to (n_samples, ), for example using ravel().\n",
      "  return f(**kwargs)\n",
      "C:\\Users\\Malik computer\\anaconda3\\lib\\site-packages\\sklearn\\utils\\validation.py:72: DataConversionWarning: A column-vector y was passed when a 1d array was expected. Please change the shape of y to (n_samples, ), for example using ravel().\n",
      "  return f(**kwargs)\n",
      "C:\\Users\\Malik computer\\anaconda3\\lib\\site-packages\\sklearn\\utils\\validation.py:72: DataConversionWarning: A column-vector y was passed when a 1d array was expected. Please change the shape of y to (n_samples, ), for example using ravel().\n",
      "  return f(**kwargs)\n"
     ]
    },
    {
     "name": "stdout",
     "output_type": "stream",
     "text": [
      "[CV]  xgbregressor__reg_lambda=0.4, xgbregressor__reg_alpha=0.9, xgbregressor__n_estimators=500, xgbregressor__min_child_weight=2.5, xgbregressor__max_depth=4, xgbregressor__learning_rate=0.01, xgbregressor__gamma=1e-05, xgbregressor__booster=dart, svr__tol=0.0011, svr__kernel=rbf, svr__gamma=9e-05, svr__epsilon=0.011, svr__degree=4, svr__cache_size=185, svr__C=75, meta_regressor__tol=0.0011, meta_regressor__kernel=rbf, meta_regressor__gamma=9e-05, meta_regressor__epsilon=0.011, meta_regressor__degree=4, meta_regressor__cache_size=185, meta_regressor__C=75, lgbmregressor__num_leaves=3, lgbmregressor__n_estimators=500, lgbmregressor__max_depth=3, lgbmregressor__learning_rate=0.02, total=  15.6s\n",
      "[CV] xgbregressor__reg_lambda=0.3, xgbregressor__reg_alpha=0.9, xgbregressor__n_estimators=500, xgbregressor__min_child_weight=2.5, xgbregressor__max_depth=4, xgbregressor__learning_rate=0.01, xgbregressor__gamma=1e-05, xgbregressor__booster=dart, svr__tol=0.0011, svr__kernel=rbf, svr__gamma=9e-05, svr__epsilon=0.011, svr__degree=4, svr__cache_size=185, svr__C=75, meta_regressor__tol=0.0011, meta_regressor__kernel=rbf, meta_regressor__gamma=9e-05, meta_regressor__epsilon=0.011, meta_regressor__degree=4, meta_regressor__cache_size=185, meta_regressor__C=75, lgbmregressor__num_leaves=4, lgbmregressor__n_estimators=500, lgbmregressor__max_depth=4, lgbmregressor__learning_rate=0.01 \n"
     ]
    },
    {
     "name": "stderr",
     "output_type": "stream",
     "text": [
      "C:\\Users\\Malik computer\\anaconda3\\lib\\site-packages\\sklearn\\utils\\validation.py:72: DataConversionWarning: A column-vector y was passed when a 1d array was expected. Please change the shape of y to (n_samples, ), for example using ravel().\n",
      "  return f(**kwargs)\n",
      "C:\\Users\\Malik computer\\anaconda3\\lib\\site-packages\\sklearn\\utils\\validation.py:72: DataConversionWarning: A column-vector y was passed when a 1d array was expected. Please change the shape of y to (n_samples, ), for example using ravel().\n",
      "  return f(**kwargs)\n",
      "C:\\Users\\Malik computer\\anaconda3\\lib\\site-packages\\sklearn\\utils\\validation.py:72: DataConversionWarning: A column-vector y was passed when a 1d array was expected. Please change the shape of y to (n_samples, ), for example using ravel().\n",
      "  return f(**kwargs)\n"
     ]
    },
    {
     "name": "stdout",
     "output_type": "stream",
     "text": [
      "[CV]  xgbregressor__reg_lambda=0.3, xgbregressor__reg_alpha=0.9, xgbregressor__n_estimators=500, xgbregressor__min_child_weight=2.5, xgbregressor__max_depth=4, xgbregressor__learning_rate=0.01, xgbregressor__gamma=1e-05, xgbregressor__booster=dart, svr__tol=0.0011, svr__kernel=rbf, svr__gamma=9e-05, svr__epsilon=0.011, svr__degree=4, svr__cache_size=185, svr__C=75, meta_regressor__tol=0.0011, meta_regressor__kernel=rbf, meta_regressor__gamma=9e-05, meta_regressor__epsilon=0.011, meta_regressor__degree=4, meta_regressor__cache_size=185, meta_regressor__C=75, lgbmregressor__num_leaves=4, lgbmregressor__n_estimators=500, lgbmregressor__max_depth=4, lgbmregressor__learning_rate=0.01, total=  16.2s\n",
      "[CV] xgbregressor__reg_lambda=0.3, xgbregressor__reg_alpha=0.9, xgbregressor__n_estimators=500, xgbregressor__min_child_weight=2.5, xgbregressor__max_depth=4, xgbregressor__learning_rate=0.01, xgbregressor__gamma=1e-05, xgbregressor__booster=dart, svr__tol=0.0011, svr__kernel=rbf, svr__gamma=9e-05, svr__epsilon=0.011, svr__degree=4, svr__cache_size=185, svr__C=75, meta_regressor__tol=0.0011, meta_regressor__kernel=rbf, meta_regressor__gamma=9e-05, meta_regressor__epsilon=0.011, meta_regressor__degree=4, meta_regressor__cache_size=185, meta_regressor__C=75, lgbmregressor__num_leaves=4, lgbmregressor__n_estimators=500, lgbmregressor__max_depth=4, lgbmregressor__learning_rate=0.01 \n"
     ]
    },
    {
     "name": "stderr",
     "output_type": "stream",
     "text": [
      "C:\\Users\\Malik computer\\anaconda3\\lib\\site-packages\\sklearn\\utils\\validation.py:72: DataConversionWarning: A column-vector y was passed when a 1d array was expected. Please change the shape of y to (n_samples, ), for example using ravel().\n",
      "  return f(**kwargs)\n",
      "C:\\Users\\Malik computer\\anaconda3\\lib\\site-packages\\sklearn\\utils\\validation.py:72: DataConversionWarning: A column-vector y was passed when a 1d array was expected. Please change the shape of y to (n_samples, ), for example using ravel().\n",
      "  return f(**kwargs)\n",
      "C:\\Users\\Malik computer\\anaconda3\\lib\\site-packages\\sklearn\\utils\\validation.py:72: DataConversionWarning: A column-vector y was passed when a 1d array was expected. Please change the shape of y to (n_samples, ), for example using ravel().\n",
      "  return f(**kwargs)\n"
     ]
    },
    {
     "name": "stdout",
     "output_type": "stream",
     "text": [
      "[CV]  xgbregressor__reg_lambda=0.3, xgbregressor__reg_alpha=0.9, xgbregressor__n_estimators=500, xgbregressor__min_child_weight=2.5, xgbregressor__max_depth=4, xgbregressor__learning_rate=0.01, xgbregressor__gamma=1e-05, xgbregressor__booster=dart, svr__tol=0.0011, svr__kernel=rbf, svr__gamma=9e-05, svr__epsilon=0.011, svr__degree=4, svr__cache_size=185, svr__C=75, meta_regressor__tol=0.0011, meta_regressor__kernel=rbf, meta_regressor__gamma=9e-05, meta_regressor__epsilon=0.011, meta_regressor__degree=4, meta_regressor__cache_size=185, meta_regressor__C=75, lgbmregressor__num_leaves=4, lgbmregressor__n_estimators=500, lgbmregressor__max_depth=4, lgbmregressor__learning_rate=0.01, total=  14.1s\n",
      "[CV] xgbregressor__reg_lambda=0.3, xgbregressor__reg_alpha=0.9, xgbregressor__n_estimators=500, xgbregressor__min_child_weight=2.5, xgbregressor__max_depth=4, xgbregressor__learning_rate=0.01, xgbregressor__gamma=1e-05, xgbregressor__booster=dart, svr__tol=0.0011, svr__kernel=rbf, svr__gamma=9e-05, svr__epsilon=0.011, svr__degree=4, svr__cache_size=185, svr__C=75, meta_regressor__tol=0.0011, meta_regressor__kernel=rbf, meta_regressor__gamma=9e-05, meta_regressor__epsilon=0.011, meta_regressor__degree=4, meta_regressor__cache_size=185, meta_regressor__C=75, lgbmregressor__num_leaves=4, lgbmregressor__n_estimators=500, lgbmregressor__max_depth=4, lgbmregressor__learning_rate=0.01 \n"
     ]
    },
    {
     "name": "stderr",
     "output_type": "stream",
     "text": [
      "C:\\Users\\Malik computer\\anaconda3\\lib\\site-packages\\sklearn\\utils\\validation.py:72: DataConversionWarning: A column-vector y was passed when a 1d array was expected. Please change the shape of y to (n_samples, ), for example using ravel().\n",
      "  return f(**kwargs)\n",
      "C:\\Users\\Malik computer\\anaconda3\\lib\\site-packages\\sklearn\\utils\\validation.py:72: DataConversionWarning: A column-vector y was passed when a 1d array was expected. Please change the shape of y to (n_samples, ), for example using ravel().\n",
      "  return f(**kwargs)\n",
      "C:\\Users\\Malik computer\\anaconda3\\lib\\site-packages\\sklearn\\utils\\validation.py:72: DataConversionWarning: A column-vector y was passed when a 1d array was expected. Please change the shape of y to (n_samples, ), for example using ravel().\n",
      "  return f(**kwargs)\n"
     ]
    },
    {
     "name": "stdout",
     "output_type": "stream",
     "text": [
      "[CV]  xgbregressor__reg_lambda=0.3, xgbregressor__reg_alpha=0.9, xgbregressor__n_estimators=500, xgbregressor__min_child_weight=2.5, xgbregressor__max_depth=4, xgbregressor__learning_rate=0.01, xgbregressor__gamma=1e-05, xgbregressor__booster=dart, svr__tol=0.0011, svr__kernel=rbf, svr__gamma=9e-05, svr__epsilon=0.011, svr__degree=4, svr__cache_size=185, svr__C=75, meta_regressor__tol=0.0011, meta_regressor__kernel=rbf, meta_regressor__gamma=9e-05, meta_regressor__epsilon=0.011, meta_regressor__degree=4, meta_regressor__cache_size=185, meta_regressor__C=75, lgbmregressor__num_leaves=4, lgbmregressor__n_estimators=500, lgbmregressor__max_depth=4, lgbmregressor__learning_rate=0.01, total=  14.8s\n",
      "[CV] xgbregressor__reg_lambda=0.3, xgbregressor__reg_alpha=0.9, xgbregressor__n_estimators=500, xgbregressor__min_child_weight=2.5, xgbregressor__max_depth=4, xgbregressor__learning_rate=0.01, xgbregressor__gamma=1e-05, xgbregressor__booster=dart, svr__tol=0.0011, svr__kernel=rbf, svr__gamma=9e-05, svr__epsilon=0.011, svr__degree=4, svr__cache_size=185, svr__C=75, meta_regressor__tol=0.0011, meta_regressor__kernel=rbf, meta_regressor__gamma=9e-05, meta_regressor__epsilon=0.011, meta_regressor__degree=4, meta_regressor__cache_size=185, meta_regressor__C=75, lgbmregressor__num_leaves=4, lgbmregressor__n_estimators=500, lgbmregressor__max_depth=4, lgbmregressor__learning_rate=0.01 \n"
     ]
    },
    {
     "name": "stderr",
     "output_type": "stream",
     "text": [
      "C:\\Users\\Malik computer\\anaconda3\\lib\\site-packages\\sklearn\\utils\\validation.py:72: DataConversionWarning: A column-vector y was passed when a 1d array was expected. Please change the shape of y to (n_samples, ), for example using ravel().\n",
      "  return f(**kwargs)\n",
      "C:\\Users\\Malik computer\\anaconda3\\lib\\site-packages\\sklearn\\utils\\validation.py:72: DataConversionWarning: A column-vector y was passed when a 1d array was expected. Please change the shape of y to (n_samples, ), for example using ravel().\n",
      "  return f(**kwargs)\n",
      "C:\\Users\\Malik computer\\anaconda3\\lib\\site-packages\\sklearn\\utils\\validation.py:72: DataConversionWarning: A column-vector y was passed when a 1d array was expected. Please change the shape of y to (n_samples, ), for example using ravel().\n",
      "  return f(**kwargs)\n"
     ]
    },
    {
     "name": "stdout",
     "output_type": "stream",
     "text": [
      "[CV]  xgbregressor__reg_lambda=0.3, xgbregressor__reg_alpha=0.9, xgbregressor__n_estimators=500, xgbregressor__min_child_weight=2.5, xgbregressor__max_depth=4, xgbregressor__learning_rate=0.01, xgbregressor__gamma=1e-05, xgbregressor__booster=dart, svr__tol=0.0011, svr__kernel=rbf, svr__gamma=9e-05, svr__epsilon=0.011, svr__degree=4, svr__cache_size=185, svr__C=75, meta_regressor__tol=0.0011, meta_regressor__kernel=rbf, meta_regressor__gamma=9e-05, meta_regressor__epsilon=0.011, meta_regressor__degree=4, meta_regressor__cache_size=185, meta_regressor__C=75, lgbmregressor__num_leaves=4, lgbmregressor__n_estimators=500, lgbmregressor__max_depth=4, lgbmregressor__learning_rate=0.01, total=  14.2s\n",
      "[CV] xgbregressor__reg_lambda=0.3, xgbregressor__reg_alpha=0.9, xgbregressor__n_estimators=500, xgbregressor__min_child_weight=2.5, xgbregressor__max_depth=4, xgbregressor__learning_rate=0.01, xgbregressor__gamma=1e-05, xgbregressor__booster=dart, svr__tol=0.0011, svr__kernel=rbf, svr__gamma=9e-05, svr__epsilon=0.011, svr__degree=4, svr__cache_size=185, svr__C=75, meta_regressor__tol=0.0011, meta_regressor__kernel=rbf, meta_regressor__gamma=9e-05, meta_regressor__epsilon=0.011, meta_regressor__degree=4, meta_regressor__cache_size=185, meta_regressor__C=75, lgbmregressor__num_leaves=4, lgbmregressor__n_estimators=500, lgbmregressor__max_depth=4, lgbmregressor__learning_rate=0.01 \n"
     ]
    },
    {
     "name": "stderr",
     "output_type": "stream",
     "text": [
      "C:\\Users\\Malik computer\\anaconda3\\lib\\site-packages\\sklearn\\utils\\validation.py:72: DataConversionWarning: A column-vector y was passed when a 1d array was expected. Please change the shape of y to (n_samples, ), for example using ravel().\n",
      "  return f(**kwargs)\n",
      "C:\\Users\\Malik computer\\anaconda3\\lib\\site-packages\\sklearn\\utils\\validation.py:72: DataConversionWarning: A column-vector y was passed when a 1d array was expected. Please change the shape of y to (n_samples, ), for example using ravel().\n",
      "  return f(**kwargs)\n",
      "C:\\Users\\Malik computer\\anaconda3\\lib\\site-packages\\sklearn\\utils\\validation.py:72: DataConversionWarning: A column-vector y was passed when a 1d array was expected. Please change the shape of y to (n_samples, ), for example using ravel().\n",
      "  return f(**kwargs)\n"
     ]
    },
    {
     "name": "stdout",
     "output_type": "stream",
     "text": [
      "[CV]  xgbregressor__reg_lambda=0.3, xgbregressor__reg_alpha=0.9, xgbregressor__n_estimators=500, xgbregressor__min_child_weight=2.5, xgbregressor__max_depth=4, xgbregressor__learning_rate=0.01, xgbregressor__gamma=1e-05, xgbregressor__booster=dart, svr__tol=0.0011, svr__kernel=rbf, svr__gamma=9e-05, svr__epsilon=0.011, svr__degree=4, svr__cache_size=185, svr__C=75, meta_regressor__tol=0.0011, meta_regressor__kernel=rbf, meta_regressor__gamma=9e-05, meta_regressor__epsilon=0.011, meta_regressor__degree=4, meta_regressor__cache_size=185, meta_regressor__C=75, lgbmregressor__num_leaves=4, lgbmregressor__n_estimators=500, lgbmregressor__max_depth=4, lgbmregressor__learning_rate=0.01, total=  13.9s\n",
      "[CV] xgbregressor__reg_lambda=0.3, xgbregressor__reg_alpha=0.9, xgbregressor__n_estimators=500, xgbregressor__min_child_weight=2.5, xgbregressor__max_depth=6, xgbregressor__learning_rate=0.03, xgbregressor__gamma=1e-05, xgbregressor__booster=dart, svr__tol=0.0011, svr__kernel=rbf, svr__gamma=9e-05, svr__epsilon=0.011, svr__degree=4, svr__cache_size=185, svr__C=75, meta_regressor__tol=0.0011, meta_regressor__kernel=rbf, meta_regressor__gamma=9e-05, meta_regressor__epsilon=0.011, meta_regressor__degree=4, meta_regressor__cache_size=185, meta_regressor__C=75, lgbmregressor__num_leaves=3, lgbmregressor__n_estimators=600, lgbmregressor__max_depth=4, lgbmregressor__learning_rate=0.02 \n"
     ]
    },
    {
     "name": "stderr",
     "output_type": "stream",
     "text": [
      "C:\\Users\\Malik computer\\anaconda3\\lib\\site-packages\\sklearn\\utils\\validation.py:72: DataConversionWarning: A column-vector y was passed when a 1d array was expected. Please change the shape of y to (n_samples, ), for example using ravel().\n",
      "  return f(**kwargs)\n",
      "C:\\Users\\Malik computer\\anaconda3\\lib\\site-packages\\sklearn\\utils\\validation.py:72: DataConversionWarning: A column-vector y was passed when a 1d array was expected. Please change the shape of y to (n_samples, ), for example using ravel().\n",
      "  return f(**kwargs)\n",
      "C:\\Users\\Malik computer\\anaconda3\\lib\\site-packages\\sklearn\\utils\\validation.py:72: DataConversionWarning: A column-vector y was passed when a 1d array was expected. Please change the shape of y to (n_samples, ), for example using ravel().\n",
      "  return f(**kwargs)\n"
     ]
    },
    {
     "name": "stdout",
     "output_type": "stream",
     "text": [
      "[CV]  xgbregressor__reg_lambda=0.3, xgbregressor__reg_alpha=0.9, xgbregressor__n_estimators=500, xgbregressor__min_child_weight=2.5, xgbregressor__max_depth=6, xgbregressor__learning_rate=0.03, xgbregressor__gamma=1e-05, xgbregressor__booster=dart, svr__tol=0.0011, svr__kernel=rbf, svr__gamma=9e-05, svr__epsilon=0.011, svr__degree=4, svr__cache_size=185, svr__C=75, meta_regressor__tol=0.0011, meta_regressor__kernel=rbf, meta_regressor__gamma=9e-05, meta_regressor__epsilon=0.011, meta_regressor__degree=4, meta_regressor__cache_size=185, meta_regressor__C=75, lgbmregressor__num_leaves=3, lgbmregressor__n_estimators=600, lgbmregressor__max_depth=4, lgbmregressor__learning_rate=0.02, total=  20.0s\n",
      "[CV] xgbregressor__reg_lambda=0.3, xgbregressor__reg_alpha=0.9, xgbregressor__n_estimators=500, xgbregressor__min_child_weight=2.5, xgbregressor__max_depth=6, xgbregressor__learning_rate=0.03, xgbregressor__gamma=1e-05, xgbregressor__booster=dart, svr__tol=0.0011, svr__kernel=rbf, svr__gamma=9e-05, svr__epsilon=0.011, svr__degree=4, svr__cache_size=185, svr__C=75, meta_regressor__tol=0.0011, meta_regressor__kernel=rbf, meta_regressor__gamma=9e-05, meta_regressor__epsilon=0.011, meta_regressor__degree=4, meta_regressor__cache_size=185, meta_regressor__C=75, lgbmregressor__num_leaves=3, lgbmregressor__n_estimators=600, lgbmregressor__max_depth=4, lgbmregressor__learning_rate=0.02 \n"
     ]
    },
    {
     "name": "stderr",
     "output_type": "stream",
     "text": [
      "C:\\Users\\Malik computer\\anaconda3\\lib\\site-packages\\sklearn\\utils\\validation.py:72: DataConversionWarning: A column-vector y was passed when a 1d array was expected. Please change the shape of y to (n_samples, ), for example using ravel().\n",
      "  return f(**kwargs)\n",
      "C:\\Users\\Malik computer\\anaconda3\\lib\\site-packages\\sklearn\\utils\\validation.py:72: DataConversionWarning: A column-vector y was passed when a 1d array was expected. Please change the shape of y to (n_samples, ), for example using ravel().\n",
      "  return f(**kwargs)\n",
      "C:\\Users\\Malik computer\\anaconda3\\lib\\site-packages\\sklearn\\utils\\validation.py:72: DataConversionWarning: A column-vector y was passed when a 1d array was expected. Please change the shape of y to (n_samples, ), for example using ravel().\n",
      "  return f(**kwargs)\n"
     ]
    },
    {
     "name": "stdout",
     "output_type": "stream",
     "text": [
      "[CV]  xgbregressor__reg_lambda=0.3, xgbregressor__reg_alpha=0.9, xgbregressor__n_estimators=500, xgbregressor__min_child_weight=2.5, xgbregressor__max_depth=6, xgbregressor__learning_rate=0.03, xgbregressor__gamma=1e-05, xgbregressor__booster=dart, svr__tol=0.0011, svr__kernel=rbf, svr__gamma=9e-05, svr__epsilon=0.011, svr__degree=4, svr__cache_size=185, svr__C=75, meta_regressor__tol=0.0011, meta_regressor__kernel=rbf, meta_regressor__gamma=9e-05, meta_regressor__epsilon=0.011, meta_regressor__degree=4, meta_regressor__cache_size=185, meta_regressor__C=75, lgbmregressor__num_leaves=3, lgbmregressor__n_estimators=600, lgbmregressor__max_depth=4, lgbmregressor__learning_rate=0.02, total=  20.1s\n",
      "[CV] xgbregressor__reg_lambda=0.3, xgbregressor__reg_alpha=0.9, xgbregressor__n_estimators=500, xgbregressor__min_child_weight=2.5, xgbregressor__max_depth=6, xgbregressor__learning_rate=0.03, xgbregressor__gamma=1e-05, xgbregressor__booster=dart, svr__tol=0.0011, svr__kernel=rbf, svr__gamma=9e-05, svr__epsilon=0.011, svr__degree=4, svr__cache_size=185, svr__C=75, meta_regressor__tol=0.0011, meta_regressor__kernel=rbf, meta_regressor__gamma=9e-05, meta_regressor__epsilon=0.011, meta_regressor__degree=4, meta_regressor__cache_size=185, meta_regressor__C=75, lgbmregressor__num_leaves=3, lgbmregressor__n_estimators=600, lgbmregressor__max_depth=4, lgbmregressor__learning_rate=0.02 \n"
     ]
    },
    {
     "name": "stderr",
     "output_type": "stream",
     "text": [
      "C:\\Users\\Malik computer\\anaconda3\\lib\\site-packages\\sklearn\\utils\\validation.py:72: DataConversionWarning: A column-vector y was passed when a 1d array was expected. Please change the shape of y to (n_samples, ), for example using ravel().\n",
      "  return f(**kwargs)\n",
      "C:\\Users\\Malik computer\\anaconda3\\lib\\site-packages\\sklearn\\utils\\validation.py:72: DataConversionWarning: A column-vector y was passed when a 1d array was expected. Please change the shape of y to (n_samples, ), for example using ravel().\n",
      "  return f(**kwargs)\n",
      "C:\\Users\\Malik computer\\anaconda3\\lib\\site-packages\\sklearn\\utils\\validation.py:72: DataConversionWarning: A column-vector y was passed when a 1d array was expected. Please change the shape of y to (n_samples, ), for example using ravel().\n",
      "  return f(**kwargs)\n"
     ]
    },
    {
     "name": "stdout",
     "output_type": "stream",
     "text": [
      "[CV]  xgbregressor__reg_lambda=0.3, xgbregressor__reg_alpha=0.9, xgbregressor__n_estimators=500, xgbregressor__min_child_weight=2.5, xgbregressor__max_depth=6, xgbregressor__learning_rate=0.03, xgbregressor__gamma=1e-05, xgbregressor__booster=dart, svr__tol=0.0011, svr__kernel=rbf, svr__gamma=9e-05, svr__epsilon=0.011, svr__degree=4, svr__cache_size=185, svr__C=75, meta_regressor__tol=0.0011, meta_regressor__kernel=rbf, meta_regressor__gamma=9e-05, meta_regressor__epsilon=0.011, meta_regressor__degree=4, meta_regressor__cache_size=185, meta_regressor__C=75, lgbmregressor__num_leaves=3, lgbmregressor__n_estimators=600, lgbmregressor__max_depth=4, lgbmregressor__learning_rate=0.02, total=  20.3s\n",
      "[CV] xgbregressor__reg_lambda=0.3, xgbregressor__reg_alpha=0.9, xgbregressor__n_estimators=500, xgbregressor__min_child_weight=2.5, xgbregressor__max_depth=6, xgbregressor__learning_rate=0.03, xgbregressor__gamma=1e-05, xgbregressor__booster=dart, svr__tol=0.0011, svr__kernel=rbf, svr__gamma=9e-05, svr__epsilon=0.011, svr__degree=4, svr__cache_size=185, svr__C=75, meta_regressor__tol=0.0011, meta_regressor__kernel=rbf, meta_regressor__gamma=9e-05, meta_regressor__epsilon=0.011, meta_regressor__degree=4, meta_regressor__cache_size=185, meta_regressor__C=75, lgbmregressor__num_leaves=3, lgbmregressor__n_estimators=600, lgbmregressor__max_depth=4, lgbmregressor__learning_rate=0.02 \n"
     ]
    },
    {
     "name": "stderr",
     "output_type": "stream",
     "text": [
      "C:\\Users\\Malik computer\\anaconda3\\lib\\site-packages\\sklearn\\utils\\validation.py:72: DataConversionWarning: A column-vector y was passed when a 1d array was expected. Please change the shape of y to (n_samples, ), for example using ravel().\n",
      "  return f(**kwargs)\n",
      "C:\\Users\\Malik computer\\anaconda3\\lib\\site-packages\\sklearn\\utils\\validation.py:72: DataConversionWarning: A column-vector y was passed when a 1d array was expected. Please change the shape of y to (n_samples, ), for example using ravel().\n",
      "  return f(**kwargs)\n",
      "C:\\Users\\Malik computer\\anaconda3\\lib\\site-packages\\sklearn\\utils\\validation.py:72: DataConversionWarning: A column-vector y was passed when a 1d array was expected. Please change the shape of y to (n_samples, ), for example using ravel().\n",
      "  return f(**kwargs)\n"
     ]
    },
    {
     "name": "stdout",
     "output_type": "stream",
     "text": [
      "[CV]  xgbregressor__reg_lambda=0.3, xgbregressor__reg_alpha=0.9, xgbregressor__n_estimators=500, xgbregressor__min_child_weight=2.5, xgbregressor__max_depth=6, xgbregressor__learning_rate=0.03, xgbregressor__gamma=1e-05, xgbregressor__booster=dart, svr__tol=0.0011, svr__kernel=rbf, svr__gamma=9e-05, svr__epsilon=0.011, svr__degree=4, svr__cache_size=185, svr__C=75, meta_regressor__tol=0.0011, meta_regressor__kernel=rbf, meta_regressor__gamma=9e-05, meta_regressor__epsilon=0.011, meta_regressor__degree=4, meta_regressor__cache_size=185, meta_regressor__C=75, lgbmregressor__num_leaves=3, lgbmregressor__n_estimators=600, lgbmregressor__max_depth=4, lgbmregressor__learning_rate=0.02, total=  20.3s\n",
      "[CV] xgbregressor__reg_lambda=0.3, xgbregressor__reg_alpha=0.9, xgbregressor__n_estimators=500, xgbregressor__min_child_weight=2.5, xgbregressor__max_depth=6, xgbregressor__learning_rate=0.03, xgbregressor__gamma=1e-05, xgbregressor__booster=dart, svr__tol=0.0011, svr__kernel=rbf, svr__gamma=9e-05, svr__epsilon=0.011, svr__degree=4, svr__cache_size=185, svr__C=75, meta_regressor__tol=0.0011, meta_regressor__kernel=rbf, meta_regressor__gamma=9e-05, meta_regressor__epsilon=0.011, meta_regressor__degree=4, meta_regressor__cache_size=185, meta_regressor__C=75, lgbmregressor__num_leaves=3, lgbmregressor__n_estimators=600, lgbmregressor__max_depth=4, lgbmregressor__learning_rate=0.02 \n"
     ]
    },
    {
     "name": "stderr",
     "output_type": "stream",
     "text": [
      "C:\\Users\\Malik computer\\anaconda3\\lib\\site-packages\\sklearn\\utils\\validation.py:72: DataConversionWarning: A column-vector y was passed when a 1d array was expected. Please change the shape of y to (n_samples, ), for example using ravel().\n",
      "  return f(**kwargs)\n",
      "C:\\Users\\Malik computer\\anaconda3\\lib\\site-packages\\sklearn\\utils\\validation.py:72: DataConversionWarning: A column-vector y was passed when a 1d array was expected. Please change the shape of y to (n_samples, ), for example using ravel().\n",
      "  return f(**kwargs)\n",
      "C:\\Users\\Malik computer\\anaconda3\\lib\\site-packages\\sklearn\\utils\\validation.py:72: DataConversionWarning: A column-vector y was passed when a 1d array was expected. Please change the shape of y to (n_samples, ), for example using ravel().\n",
      "  return f(**kwargs)\n"
     ]
    },
    {
     "name": "stdout",
     "output_type": "stream",
     "text": [
      "[CV]  xgbregressor__reg_lambda=0.3, xgbregressor__reg_alpha=0.9, xgbregressor__n_estimators=500, xgbregressor__min_child_weight=2.5, xgbregressor__max_depth=6, xgbregressor__learning_rate=0.03, xgbregressor__gamma=1e-05, xgbregressor__booster=dart, svr__tol=0.0011, svr__kernel=rbf, svr__gamma=9e-05, svr__epsilon=0.011, svr__degree=4, svr__cache_size=185, svr__C=75, meta_regressor__tol=0.0011, meta_regressor__kernel=rbf, meta_regressor__gamma=9e-05, meta_regressor__epsilon=0.011, meta_regressor__degree=4, meta_regressor__cache_size=185, meta_regressor__C=75, lgbmregressor__num_leaves=3, lgbmregressor__n_estimators=600, lgbmregressor__max_depth=4, lgbmregressor__learning_rate=0.02, total=  20.0s\n",
      "[CV] xgbregressor__reg_lambda=0.4, xgbregressor__reg_alpha=0.9, xgbregressor__n_estimators=500, xgbregressor__min_child_weight=2.5, xgbregressor__max_depth=6, xgbregressor__learning_rate=0.03, xgbregressor__gamma=1e-05, xgbregressor__booster=dart, svr__tol=0.0011, svr__kernel=rbf, svr__gamma=9e-05, svr__epsilon=0.011, svr__degree=4, svr__cache_size=185, svr__C=75, meta_regressor__tol=0.0011, meta_regressor__kernel=rbf, meta_regressor__gamma=9e-05, meta_regressor__epsilon=0.011, meta_regressor__degree=4, meta_regressor__cache_size=185, meta_regressor__C=75, lgbmregressor__num_leaves=3, lgbmregressor__n_estimators=500, lgbmregressor__max_depth=4, lgbmregressor__learning_rate=0.02 \n"
     ]
    },
    {
     "name": "stderr",
     "output_type": "stream",
     "text": [
      "C:\\Users\\Malik computer\\anaconda3\\lib\\site-packages\\sklearn\\utils\\validation.py:72: DataConversionWarning: A column-vector y was passed when a 1d array was expected. Please change the shape of y to (n_samples, ), for example using ravel().\n",
      "  return f(**kwargs)\n",
      "C:\\Users\\Malik computer\\anaconda3\\lib\\site-packages\\sklearn\\utils\\validation.py:72: DataConversionWarning: A column-vector y was passed when a 1d array was expected. Please change the shape of y to (n_samples, ), for example using ravel().\n",
      "  return f(**kwargs)\n",
      "C:\\Users\\Malik computer\\anaconda3\\lib\\site-packages\\sklearn\\utils\\validation.py:72: DataConversionWarning: A column-vector y was passed when a 1d array was expected. Please change the shape of y to (n_samples, ), for example using ravel().\n",
      "  return f(**kwargs)\n"
     ]
    },
    {
     "name": "stdout",
     "output_type": "stream",
     "text": [
      "[CV]  xgbregressor__reg_lambda=0.4, xgbregressor__reg_alpha=0.9, xgbregressor__n_estimators=500, xgbregressor__min_child_weight=2.5, xgbregressor__max_depth=6, xgbregressor__learning_rate=0.03, xgbregressor__gamma=1e-05, xgbregressor__booster=dart, svr__tol=0.0011, svr__kernel=rbf, svr__gamma=9e-05, svr__epsilon=0.011, svr__degree=4, svr__cache_size=185, svr__C=75, meta_regressor__tol=0.0011, meta_regressor__kernel=rbf, meta_regressor__gamma=9e-05, meta_regressor__epsilon=0.011, meta_regressor__degree=4, meta_regressor__cache_size=185, meta_regressor__C=75, lgbmregressor__num_leaves=3, lgbmregressor__n_estimators=500, lgbmregressor__max_depth=4, lgbmregressor__learning_rate=0.02, total=  22.5s\n",
      "[CV] xgbregressor__reg_lambda=0.4, xgbregressor__reg_alpha=0.9, xgbregressor__n_estimators=500, xgbregressor__min_child_weight=2.5, xgbregressor__max_depth=6, xgbregressor__learning_rate=0.03, xgbregressor__gamma=1e-05, xgbregressor__booster=dart, svr__tol=0.0011, svr__kernel=rbf, svr__gamma=9e-05, svr__epsilon=0.011, svr__degree=4, svr__cache_size=185, svr__C=75, meta_regressor__tol=0.0011, meta_regressor__kernel=rbf, meta_regressor__gamma=9e-05, meta_regressor__epsilon=0.011, meta_regressor__degree=4, meta_regressor__cache_size=185, meta_regressor__C=75, lgbmregressor__num_leaves=3, lgbmregressor__n_estimators=500, lgbmregressor__max_depth=4, lgbmregressor__learning_rate=0.02 \n"
     ]
    },
    {
     "name": "stderr",
     "output_type": "stream",
     "text": [
      "C:\\Users\\Malik computer\\anaconda3\\lib\\site-packages\\sklearn\\utils\\validation.py:72: DataConversionWarning: A column-vector y was passed when a 1d array was expected. Please change the shape of y to (n_samples, ), for example using ravel().\n",
      "  return f(**kwargs)\n",
      "C:\\Users\\Malik computer\\anaconda3\\lib\\site-packages\\sklearn\\utils\\validation.py:72: DataConversionWarning: A column-vector y was passed when a 1d array was expected. Please change the shape of y to (n_samples, ), for example using ravel().\n",
      "  return f(**kwargs)\n",
      "C:\\Users\\Malik computer\\anaconda3\\lib\\site-packages\\sklearn\\utils\\validation.py:72: DataConversionWarning: A column-vector y was passed when a 1d array was expected. Please change the shape of y to (n_samples, ), for example using ravel().\n",
      "  return f(**kwargs)\n"
     ]
    },
    {
     "name": "stdout",
     "output_type": "stream",
     "text": [
      "[CV]  xgbregressor__reg_lambda=0.4, xgbregressor__reg_alpha=0.9, xgbregressor__n_estimators=500, xgbregressor__min_child_weight=2.5, xgbregressor__max_depth=6, xgbregressor__learning_rate=0.03, xgbregressor__gamma=1e-05, xgbregressor__booster=dart, svr__tol=0.0011, svr__kernel=rbf, svr__gamma=9e-05, svr__epsilon=0.011, svr__degree=4, svr__cache_size=185, svr__C=75, meta_regressor__tol=0.0011, meta_regressor__kernel=rbf, meta_regressor__gamma=9e-05, meta_regressor__epsilon=0.011, meta_regressor__degree=4, meta_regressor__cache_size=185, meta_regressor__C=75, lgbmregressor__num_leaves=3, lgbmregressor__n_estimators=500, lgbmregressor__max_depth=4, lgbmregressor__learning_rate=0.02, total=  21.1s\n",
      "[CV] xgbregressor__reg_lambda=0.4, xgbregressor__reg_alpha=0.9, xgbregressor__n_estimators=500, xgbregressor__min_child_weight=2.5, xgbregressor__max_depth=6, xgbregressor__learning_rate=0.03, xgbregressor__gamma=1e-05, xgbregressor__booster=dart, svr__tol=0.0011, svr__kernel=rbf, svr__gamma=9e-05, svr__epsilon=0.011, svr__degree=4, svr__cache_size=185, svr__C=75, meta_regressor__tol=0.0011, meta_regressor__kernel=rbf, meta_regressor__gamma=9e-05, meta_regressor__epsilon=0.011, meta_regressor__degree=4, meta_regressor__cache_size=185, meta_regressor__C=75, lgbmregressor__num_leaves=3, lgbmregressor__n_estimators=500, lgbmregressor__max_depth=4, lgbmregressor__learning_rate=0.02 \n"
     ]
    },
    {
     "name": "stderr",
     "output_type": "stream",
     "text": [
      "C:\\Users\\Malik computer\\anaconda3\\lib\\site-packages\\sklearn\\utils\\validation.py:72: DataConversionWarning: A column-vector y was passed when a 1d array was expected. Please change the shape of y to (n_samples, ), for example using ravel().\n",
      "  return f(**kwargs)\n",
      "C:\\Users\\Malik computer\\anaconda3\\lib\\site-packages\\sklearn\\utils\\validation.py:72: DataConversionWarning: A column-vector y was passed when a 1d array was expected. Please change the shape of y to (n_samples, ), for example using ravel().\n",
      "  return f(**kwargs)\n",
      "C:\\Users\\Malik computer\\anaconda3\\lib\\site-packages\\sklearn\\utils\\validation.py:72: DataConversionWarning: A column-vector y was passed when a 1d array was expected. Please change the shape of y to (n_samples, ), for example using ravel().\n",
      "  return f(**kwargs)\n"
     ]
    },
    {
     "name": "stdout",
     "output_type": "stream",
     "text": [
      "[CV]  xgbregressor__reg_lambda=0.4, xgbregressor__reg_alpha=0.9, xgbregressor__n_estimators=500, xgbregressor__min_child_weight=2.5, xgbregressor__max_depth=6, xgbregressor__learning_rate=0.03, xgbregressor__gamma=1e-05, xgbregressor__booster=dart, svr__tol=0.0011, svr__kernel=rbf, svr__gamma=9e-05, svr__epsilon=0.011, svr__degree=4, svr__cache_size=185, svr__C=75, meta_regressor__tol=0.0011, meta_regressor__kernel=rbf, meta_regressor__gamma=9e-05, meta_regressor__epsilon=0.011, meta_regressor__degree=4, meta_regressor__cache_size=185, meta_regressor__C=75, lgbmregressor__num_leaves=3, lgbmregressor__n_estimators=500, lgbmregressor__max_depth=4, lgbmregressor__learning_rate=0.02, total=  23.9s\n",
      "[CV] xgbregressor__reg_lambda=0.4, xgbregressor__reg_alpha=0.9, xgbregressor__n_estimators=500, xgbregressor__min_child_weight=2.5, xgbregressor__max_depth=6, xgbregressor__learning_rate=0.03, xgbregressor__gamma=1e-05, xgbregressor__booster=dart, svr__tol=0.0011, svr__kernel=rbf, svr__gamma=9e-05, svr__epsilon=0.011, svr__degree=4, svr__cache_size=185, svr__C=75, meta_regressor__tol=0.0011, meta_regressor__kernel=rbf, meta_regressor__gamma=9e-05, meta_regressor__epsilon=0.011, meta_regressor__degree=4, meta_regressor__cache_size=185, meta_regressor__C=75, lgbmregressor__num_leaves=3, lgbmregressor__n_estimators=500, lgbmregressor__max_depth=4, lgbmregressor__learning_rate=0.02 \n"
     ]
    },
    {
     "name": "stderr",
     "output_type": "stream",
     "text": [
      "C:\\Users\\Malik computer\\anaconda3\\lib\\site-packages\\sklearn\\utils\\validation.py:72: DataConversionWarning: A column-vector y was passed when a 1d array was expected. Please change the shape of y to (n_samples, ), for example using ravel().\n",
      "  return f(**kwargs)\n",
      "C:\\Users\\Malik computer\\anaconda3\\lib\\site-packages\\sklearn\\utils\\validation.py:72: DataConversionWarning: A column-vector y was passed when a 1d array was expected. Please change the shape of y to (n_samples, ), for example using ravel().\n",
      "  return f(**kwargs)\n",
      "C:\\Users\\Malik computer\\anaconda3\\lib\\site-packages\\sklearn\\utils\\validation.py:72: DataConversionWarning: A column-vector y was passed when a 1d array was expected. Please change the shape of y to (n_samples, ), for example using ravel().\n",
      "  return f(**kwargs)\n"
     ]
    },
    {
     "name": "stdout",
     "output_type": "stream",
     "text": [
      "[CV]  xgbregressor__reg_lambda=0.4, xgbregressor__reg_alpha=0.9, xgbregressor__n_estimators=500, xgbregressor__min_child_weight=2.5, xgbregressor__max_depth=6, xgbregressor__learning_rate=0.03, xgbregressor__gamma=1e-05, xgbregressor__booster=dart, svr__tol=0.0011, svr__kernel=rbf, svr__gamma=9e-05, svr__epsilon=0.011, svr__degree=4, svr__cache_size=185, svr__C=75, meta_regressor__tol=0.0011, meta_regressor__kernel=rbf, meta_regressor__gamma=9e-05, meta_regressor__epsilon=0.011, meta_regressor__degree=4, meta_regressor__cache_size=185, meta_regressor__C=75, lgbmregressor__num_leaves=3, lgbmregressor__n_estimators=500, lgbmregressor__max_depth=4, lgbmregressor__learning_rate=0.02, total=  25.0s\n",
      "[CV] xgbregressor__reg_lambda=0.4, xgbregressor__reg_alpha=0.9, xgbregressor__n_estimators=500, xgbregressor__min_child_weight=2.5, xgbregressor__max_depth=6, xgbregressor__learning_rate=0.03, xgbregressor__gamma=1e-05, xgbregressor__booster=dart, svr__tol=0.0011, svr__kernel=rbf, svr__gamma=9e-05, svr__epsilon=0.011, svr__degree=4, svr__cache_size=185, svr__C=75, meta_regressor__tol=0.0011, meta_regressor__kernel=rbf, meta_regressor__gamma=9e-05, meta_regressor__epsilon=0.011, meta_regressor__degree=4, meta_regressor__cache_size=185, meta_regressor__C=75, lgbmregressor__num_leaves=3, lgbmregressor__n_estimators=500, lgbmregressor__max_depth=4, lgbmregressor__learning_rate=0.02 \n"
     ]
    },
    {
     "name": "stderr",
     "output_type": "stream",
     "text": [
      "C:\\Users\\Malik computer\\anaconda3\\lib\\site-packages\\sklearn\\utils\\validation.py:72: DataConversionWarning: A column-vector y was passed when a 1d array was expected. Please change the shape of y to (n_samples, ), for example using ravel().\n",
      "  return f(**kwargs)\n",
      "C:\\Users\\Malik computer\\anaconda3\\lib\\site-packages\\sklearn\\utils\\validation.py:72: DataConversionWarning: A column-vector y was passed when a 1d array was expected. Please change the shape of y to (n_samples, ), for example using ravel().\n",
      "  return f(**kwargs)\n",
      "C:\\Users\\Malik computer\\anaconda3\\lib\\site-packages\\sklearn\\utils\\validation.py:72: DataConversionWarning: A column-vector y was passed when a 1d array was expected. Please change the shape of y to (n_samples, ), for example using ravel().\n",
      "  return f(**kwargs)\n"
     ]
    },
    {
     "name": "stdout",
     "output_type": "stream",
     "text": [
      "[CV]  xgbregressor__reg_lambda=0.4, xgbregressor__reg_alpha=0.9, xgbregressor__n_estimators=500, xgbregressor__min_child_weight=2.5, xgbregressor__max_depth=6, xgbregressor__learning_rate=0.03, xgbregressor__gamma=1e-05, xgbregressor__booster=dart, svr__tol=0.0011, svr__kernel=rbf, svr__gamma=9e-05, svr__epsilon=0.011, svr__degree=4, svr__cache_size=185, svr__C=75, meta_regressor__tol=0.0011, meta_regressor__kernel=rbf, meta_regressor__gamma=9e-05, meta_regressor__epsilon=0.011, meta_regressor__degree=4, meta_regressor__cache_size=185, meta_regressor__C=75, lgbmregressor__num_leaves=3, lgbmregressor__n_estimators=500, lgbmregressor__max_depth=4, lgbmregressor__learning_rate=0.02, total=  22.8s\n",
      "[CV] xgbregressor__reg_lambda=0.4, xgbregressor__reg_alpha=0.9, xgbregressor__n_estimators=500, xgbregressor__min_child_weight=2.5, xgbregressor__max_depth=4, xgbregressor__learning_rate=0.03, xgbregressor__gamma=1e-05, xgbregressor__booster=dart, svr__tol=0.0011, svr__kernel=rbf, svr__gamma=9e-05, svr__epsilon=0.011, svr__degree=4, svr__cache_size=185, svr__C=75, meta_regressor__tol=0.0011, meta_regressor__kernel=rbf, meta_regressor__gamma=9e-05, meta_regressor__epsilon=0.011, meta_regressor__degree=4, meta_regressor__cache_size=185, meta_regressor__C=75, lgbmregressor__num_leaves=3, lgbmregressor__n_estimators=600, lgbmregressor__max_depth=4, lgbmregressor__learning_rate=0.01 \n"
     ]
    },
    {
     "name": "stderr",
     "output_type": "stream",
     "text": [
      "C:\\Users\\Malik computer\\anaconda3\\lib\\site-packages\\sklearn\\utils\\validation.py:72: DataConversionWarning: A column-vector y was passed when a 1d array was expected. Please change the shape of y to (n_samples, ), for example using ravel().\n",
      "  return f(**kwargs)\n",
      "C:\\Users\\Malik computer\\anaconda3\\lib\\site-packages\\sklearn\\utils\\validation.py:72: DataConversionWarning: A column-vector y was passed when a 1d array was expected. Please change the shape of y to (n_samples, ), for example using ravel().\n",
      "  return f(**kwargs)\n",
      "C:\\Users\\Malik computer\\anaconda3\\lib\\site-packages\\sklearn\\utils\\validation.py:72: DataConversionWarning: A column-vector y was passed when a 1d array was expected. Please change the shape of y to (n_samples, ), for example using ravel().\n",
      "  return f(**kwargs)\n"
     ]
    },
    {
     "name": "stdout",
     "output_type": "stream",
     "text": [
      "[CV]  xgbregressor__reg_lambda=0.4, xgbregressor__reg_alpha=0.9, xgbregressor__n_estimators=500, xgbregressor__min_child_weight=2.5, xgbregressor__max_depth=4, xgbregressor__learning_rate=0.03, xgbregressor__gamma=1e-05, xgbregressor__booster=dart, svr__tol=0.0011, svr__kernel=rbf, svr__gamma=9e-05, svr__epsilon=0.011, svr__degree=4, svr__cache_size=185, svr__C=75, meta_regressor__tol=0.0011, meta_regressor__kernel=rbf, meta_regressor__gamma=9e-05, meta_regressor__epsilon=0.011, meta_regressor__degree=4, meta_regressor__cache_size=185, meta_regressor__C=75, lgbmregressor__num_leaves=3, lgbmregressor__n_estimators=600, lgbmregressor__max_depth=4, lgbmregressor__learning_rate=0.01, total=  22.1s\n",
      "[CV] xgbregressor__reg_lambda=0.4, xgbregressor__reg_alpha=0.9, xgbregressor__n_estimators=500, xgbregressor__min_child_weight=2.5, xgbregressor__max_depth=4, xgbregressor__learning_rate=0.03, xgbregressor__gamma=1e-05, xgbregressor__booster=dart, svr__tol=0.0011, svr__kernel=rbf, svr__gamma=9e-05, svr__epsilon=0.011, svr__degree=4, svr__cache_size=185, svr__C=75, meta_regressor__tol=0.0011, meta_regressor__kernel=rbf, meta_regressor__gamma=9e-05, meta_regressor__epsilon=0.011, meta_regressor__degree=4, meta_regressor__cache_size=185, meta_regressor__C=75, lgbmregressor__num_leaves=3, lgbmregressor__n_estimators=600, lgbmregressor__max_depth=4, lgbmregressor__learning_rate=0.01 \n"
     ]
    },
    {
     "name": "stderr",
     "output_type": "stream",
     "text": [
      "C:\\Users\\Malik computer\\anaconda3\\lib\\site-packages\\sklearn\\utils\\validation.py:72: DataConversionWarning: A column-vector y was passed when a 1d array was expected. Please change the shape of y to (n_samples, ), for example using ravel().\n",
      "  return f(**kwargs)\n",
      "C:\\Users\\Malik computer\\anaconda3\\lib\\site-packages\\sklearn\\utils\\validation.py:72: DataConversionWarning: A column-vector y was passed when a 1d array was expected. Please change the shape of y to (n_samples, ), for example using ravel().\n",
      "  return f(**kwargs)\n",
      "C:\\Users\\Malik computer\\anaconda3\\lib\\site-packages\\sklearn\\utils\\validation.py:72: DataConversionWarning: A column-vector y was passed when a 1d array was expected. Please change the shape of y to (n_samples, ), for example using ravel().\n",
      "  return f(**kwargs)\n"
     ]
    },
    {
     "name": "stdout",
     "output_type": "stream",
     "text": [
      "[CV]  xgbregressor__reg_lambda=0.4, xgbregressor__reg_alpha=0.9, xgbregressor__n_estimators=500, xgbregressor__min_child_weight=2.5, xgbregressor__max_depth=4, xgbregressor__learning_rate=0.03, xgbregressor__gamma=1e-05, xgbregressor__booster=dart, svr__tol=0.0011, svr__kernel=rbf, svr__gamma=9e-05, svr__epsilon=0.011, svr__degree=4, svr__cache_size=185, svr__C=75, meta_regressor__tol=0.0011, meta_regressor__kernel=rbf, meta_regressor__gamma=9e-05, meta_regressor__epsilon=0.011, meta_regressor__degree=4, meta_regressor__cache_size=185, meta_regressor__C=75, lgbmregressor__num_leaves=3, lgbmregressor__n_estimators=600, lgbmregressor__max_depth=4, lgbmregressor__learning_rate=0.01, total=  17.9s\n",
      "[CV] xgbregressor__reg_lambda=0.4, xgbregressor__reg_alpha=0.9, xgbregressor__n_estimators=500, xgbregressor__min_child_weight=2.5, xgbregressor__max_depth=4, xgbregressor__learning_rate=0.03, xgbregressor__gamma=1e-05, xgbregressor__booster=dart, svr__tol=0.0011, svr__kernel=rbf, svr__gamma=9e-05, svr__epsilon=0.011, svr__degree=4, svr__cache_size=185, svr__C=75, meta_regressor__tol=0.0011, meta_regressor__kernel=rbf, meta_regressor__gamma=9e-05, meta_regressor__epsilon=0.011, meta_regressor__degree=4, meta_regressor__cache_size=185, meta_regressor__C=75, lgbmregressor__num_leaves=3, lgbmregressor__n_estimators=600, lgbmregressor__max_depth=4, lgbmregressor__learning_rate=0.01 \n"
     ]
    },
    {
     "name": "stderr",
     "output_type": "stream",
     "text": [
      "C:\\Users\\Malik computer\\anaconda3\\lib\\site-packages\\sklearn\\utils\\validation.py:72: DataConversionWarning: A column-vector y was passed when a 1d array was expected. Please change the shape of y to (n_samples, ), for example using ravel().\n",
      "  return f(**kwargs)\n",
      "C:\\Users\\Malik computer\\anaconda3\\lib\\site-packages\\sklearn\\utils\\validation.py:72: DataConversionWarning: A column-vector y was passed when a 1d array was expected. Please change the shape of y to (n_samples, ), for example using ravel().\n",
      "  return f(**kwargs)\n",
      "C:\\Users\\Malik computer\\anaconda3\\lib\\site-packages\\sklearn\\utils\\validation.py:72: DataConversionWarning: A column-vector y was passed when a 1d array was expected. Please change the shape of y to (n_samples, ), for example using ravel().\n",
      "  return f(**kwargs)\n"
     ]
    },
    {
     "name": "stdout",
     "output_type": "stream",
     "text": [
      "[CV]  xgbregressor__reg_lambda=0.4, xgbregressor__reg_alpha=0.9, xgbregressor__n_estimators=500, xgbregressor__min_child_weight=2.5, xgbregressor__max_depth=4, xgbregressor__learning_rate=0.03, xgbregressor__gamma=1e-05, xgbregressor__booster=dart, svr__tol=0.0011, svr__kernel=rbf, svr__gamma=9e-05, svr__epsilon=0.011, svr__degree=4, svr__cache_size=185, svr__C=75, meta_regressor__tol=0.0011, meta_regressor__kernel=rbf, meta_regressor__gamma=9e-05, meta_regressor__epsilon=0.011, meta_regressor__degree=4, meta_regressor__cache_size=185, meta_regressor__C=75, lgbmregressor__num_leaves=3, lgbmregressor__n_estimators=600, lgbmregressor__max_depth=4, lgbmregressor__learning_rate=0.01, total=  15.9s\n",
      "[CV] xgbregressor__reg_lambda=0.4, xgbregressor__reg_alpha=0.9, xgbregressor__n_estimators=500, xgbregressor__min_child_weight=2.5, xgbregressor__max_depth=4, xgbregressor__learning_rate=0.03, xgbregressor__gamma=1e-05, xgbregressor__booster=dart, svr__tol=0.0011, svr__kernel=rbf, svr__gamma=9e-05, svr__epsilon=0.011, svr__degree=4, svr__cache_size=185, svr__C=75, meta_regressor__tol=0.0011, meta_regressor__kernel=rbf, meta_regressor__gamma=9e-05, meta_regressor__epsilon=0.011, meta_regressor__degree=4, meta_regressor__cache_size=185, meta_regressor__C=75, lgbmregressor__num_leaves=3, lgbmregressor__n_estimators=600, lgbmregressor__max_depth=4, lgbmregressor__learning_rate=0.01 \n"
     ]
    },
    {
     "name": "stderr",
     "output_type": "stream",
     "text": [
      "C:\\Users\\Malik computer\\anaconda3\\lib\\site-packages\\sklearn\\utils\\validation.py:72: DataConversionWarning: A column-vector y was passed when a 1d array was expected. Please change the shape of y to (n_samples, ), for example using ravel().\n",
      "  return f(**kwargs)\n",
      "C:\\Users\\Malik computer\\anaconda3\\lib\\site-packages\\sklearn\\utils\\validation.py:72: DataConversionWarning: A column-vector y was passed when a 1d array was expected. Please change the shape of y to (n_samples, ), for example using ravel().\n",
      "  return f(**kwargs)\n",
      "C:\\Users\\Malik computer\\anaconda3\\lib\\site-packages\\sklearn\\utils\\validation.py:72: DataConversionWarning: A column-vector y was passed when a 1d array was expected. Please change the shape of y to (n_samples, ), for example using ravel().\n",
      "  return f(**kwargs)\n"
     ]
    },
    {
     "name": "stdout",
     "output_type": "stream",
     "text": [
      "[CV]  xgbregressor__reg_lambda=0.4, xgbregressor__reg_alpha=0.9, xgbregressor__n_estimators=500, xgbregressor__min_child_weight=2.5, xgbregressor__max_depth=4, xgbregressor__learning_rate=0.03, xgbregressor__gamma=1e-05, xgbregressor__booster=dart, svr__tol=0.0011, svr__kernel=rbf, svr__gamma=9e-05, svr__epsilon=0.011, svr__degree=4, svr__cache_size=185, svr__C=75, meta_regressor__tol=0.0011, meta_regressor__kernel=rbf, meta_regressor__gamma=9e-05, meta_regressor__epsilon=0.011, meta_regressor__degree=4, meta_regressor__cache_size=185, meta_regressor__C=75, lgbmregressor__num_leaves=3, lgbmregressor__n_estimators=600, lgbmregressor__max_depth=4, lgbmregressor__learning_rate=0.01, total=  15.9s\n",
      "[CV] xgbregressor__reg_lambda=0.4, xgbregressor__reg_alpha=0.9, xgbregressor__n_estimators=500, xgbregressor__min_child_weight=2.5, xgbregressor__max_depth=4, xgbregressor__learning_rate=0.03, xgbregressor__gamma=1e-05, xgbregressor__booster=dart, svr__tol=0.0011, svr__kernel=rbf, svr__gamma=9e-05, svr__epsilon=0.011, svr__degree=4, svr__cache_size=185, svr__C=75, meta_regressor__tol=0.0011, meta_regressor__kernel=rbf, meta_regressor__gamma=9e-05, meta_regressor__epsilon=0.011, meta_regressor__degree=4, meta_regressor__cache_size=185, meta_regressor__C=75, lgbmregressor__num_leaves=3, lgbmregressor__n_estimators=600, lgbmregressor__max_depth=4, lgbmregressor__learning_rate=0.01 \n"
     ]
    },
    {
     "name": "stderr",
     "output_type": "stream",
     "text": [
      "C:\\Users\\Malik computer\\anaconda3\\lib\\site-packages\\sklearn\\utils\\validation.py:72: DataConversionWarning: A column-vector y was passed when a 1d array was expected. Please change the shape of y to (n_samples, ), for example using ravel().\n",
      "  return f(**kwargs)\n",
      "C:\\Users\\Malik computer\\anaconda3\\lib\\site-packages\\sklearn\\utils\\validation.py:72: DataConversionWarning: A column-vector y was passed when a 1d array was expected. Please change the shape of y to (n_samples, ), for example using ravel().\n",
      "  return f(**kwargs)\n",
      "C:\\Users\\Malik computer\\anaconda3\\lib\\site-packages\\sklearn\\utils\\validation.py:72: DataConversionWarning: A column-vector y was passed when a 1d array was expected. Please change the shape of y to (n_samples, ), for example using ravel().\n",
      "  return f(**kwargs)\n"
     ]
    },
    {
     "name": "stdout",
     "output_type": "stream",
     "text": [
      "[CV]  xgbregressor__reg_lambda=0.4, xgbregressor__reg_alpha=0.9, xgbregressor__n_estimators=500, xgbregressor__min_child_weight=2.5, xgbregressor__max_depth=4, xgbregressor__learning_rate=0.03, xgbregressor__gamma=1e-05, xgbregressor__booster=dart, svr__tol=0.0011, svr__kernel=rbf, svr__gamma=9e-05, svr__epsilon=0.011, svr__degree=4, svr__cache_size=185, svr__C=75, meta_regressor__tol=0.0011, meta_regressor__kernel=rbf, meta_regressor__gamma=9e-05, meta_regressor__epsilon=0.011, meta_regressor__degree=4, meta_regressor__cache_size=185, meta_regressor__C=75, lgbmregressor__num_leaves=3, lgbmregressor__n_estimators=600, lgbmregressor__max_depth=4, lgbmregressor__learning_rate=0.01, total=  16.2s\n",
      "[CV] xgbregressor__reg_lambda=0.3, xgbregressor__reg_alpha=0.9, xgbregressor__n_estimators=500, xgbregressor__min_child_weight=2.5, xgbregressor__max_depth=6, xgbregressor__learning_rate=0.03, xgbregressor__gamma=1e-05, xgbregressor__booster=dart, svr__tol=0.0011, svr__kernel=rbf, svr__gamma=9e-05, svr__epsilon=0.011, svr__degree=4, svr__cache_size=185, svr__C=75, meta_regressor__tol=0.0011, meta_regressor__kernel=rbf, meta_regressor__gamma=9e-05, meta_regressor__epsilon=0.011, meta_regressor__degree=4, meta_regressor__cache_size=185, meta_regressor__C=75, lgbmregressor__num_leaves=4, lgbmregressor__n_estimators=600, lgbmregressor__max_depth=3, lgbmregressor__learning_rate=0.02 \n"
     ]
    },
    {
     "name": "stderr",
     "output_type": "stream",
     "text": [
      "C:\\Users\\Malik computer\\anaconda3\\lib\\site-packages\\sklearn\\utils\\validation.py:72: DataConversionWarning: A column-vector y was passed when a 1d array was expected. Please change the shape of y to (n_samples, ), for example using ravel().\n",
      "  return f(**kwargs)\n",
      "C:\\Users\\Malik computer\\anaconda3\\lib\\site-packages\\sklearn\\utils\\validation.py:72: DataConversionWarning: A column-vector y was passed when a 1d array was expected. Please change the shape of y to (n_samples, ), for example using ravel().\n",
      "  return f(**kwargs)\n",
      "C:\\Users\\Malik computer\\anaconda3\\lib\\site-packages\\sklearn\\utils\\validation.py:72: DataConversionWarning: A column-vector y was passed when a 1d array was expected. Please change the shape of y to (n_samples, ), for example using ravel().\n",
      "  return f(**kwargs)\n"
     ]
    },
    {
     "name": "stdout",
     "output_type": "stream",
     "text": [
      "[CV]  xgbregressor__reg_lambda=0.3, xgbregressor__reg_alpha=0.9, xgbregressor__n_estimators=500, xgbregressor__min_child_weight=2.5, xgbregressor__max_depth=6, xgbregressor__learning_rate=0.03, xgbregressor__gamma=1e-05, xgbregressor__booster=dart, svr__tol=0.0011, svr__kernel=rbf, svr__gamma=9e-05, svr__epsilon=0.011, svr__degree=4, svr__cache_size=185, svr__C=75, meta_regressor__tol=0.0011, meta_regressor__kernel=rbf, meta_regressor__gamma=9e-05, meta_regressor__epsilon=0.011, meta_regressor__degree=4, meta_regressor__cache_size=185, meta_regressor__C=75, lgbmregressor__num_leaves=4, lgbmregressor__n_estimators=600, lgbmregressor__max_depth=3, lgbmregressor__learning_rate=0.02, total=  21.2s\n",
      "[CV] xgbregressor__reg_lambda=0.3, xgbregressor__reg_alpha=0.9, xgbregressor__n_estimators=500, xgbregressor__min_child_weight=2.5, xgbregressor__max_depth=6, xgbregressor__learning_rate=0.03, xgbregressor__gamma=1e-05, xgbregressor__booster=dart, svr__tol=0.0011, svr__kernel=rbf, svr__gamma=9e-05, svr__epsilon=0.011, svr__degree=4, svr__cache_size=185, svr__C=75, meta_regressor__tol=0.0011, meta_regressor__kernel=rbf, meta_regressor__gamma=9e-05, meta_regressor__epsilon=0.011, meta_regressor__degree=4, meta_regressor__cache_size=185, meta_regressor__C=75, lgbmregressor__num_leaves=4, lgbmregressor__n_estimators=600, lgbmregressor__max_depth=3, lgbmregressor__learning_rate=0.02 \n"
     ]
    },
    {
     "name": "stderr",
     "output_type": "stream",
     "text": [
      "C:\\Users\\Malik computer\\anaconda3\\lib\\site-packages\\sklearn\\utils\\validation.py:72: DataConversionWarning: A column-vector y was passed when a 1d array was expected. Please change the shape of y to (n_samples, ), for example using ravel().\n",
      "  return f(**kwargs)\n",
      "C:\\Users\\Malik computer\\anaconda3\\lib\\site-packages\\sklearn\\utils\\validation.py:72: DataConversionWarning: A column-vector y was passed when a 1d array was expected. Please change the shape of y to (n_samples, ), for example using ravel().\n",
      "  return f(**kwargs)\n",
      "C:\\Users\\Malik computer\\anaconda3\\lib\\site-packages\\sklearn\\utils\\validation.py:72: DataConversionWarning: A column-vector y was passed when a 1d array was expected. Please change the shape of y to (n_samples, ), for example using ravel().\n",
      "  return f(**kwargs)\n"
     ]
    },
    {
     "name": "stdout",
     "output_type": "stream",
     "text": [
      "[CV]  xgbregressor__reg_lambda=0.3, xgbregressor__reg_alpha=0.9, xgbregressor__n_estimators=500, xgbregressor__min_child_weight=2.5, xgbregressor__max_depth=6, xgbregressor__learning_rate=0.03, xgbregressor__gamma=1e-05, xgbregressor__booster=dart, svr__tol=0.0011, svr__kernel=rbf, svr__gamma=9e-05, svr__epsilon=0.011, svr__degree=4, svr__cache_size=185, svr__C=75, meta_regressor__tol=0.0011, meta_regressor__kernel=rbf, meta_regressor__gamma=9e-05, meta_regressor__epsilon=0.011, meta_regressor__degree=4, meta_regressor__cache_size=185, meta_regressor__C=75, lgbmregressor__num_leaves=4, lgbmregressor__n_estimators=600, lgbmregressor__max_depth=3, lgbmregressor__learning_rate=0.02, total=  20.4s\n",
      "[CV] xgbregressor__reg_lambda=0.3, xgbregressor__reg_alpha=0.9, xgbregressor__n_estimators=500, xgbregressor__min_child_weight=2.5, xgbregressor__max_depth=6, xgbregressor__learning_rate=0.03, xgbregressor__gamma=1e-05, xgbregressor__booster=dart, svr__tol=0.0011, svr__kernel=rbf, svr__gamma=9e-05, svr__epsilon=0.011, svr__degree=4, svr__cache_size=185, svr__C=75, meta_regressor__tol=0.0011, meta_regressor__kernel=rbf, meta_regressor__gamma=9e-05, meta_regressor__epsilon=0.011, meta_regressor__degree=4, meta_regressor__cache_size=185, meta_regressor__C=75, lgbmregressor__num_leaves=4, lgbmregressor__n_estimators=600, lgbmregressor__max_depth=3, lgbmregressor__learning_rate=0.02 \n"
     ]
    },
    {
     "name": "stderr",
     "output_type": "stream",
     "text": [
      "C:\\Users\\Malik computer\\anaconda3\\lib\\site-packages\\sklearn\\utils\\validation.py:72: DataConversionWarning: A column-vector y was passed when a 1d array was expected. Please change the shape of y to (n_samples, ), for example using ravel().\n",
      "  return f(**kwargs)\n",
      "C:\\Users\\Malik computer\\anaconda3\\lib\\site-packages\\sklearn\\utils\\validation.py:72: DataConversionWarning: A column-vector y was passed when a 1d array was expected. Please change the shape of y to (n_samples, ), for example using ravel().\n",
      "  return f(**kwargs)\n",
      "C:\\Users\\Malik computer\\anaconda3\\lib\\site-packages\\sklearn\\utils\\validation.py:72: DataConversionWarning: A column-vector y was passed when a 1d array was expected. Please change the shape of y to (n_samples, ), for example using ravel().\n",
      "  return f(**kwargs)\n"
     ]
    },
    {
     "name": "stdout",
     "output_type": "stream",
     "text": [
      "[CV]  xgbregressor__reg_lambda=0.3, xgbregressor__reg_alpha=0.9, xgbregressor__n_estimators=500, xgbregressor__min_child_weight=2.5, xgbregressor__max_depth=6, xgbregressor__learning_rate=0.03, xgbregressor__gamma=1e-05, xgbregressor__booster=dart, svr__tol=0.0011, svr__kernel=rbf, svr__gamma=9e-05, svr__epsilon=0.011, svr__degree=4, svr__cache_size=185, svr__C=75, meta_regressor__tol=0.0011, meta_regressor__kernel=rbf, meta_regressor__gamma=9e-05, meta_regressor__epsilon=0.011, meta_regressor__degree=4, meta_regressor__cache_size=185, meta_regressor__C=75, lgbmregressor__num_leaves=4, lgbmregressor__n_estimators=600, lgbmregressor__max_depth=3, lgbmregressor__learning_rate=0.02, total=  20.2s\n",
      "[CV] xgbregressor__reg_lambda=0.3, xgbregressor__reg_alpha=0.9, xgbregressor__n_estimators=500, xgbregressor__min_child_weight=2.5, xgbregressor__max_depth=6, xgbregressor__learning_rate=0.03, xgbregressor__gamma=1e-05, xgbregressor__booster=dart, svr__tol=0.0011, svr__kernel=rbf, svr__gamma=9e-05, svr__epsilon=0.011, svr__degree=4, svr__cache_size=185, svr__C=75, meta_regressor__tol=0.0011, meta_regressor__kernel=rbf, meta_regressor__gamma=9e-05, meta_regressor__epsilon=0.011, meta_regressor__degree=4, meta_regressor__cache_size=185, meta_regressor__C=75, lgbmregressor__num_leaves=4, lgbmregressor__n_estimators=600, lgbmregressor__max_depth=3, lgbmregressor__learning_rate=0.02 \n"
     ]
    },
    {
     "name": "stderr",
     "output_type": "stream",
     "text": [
      "C:\\Users\\Malik computer\\anaconda3\\lib\\site-packages\\sklearn\\utils\\validation.py:72: DataConversionWarning: A column-vector y was passed when a 1d array was expected. Please change the shape of y to (n_samples, ), for example using ravel().\n",
      "  return f(**kwargs)\n",
      "C:\\Users\\Malik computer\\anaconda3\\lib\\site-packages\\sklearn\\utils\\validation.py:72: DataConversionWarning: A column-vector y was passed when a 1d array was expected. Please change the shape of y to (n_samples, ), for example using ravel().\n",
      "  return f(**kwargs)\n",
      "C:\\Users\\Malik computer\\anaconda3\\lib\\site-packages\\sklearn\\utils\\validation.py:72: DataConversionWarning: A column-vector y was passed when a 1d array was expected. Please change the shape of y to (n_samples, ), for example using ravel().\n",
      "  return f(**kwargs)\n"
     ]
    },
    {
     "name": "stdout",
     "output_type": "stream",
     "text": [
      "[CV]  xgbregressor__reg_lambda=0.3, xgbregressor__reg_alpha=0.9, xgbregressor__n_estimators=500, xgbregressor__min_child_weight=2.5, xgbregressor__max_depth=6, xgbregressor__learning_rate=0.03, xgbregressor__gamma=1e-05, xgbregressor__booster=dart, svr__tol=0.0011, svr__kernel=rbf, svr__gamma=9e-05, svr__epsilon=0.011, svr__degree=4, svr__cache_size=185, svr__C=75, meta_regressor__tol=0.0011, meta_regressor__kernel=rbf, meta_regressor__gamma=9e-05, meta_regressor__epsilon=0.011, meta_regressor__degree=4, meta_regressor__cache_size=185, meta_regressor__C=75, lgbmregressor__num_leaves=4, lgbmregressor__n_estimators=600, lgbmregressor__max_depth=3, lgbmregressor__learning_rate=0.02, total=  20.2s\n",
      "[CV] xgbregressor__reg_lambda=0.3, xgbregressor__reg_alpha=0.9, xgbregressor__n_estimators=500, xgbregressor__min_child_weight=2.5, xgbregressor__max_depth=6, xgbregressor__learning_rate=0.03, xgbregressor__gamma=1e-05, xgbregressor__booster=dart, svr__tol=0.0011, svr__kernel=rbf, svr__gamma=9e-05, svr__epsilon=0.011, svr__degree=4, svr__cache_size=185, svr__C=75, meta_regressor__tol=0.0011, meta_regressor__kernel=rbf, meta_regressor__gamma=9e-05, meta_regressor__epsilon=0.011, meta_regressor__degree=4, meta_regressor__cache_size=185, meta_regressor__C=75, lgbmregressor__num_leaves=4, lgbmregressor__n_estimators=600, lgbmregressor__max_depth=3, lgbmregressor__learning_rate=0.02 \n"
     ]
    },
    {
     "name": "stderr",
     "output_type": "stream",
     "text": [
      "C:\\Users\\Malik computer\\anaconda3\\lib\\site-packages\\sklearn\\utils\\validation.py:72: DataConversionWarning: A column-vector y was passed when a 1d array was expected. Please change the shape of y to (n_samples, ), for example using ravel().\n",
      "  return f(**kwargs)\n",
      "C:\\Users\\Malik computer\\anaconda3\\lib\\site-packages\\sklearn\\utils\\validation.py:72: DataConversionWarning: A column-vector y was passed when a 1d array was expected. Please change the shape of y to (n_samples, ), for example using ravel().\n",
      "  return f(**kwargs)\n",
      "C:\\Users\\Malik computer\\anaconda3\\lib\\site-packages\\sklearn\\utils\\validation.py:72: DataConversionWarning: A column-vector y was passed when a 1d array was expected. Please change the shape of y to (n_samples, ), for example using ravel().\n",
      "  return f(**kwargs)\n"
     ]
    },
    {
     "name": "stdout",
     "output_type": "stream",
     "text": [
      "[CV]  xgbregressor__reg_lambda=0.3, xgbregressor__reg_alpha=0.9, xgbregressor__n_estimators=500, xgbregressor__min_child_weight=2.5, xgbregressor__max_depth=6, xgbregressor__learning_rate=0.03, xgbregressor__gamma=1e-05, xgbregressor__booster=dart, svr__tol=0.0011, svr__kernel=rbf, svr__gamma=9e-05, svr__epsilon=0.011, svr__degree=4, svr__cache_size=185, svr__C=75, meta_regressor__tol=0.0011, meta_regressor__kernel=rbf, meta_regressor__gamma=9e-05, meta_regressor__epsilon=0.011, meta_regressor__degree=4, meta_regressor__cache_size=185, meta_regressor__C=75, lgbmregressor__num_leaves=4, lgbmregressor__n_estimators=600, lgbmregressor__max_depth=3, lgbmregressor__learning_rate=0.02, total=  20.1s\n",
      "[CV] xgbregressor__reg_lambda=0.4, xgbregressor__reg_alpha=0.9, xgbregressor__n_estimators=500, xgbregressor__min_child_weight=2.5, xgbregressor__max_depth=4, xgbregressor__learning_rate=0.01, xgbregressor__gamma=1e-05, xgbregressor__booster=dart, svr__tol=0.0011, svr__kernel=rbf, svr__gamma=9e-05, svr__epsilon=0.011, svr__degree=4, svr__cache_size=185, svr__C=75, meta_regressor__tol=0.0011, meta_regressor__kernel=rbf, meta_regressor__gamma=9e-05, meta_regressor__epsilon=0.011, meta_regressor__degree=4, meta_regressor__cache_size=185, meta_regressor__C=75, lgbmregressor__num_leaves=4, lgbmregressor__n_estimators=600, lgbmregressor__max_depth=3, lgbmregressor__learning_rate=0.02 \n"
     ]
    },
    {
     "name": "stderr",
     "output_type": "stream",
     "text": [
      "C:\\Users\\Malik computer\\anaconda3\\lib\\site-packages\\sklearn\\utils\\validation.py:72: DataConversionWarning: A column-vector y was passed when a 1d array was expected. Please change the shape of y to (n_samples, ), for example using ravel().\n",
      "  return f(**kwargs)\n",
      "C:\\Users\\Malik computer\\anaconda3\\lib\\site-packages\\sklearn\\utils\\validation.py:72: DataConversionWarning: A column-vector y was passed when a 1d array was expected. Please change the shape of y to (n_samples, ), for example using ravel().\n",
      "  return f(**kwargs)\n",
      "C:\\Users\\Malik computer\\anaconda3\\lib\\site-packages\\sklearn\\utils\\validation.py:72: DataConversionWarning: A column-vector y was passed when a 1d array was expected. Please change the shape of y to (n_samples, ), for example using ravel().\n",
      "  return f(**kwargs)\n"
     ]
    },
    {
     "name": "stdout",
     "output_type": "stream",
     "text": [
      "[CV]  xgbregressor__reg_lambda=0.4, xgbregressor__reg_alpha=0.9, xgbregressor__n_estimators=500, xgbregressor__min_child_weight=2.5, xgbregressor__max_depth=4, xgbregressor__learning_rate=0.01, xgbregressor__gamma=1e-05, xgbregressor__booster=dart, svr__tol=0.0011, svr__kernel=rbf, svr__gamma=9e-05, svr__epsilon=0.011, svr__degree=4, svr__cache_size=185, svr__C=75, meta_regressor__tol=0.0011, meta_regressor__kernel=rbf, meta_regressor__gamma=9e-05, meta_regressor__epsilon=0.011, meta_regressor__degree=4, meta_regressor__cache_size=185, meta_regressor__C=75, lgbmregressor__num_leaves=4, lgbmregressor__n_estimators=600, lgbmregressor__max_depth=3, lgbmregressor__learning_rate=0.02, total=  13.9s\n",
      "[CV] xgbregressor__reg_lambda=0.4, xgbregressor__reg_alpha=0.9, xgbregressor__n_estimators=500, xgbregressor__min_child_weight=2.5, xgbregressor__max_depth=4, xgbregressor__learning_rate=0.01, xgbregressor__gamma=1e-05, xgbregressor__booster=dart, svr__tol=0.0011, svr__kernel=rbf, svr__gamma=9e-05, svr__epsilon=0.011, svr__degree=4, svr__cache_size=185, svr__C=75, meta_regressor__tol=0.0011, meta_regressor__kernel=rbf, meta_regressor__gamma=9e-05, meta_regressor__epsilon=0.011, meta_regressor__degree=4, meta_regressor__cache_size=185, meta_regressor__C=75, lgbmregressor__num_leaves=4, lgbmregressor__n_estimators=600, lgbmregressor__max_depth=3, lgbmregressor__learning_rate=0.02 \n"
     ]
    },
    {
     "name": "stderr",
     "output_type": "stream",
     "text": [
      "C:\\Users\\Malik computer\\anaconda3\\lib\\site-packages\\sklearn\\utils\\validation.py:72: DataConversionWarning: A column-vector y was passed when a 1d array was expected. Please change the shape of y to (n_samples, ), for example using ravel().\n",
      "  return f(**kwargs)\n",
      "C:\\Users\\Malik computer\\anaconda3\\lib\\site-packages\\sklearn\\utils\\validation.py:72: DataConversionWarning: A column-vector y was passed when a 1d array was expected. Please change the shape of y to (n_samples, ), for example using ravel().\n",
      "  return f(**kwargs)\n",
      "C:\\Users\\Malik computer\\anaconda3\\lib\\site-packages\\sklearn\\utils\\validation.py:72: DataConversionWarning: A column-vector y was passed when a 1d array was expected. Please change the shape of y to (n_samples, ), for example using ravel().\n",
      "  return f(**kwargs)\n"
     ]
    },
    {
     "name": "stdout",
     "output_type": "stream",
     "text": [
      "[CV]  xgbregressor__reg_lambda=0.4, xgbregressor__reg_alpha=0.9, xgbregressor__n_estimators=500, xgbregressor__min_child_weight=2.5, xgbregressor__max_depth=4, xgbregressor__learning_rate=0.01, xgbregressor__gamma=1e-05, xgbregressor__booster=dart, svr__tol=0.0011, svr__kernel=rbf, svr__gamma=9e-05, svr__epsilon=0.011, svr__degree=4, svr__cache_size=185, svr__C=75, meta_regressor__tol=0.0011, meta_regressor__kernel=rbf, meta_regressor__gamma=9e-05, meta_regressor__epsilon=0.011, meta_regressor__degree=4, meta_regressor__cache_size=185, meta_regressor__C=75, lgbmregressor__num_leaves=4, lgbmregressor__n_estimators=600, lgbmregressor__max_depth=3, lgbmregressor__learning_rate=0.02, total=  14.1s\n",
      "[CV] xgbregressor__reg_lambda=0.4, xgbregressor__reg_alpha=0.9, xgbregressor__n_estimators=500, xgbregressor__min_child_weight=2.5, xgbregressor__max_depth=4, xgbregressor__learning_rate=0.01, xgbregressor__gamma=1e-05, xgbregressor__booster=dart, svr__tol=0.0011, svr__kernel=rbf, svr__gamma=9e-05, svr__epsilon=0.011, svr__degree=4, svr__cache_size=185, svr__C=75, meta_regressor__tol=0.0011, meta_regressor__kernel=rbf, meta_regressor__gamma=9e-05, meta_regressor__epsilon=0.011, meta_regressor__degree=4, meta_regressor__cache_size=185, meta_regressor__C=75, lgbmregressor__num_leaves=4, lgbmregressor__n_estimators=600, lgbmregressor__max_depth=3, lgbmregressor__learning_rate=0.02 \n"
     ]
    },
    {
     "name": "stderr",
     "output_type": "stream",
     "text": [
      "C:\\Users\\Malik computer\\anaconda3\\lib\\site-packages\\sklearn\\utils\\validation.py:72: DataConversionWarning: A column-vector y was passed when a 1d array was expected. Please change the shape of y to (n_samples, ), for example using ravel().\n",
      "  return f(**kwargs)\n",
      "C:\\Users\\Malik computer\\anaconda3\\lib\\site-packages\\sklearn\\utils\\validation.py:72: DataConversionWarning: A column-vector y was passed when a 1d array was expected. Please change the shape of y to (n_samples, ), for example using ravel().\n",
      "  return f(**kwargs)\n",
      "C:\\Users\\Malik computer\\anaconda3\\lib\\site-packages\\sklearn\\utils\\validation.py:72: DataConversionWarning: A column-vector y was passed when a 1d array was expected. Please change the shape of y to (n_samples, ), for example using ravel().\n",
      "  return f(**kwargs)\n"
     ]
    },
    {
     "name": "stdout",
     "output_type": "stream",
     "text": [
      "[CV]  xgbregressor__reg_lambda=0.4, xgbregressor__reg_alpha=0.9, xgbregressor__n_estimators=500, xgbregressor__min_child_weight=2.5, xgbregressor__max_depth=4, xgbregressor__learning_rate=0.01, xgbregressor__gamma=1e-05, xgbregressor__booster=dart, svr__tol=0.0011, svr__kernel=rbf, svr__gamma=9e-05, svr__epsilon=0.011, svr__degree=4, svr__cache_size=185, svr__C=75, meta_regressor__tol=0.0011, meta_regressor__kernel=rbf, meta_regressor__gamma=9e-05, meta_regressor__epsilon=0.011, meta_regressor__degree=4, meta_regressor__cache_size=185, meta_regressor__C=75, lgbmregressor__num_leaves=4, lgbmregressor__n_estimators=600, lgbmregressor__max_depth=3, lgbmregressor__learning_rate=0.02, total=  14.9s\n",
      "[CV] xgbregressor__reg_lambda=0.4, xgbregressor__reg_alpha=0.9, xgbregressor__n_estimators=500, xgbregressor__min_child_weight=2.5, xgbregressor__max_depth=4, xgbregressor__learning_rate=0.01, xgbregressor__gamma=1e-05, xgbregressor__booster=dart, svr__tol=0.0011, svr__kernel=rbf, svr__gamma=9e-05, svr__epsilon=0.011, svr__degree=4, svr__cache_size=185, svr__C=75, meta_regressor__tol=0.0011, meta_regressor__kernel=rbf, meta_regressor__gamma=9e-05, meta_regressor__epsilon=0.011, meta_regressor__degree=4, meta_regressor__cache_size=185, meta_regressor__C=75, lgbmregressor__num_leaves=4, lgbmregressor__n_estimators=600, lgbmregressor__max_depth=3, lgbmregressor__learning_rate=0.02 \n"
     ]
    },
    {
     "name": "stderr",
     "output_type": "stream",
     "text": [
      "C:\\Users\\Malik computer\\anaconda3\\lib\\site-packages\\sklearn\\utils\\validation.py:72: DataConversionWarning: A column-vector y was passed when a 1d array was expected. Please change the shape of y to (n_samples, ), for example using ravel().\n",
      "  return f(**kwargs)\n",
      "C:\\Users\\Malik computer\\anaconda3\\lib\\site-packages\\sklearn\\utils\\validation.py:72: DataConversionWarning: A column-vector y was passed when a 1d array was expected. Please change the shape of y to (n_samples, ), for example using ravel().\n",
      "  return f(**kwargs)\n",
      "C:\\Users\\Malik computer\\anaconda3\\lib\\site-packages\\sklearn\\utils\\validation.py:72: DataConversionWarning: A column-vector y was passed when a 1d array was expected. Please change the shape of y to (n_samples, ), for example using ravel().\n",
      "  return f(**kwargs)\n"
     ]
    },
    {
     "name": "stdout",
     "output_type": "stream",
     "text": [
      "[CV]  xgbregressor__reg_lambda=0.4, xgbregressor__reg_alpha=0.9, xgbregressor__n_estimators=500, xgbregressor__min_child_weight=2.5, xgbregressor__max_depth=4, xgbregressor__learning_rate=0.01, xgbregressor__gamma=1e-05, xgbregressor__booster=dart, svr__tol=0.0011, svr__kernel=rbf, svr__gamma=9e-05, svr__epsilon=0.011, svr__degree=4, svr__cache_size=185, svr__C=75, meta_regressor__tol=0.0011, meta_regressor__kernel=rbf, meta_regressor__gamma=9e-05, meta_regressor__epsilon=0.011, meta_regressor__degree=4, meta_regressor__cache_size=185, meta_regressor__C=75, lgbmregressor__num_leaves=4, lgbmregressor__n_estimators=600, lgbmregressor__max_depth=3, lgbmregressor__learning_rate=0.02, total=  15.6s\n",
      "[CV] xgbregressor__reg_lambda=0.4, xgbregressor__reg_alpha=0.9, xgbregressor__n_estimators=500, xgbregressor__min_child_weight=2.5, xgbregressor__max_depth=4, xgbregressor__learning_rate=0.01, xgbregressor__gamma=1e-05, xgbregressor__booster=dart, svr__tol=0.0011, svr__kernel=rbf, svr__gamma=9e-05, svr__epsilon=0.011, svr__degree=4, svr__cache_size=185, svr__C=75, meta_regressor__tol=0.0011, meta_regressor__kernel=rbf, meta_regressor__gamma=9e-05, meta_regressor__epsilon=0.011, meta_regressor__degree=4, meta_regressor__cache_size=185, meta_regressor__C=75, lgbmregressor__num_leaves=4, lgbmregressor__n_estimators=600, lgbmregressor__max_depth=3, lgbmregressor__learning_rate=0.02 \n"
     ]
    },
    {
     "name": "stderr",
     "output_type": "stream",
     "text": [
      "C:\\Users\\Malik computer\\anaconda3\\lib\\site-packages\\sklearn\\utils\\validation.py:72: DataConversionWarning: A column-vector y was passed when a 1d array was expected. Please change the shape of y to (n_samples, ), for example using ravel().\n",
      "  return f(**kwargs)\n",
      "C:\\Users\\Malik computer\\anaconda3\\lib\\site-packages\\sklearn\\utils\\validation.py:72: DataConversionWarning: A column-vector y was passed when a 1d array was expected. Please change the shape of y to (n_samples, ), for example using ravel().\n",
      "  return f(**kwargs)\n",
      "C:\\Users\\Malik computer\\anaconda3\\lib\\site-packages\\sklearn\\utils\\validation.py:72: DataConversionWarning: A column-vector y was passed when a 1d array was expected. Please change the shape of y to (n_samples, ), for example using ravel().\n",
      "  return f(**kwargs)\n"
     ]
    },
    {
     "name": "stdout",
     "output_type": "stream",
     "text": [
      "[CV]  xgbregressor__reg_lambda=0.4, xgbregressor__reg_alpha=0.9, xgbregressor__n_estimators=500, xgbregressor__min_child_weight=2.5, xgbregressor__max_depth=4, xgbregressor__learning_rate=0.01, xgbregressor__gamma=1e-05, xgbregressor__booster=dart, svr__tol=0.0011, svr__kernel=rbf, svr__gamma=9e-05, svr__epsilon=0.011, svr__degree=4, svr__cache_size=185, svr__C=75, meta_regressor__tol=0.0011, meta_regressor__kernel=rbf, meta_regressor__gamma=9e-05, meta_regressor__epsilon=0.011, meta_regressor__degree=4, meta_regressor__cache_size=185, meta_regressor__C=75, lgbmregressor__num_leaves=4, lgbmregressor__n_estimators=600, lgbmregressor__max_depth=3, lgbmregressor__learning_rate=0.02, total=  16.5s\n"
     ]
    },
    {
     "name": "stderr",
     "output_type": "stream",
     "text": [
      "[Parallel(n_jobs=1)]: Done  50 out of  50 | elapsed: 15.1min finished\n",
      "C:\\Users\\Malik computer\\anaconda3\\lib\\site-packages\\sklearn\\utils\\validation.py:72: DataConversionWarning: A column-vector y was passed when a 1d array was expected. Please change the shape of y to (n_samples, ), for example using ravel().\n",
      "  return f(**kwargs)\n",
      "C:\\Users\\Malik computer\\anaconda3\\lib\\site-packages\\sklearn\\utils\\validation.py:72: DataConversionWarning: A column-vector y was passed when a 1d array was expected. Please change the shape of y to (n_samples, ), for example using ravel().\n",
      "  return f(**kwargs)\n",
      "C:\\Users\\Malik computer\\anaconda3\\lib\\site-packages\\sklearn\\utils\\validation.py:72: DataConversionWarning: A column-vector y was passed when a 1d array was expected. Please change the shape of y to (n_samples, ), for example using ravel().\n",
      "  return f(**kwargs)\n"
     ]
    },
    {
     "name": "stdout",
     "output_type": "stream",
     "text": [
      "{'xgbregressor__reg_lambda': 0.3, 'xgbregressor__reg_alpha': 0.9, 'xgbregressor__n_estimators': 500, 'xgbregressor__min_child_weight': 2.5, 'xgbregressor__max_depth': 6, 'xgbregressor__learning_rate': 0.03, 'xgbregressor__gamma': 1e-05, 'xgbregressor__booster': 'dart', 'svr__tol': 0.0011, 'svr__kernel': 'rbf', 'svr__gamma': 9e-05, 'svr__epsilon': 0.011, 'svr__degree': 4, 'svr__cache_size': 185, 'svr__C': 75, 'meta_regressor__tol': 0.0011, 'meta_regressor__kernel': 'rbf', 'meta_regressor__gamma': 9e-05, 'meta_regressor__epsilon': 0.011, 'meta_regressor__degree': 4, 'meta_regressor__cache_size': 185, 'meta_regressor__C': 75, 'lgbmregressor__num_leaves': 4, 'lgbmregressor__n_estimators': 600, 'lgbmregressor__max_depth': 3, 'lgbmregressor__learning_rate': 0.02}\n",
      "0.03882779157708666\n"
     ]
    }
   ],
   "source": [
    "params_stack={\n",
    "               'lgbmregressor__learning_rate': [0.01,0.02], 'lgbmregressor__max_depth': [3,4],\n",
    "               'lgbmregressor__n_estimators': [500,600], 'lgbmregressor__num_leaves': [4,3],\n",
    "\n",
    "              'xgbregressor__max_depth': [4,6],\n",
    "              'xgbregressor__reg_lambda': [0.4,0.3],\n",
    "              'xgbregressor__reg_alpha': [0.9],\n",
    "              'xgbregressor__n_estimators': [500],\n",
    "              'xgbregressor__min_child_weight': [2.5],\n",
    "              'xgbregressor__learning_rate': [0.01,0.03],\n",
    "              'xgbregressor__gamma': [0.00001],\n",
    "              'xgbregressor__booster': ['dart'], 'svr__C': [75],\n",
    "              'svr__cache_size': [185],\n",
    "              'svr__tol': [0.0011], 'svr__kernel': ['rbf'],'svr__gamma': [0.00009],'svr__epsilon': [0.011],\n",
    "              'svr__degree': [4],\n",
    "              'meta_regressor__C': [75],\n",
    "              'meta_regressor__cache_size': [185],\n",
    "              'meta_regressor__tol': [0.0011],\n",
    "              'meta_regressor__kernel': ['rbf'],\n",
    "              'meta_regressor__gamma': [0.00009],\n",
    "              'meta_regressor__epsilon': [0.011],\n",
    "              'meta_regressor__degree': [4]\n",
    "        }\n",
    "xg_boost=xgboost.XGBRegressor()\n",
    "s_vr=SVR()\n",
    "lgbm=LGBMRegressor()\n",
    "\n",
    "regs=[xg_boost,s_vr,lgbm]\n",
    "\n",
    "stack_reg=StackingRegressor(regressors=regs, meta_regressor=s_vr)\n",
    "\n",
    "stack_gen=RandomizedSearchCV(stack_reg,params_stack,cv=5,refit=True,verbose=2)\n",
    "stack_gen.fit(Data_s_tr.iloc[:,:].values,Y)\n",
    "y_pred14=stack_gen.predict(Data_s_tr.iloc[:,:].values)\n",
    "y_pred4=np.exp(stack_gen.predict(Data_s_te.iloc[:,:].values)).round(2)\n",
    "print(stack_gen.best_params_)\n",
    "print(mean_absolute_error(y_pred14,Y))"
   ]
  },
  {
   "cell_type": "code",
   "execution_count": 133,
   "metadata": {},
   "outputs": [],
   "source": [
    "pred=pd.DataFrame(y_pred4)\n",
    "sub_df=pd.read_csv('sample_submission.csv')\n",
    "datasets=pd.concat([sub_df['Id'],pred],axis=1)\n",
    "datasets.columns=['Id','SalePrice']\n",
    "datasets.to_csv(\"predict.csv\")"
   ]
  },
  {
   "cell_type": "code",
   "execution_count": null,
   "metadata": {},
   "outputs": [],
   "source": []
  }
 ],
 "metadata": {
  "kernelspec": {
   "display_name": "Python 3",
   "language": "python",
   "name": "python3"
  },
  "language_info": {
   "codemirror_mode": {
    "name": "ipython",
    "version": 3
   },
   "file_extension": ".py",
   "mimetype": "text/x-python",
   "name": "python",
   "nbconvert_exporter": "python",
   "pygments_lexer": "ipython3",
   "version": "3.8.5"
  }
 },
 "nbformat": 4,
 "nbformat_minor": 4
}
